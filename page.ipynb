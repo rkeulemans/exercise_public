{
 "cells": [
  {
   "cell_type": "code",
   "execution_count": 2,
   "id": "simple-bachelor",
   "metadata": {},
   "outputs": [],
   "source": [
    "from sympy.matrices import Matrix, eye, zeros, ones, diag, GramSchmidt\n",
    "import sympy as sp\n",
    "import numpy as np\n",
    "from Exercise import Exercise, Page, MarkdownBlock\n",
    "\n",
    "from config import URL, TOKEN\n",
    "\n",
    "Exercise.URL = URL\n",
    "Exercise.TOKEN = TOKEN"
   ]
  },
  {
   "cell_type": "code",
   "execution_count": 8,
   "id": "whole-clinton",
   "metadata": {},
   "outputs": [
    {
     "data": {
      "text/html": [
       "\n",
       "        <iframe\n",
       "            width=\"800\"\n",
       "            height=\"350\"\n",
       "            src=\"https://www.mscthesis.nl/preview?id=d7c258f8-2523-4047-b316-b95a4355cbca\"\n",
       "            frameborder=\"0\"\n",
       "            allowfullscreen\n",
       "        ></iframe>\n",
       "        "
      ],
      "text/plain": [
       "<IPython.lib.display.IFrame at 0x10c928940>"
      ]
     },
     "metadata": {},
     "output_type": "display_data"
    },
    {
     "name": "stdout",
     "output_type": "stream",
     "text": [
      "Published succesfully, preview at: https://www.mscthesis.nl/preview?id=d7c258f8-2523-4047-b316-b95a4355cbca\n",
      "{'id': 'e20e2a5a-635b-4b52-82a8-ae6a3b5f05c9', 'html': '<p>What is $1 + 1$</p>\\n$$1 + 1$$\\n$$\\n\\\\overleftrightarrow{ABC}\\n$$\\n$$\\n\\\\begin{bmatrix}\\n1 &amp; 2 &amp; 3\\\\\\\\\\na &amp; b &amp; c\\n\\\\end{bmatrix}\\n$$\\n$$\\n\\x08egin{bmatrix}\\n1 &amp; 2 &amp; 3\\\\\\na &amp; b &amp; c\\n\\\\end{bmatrix}\\n$$\\n$$\\n\\\\frac{1}{2}\\n$$', 'default_feedback': 'Incorrect, no specific feedback provided matching your answer', 'answers': []}\n"
     ]
    }
   ],
   "source": [
    "s = \"\"\"\n",
    "What is $1 + 1$\n",
    "\n",
    "$$1 + 1$$\n",
    "\n",
    "$$\n",
    "\\overleftrightarrow{ABC}\n",
    "$$\n",
    "\n",
    "$$\n",
    "\\\\begin{bmatrix}\n",
    "1 & 2 & 3\\\\\\\\\n",
    "a & b & c\n",
    "\\\\end{bmatrix}\n",
    "$$\n",
    "\n",
    "$$\n",
    "\\begin{bmatrix}\n",
    "1 & 2 & 3\\\\\n",
    "a & b & c\n",
    "\\end{bmatrix}\n",
    "$$\n",
    "\n",
    "$$\n",
    "\\\\frac{1}{2}\n",
    "$$\n",
    "\n",
    "\"\"\"\n",
    "\n",
    "import re\n",
    "\n",
    "m = MarkdownBlock(s)\n",
    "e = Exercise(m)\n",
    "e.play()\n",
    "e.write()\n",
    "print(e.data)"
   ]
  },
  {
   "cell_type": "code",
   "execution_count": 18,
   "id": "grateful-investigator",
   "metadata": {},
   "outputs": [
    {
     "data": {
      "text/html": [
       "\n",
       "        <iframe\n",
       "            width=\"800\"\n",
       "            height=\"350\"\n",
       "            src=\"https://www.mscthesis.nl/preview?id=751d6993-540d-4baa-b6a8-cb50a6633b5e\"\n",
       "            frameborder=\"0\"\n",
       "            allowfullscreen\n",
       "        ></iframe>\n",
       "        "
      ],
      "text/plain": [
       "<IPython.lib.display.IFrame at 0x115832d90>"
      ]
     },
     "metadata": {},
     "output_type": "display_data"
    },
    {
     "name": "stdout",
     "output_type": "stream",
     "text": [
      "Published succesfully, preview at: https://www.mscthesis.nl/preview?id=751d6993-540d-4baa-b6a8-cb50a6633b5e\n"
     ]
    }
   ],
   "source": [
    "Exercise(\"hello\").play)"
   ]
  },
  {
   "cell_type": "code",
   "execution_count": 13,
   "id": "fifty-cross",
   "metadata": {},
   "outputs": [],
   "source": [
    "# direct-binding\n",
    "x = []\n",
    "for i in range(5):\n",
    "    x.append((MarkdownBlock(\"###Header only\"), [Exercise(f\"Exercise {i},{j}\") for j in range(3)]))"
   ]
  },
  {
   "cell_type": "code",
   "execution_count": 16,
   "id": "imperial-content",
   "metadata": {},
   "outputs": [
    {
     "data": {
      "text/plain": [
       "{'title': 'page_title',\n",
       " 'content': [('textblock_id_0', ['exercise_id_0', 'exercise_id_1']),\n",
       "  ('textblock_id_1', ['exercise_id_2', 'exercise_id_3'])]}"
      ]
     },
     "execution_count": 16,
     "metadata": {},
     "output_type": "execute_result"
    }
   ],
   "source": [
    "# with reference-binding, 1 page (subsection)\n",
    "{\"title\": \"page_title\", \"content\": [(\"textblock_id_0\", [\"exercise_id_0\", \"exercise_id_1\"]), (\"textblock_id_1\", [\"exercise_id_2\", \"exercise_id_3\"])]}"
   ]
  },
  {
   "cell_type": "code",
   "execution_count": null,
   "id": "compressed-testimony",
   "metadata": {},
   "outputs": [],
   "source": [
    "# with reference-binding, multi-page (section)\n",
    "{\"title\": \"section_0\", \"subsections\": [\"subsection_ref_id_0\", \"subsection_ref_id_1\"]}\n",
    "\n",
    "# Book / Course / Learning module\n",
    "{\n",
    "    \"title\": \"Applied Linear Algebra for Machine Learning\",\n",
    "    \"chapters\": [\n",
    "        {\"title\": \"Elementary mathematical objects and operations\",\n",
    "        \"sections\": [{\n",
    "            \"title\": \"Scalar, Vector, Matrix\",\n",
    "            \"subsections\"]}\n",
    "    ]\n",
    "}\n",
    "        \n",
    "- \"Applied Linear Algebra for Machine Learning\"\n",
    "    - \"Chapter 1: Basic data types and operations\"\n",
    "        \"Section 1: ...\""
   ]
  }
 ],
 "metadata": {
  "kernelspec": {
   "display_name": "exercise",
   "language": "python",
   "name": "exercise"
  },
  "language_info": {
   "codemirror_mode": {
    "name": "ipython",
    "version": 3
   },
   "file_extension": ".py",
   "mimetype": "text/x-python",
   "name": "python",
   "nbconvert_exporter": "python",
   "pygments_lexer": "ipython3",
   "version": "3.9.2"
  }
 },
 "nbformat": 4,
 "nbformat_minor": 5
}
