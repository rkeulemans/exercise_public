{
 "cells": [
  {
   "cell_type": "code",
   "execution_count": 17,
   "id": "conceptual-appearance",
   "metadata": {},
   "outputs": [],
   "source": [
    "from sympy.matrices import Matrix, eye, zeros, ones, diag, GramSchmidt\n",
    "import sympy as sp\n",
    "import numpy as np\n",
    "from Exercise import Exercise, Page, MarkdownBlock\n",
    "\n",
    "from config import URL, TOKEN\n",
    "\n",
    "Exercise.URL = URL\n",
    "Exercise.TOKEN = TOKEN"
   ]
  },
  {
   "cell_type": "code",
   "execution_count": 18,
   "id": "integrated-torture",
   "metadata": {},
   "outputs": [
    {
     "data": {
      "text/html": [
       "\n",
       "        <iframe\n",
       "            width=\"800\"\n",
       "            height=\"350\"\n",
       "            src=\"https://www.mscthesis.nl/preview?id=751d6993-540d-4baa-b6a8-cb50a6633b5e\"\n",
       "            frameborder=\"0\"\n",
       "            allowfullscreen\n",
       "        ></iframe>\n",
       "        "
      ],
      "text/plain": [
       "<IPython.lib.display.IFrame at 0x115832d90>"
      ]
     },
     "metadata": {},
     "output_type": "display_data"
    },
    {
     "name": "stdout",
     "output_type": "stream",
     "text": [
      "Published succesfully, preview at: https://www.mscthesis.nl/preview?id=751d6993-540d-4baa-b6a8-cb50a6633b5e\n"
     ]
    }
   ],
   "source": [
    "Exercise(\"hello\").play()"
   ]
  },
  {
   "cell_type": "code",
   "execution_count": 13,
   "id": "threatened-shift",
   "metadata": {},
   "outputs": [],
   "source": [
    "# direct-binding\n",
    "x = []\n",
    "for i in range(5):\n",
    "    x.append((MarkdownBlock(\"###Header only\"), [Exercise(f\"Exercise {i},{j}\") for j in range(3)]))"
   ]
  },
  {
   "cell_type": "code",
   "execution_count": 16,
   "id": "prompt-airfare",
   "metadata": {},
   "outputs": [
    {
     "data": {
      "text/plain": [
       "{'title': 'page_title',\n",
       " 'content': [('textblock_id_0', ['exercise_id_0', 'exercise_id_1']),\n",
       "  ('textblock_id_1', ['exercise_id_2', 'exercise_id_3'])]}"
      ]
     },
     "execution_count": 16,
     "metadata": {},
     "output_type": "execute_result"
    }
   ],
   "source": [
    "# with reference-binding, 1 page (subsection)\n",
    "{\"title\": \"page_title\", \"content\": [(\"textblock_id_0\", [\"exercise_id_0\", \"exercise_id_1\"]), (\"textblock_id_1\", [\"exercise_id_2\", \"exercise_id_3\"])]}"
   ]
  },
  {
   "cell_type": "code",
   "execution_count": null,
   "id": "mysterious-business",
   "metadata": {},
   "outputs": [],
   "source": [
    "# with reference-binding, multi-page (section)\n",
    "{\"title\": \"section_0\", \"subsections\": [\"subsection_ref_id_0\", \"subsection_ref_id_1\"]}\n",
    "\n",
    "# Book / Course / Learning module\n",
    "{\n",
    "    \"title\": \"Applied Linear Algebra for Machine Learning\",\n",
    "    \"chapters\": [\n",
    "        {\"title\": \"Elementary mathematical objects and operations\",\n",
    "        \"sections\": [{\n",
    "            \"title\": \"Scalar, Vector, Matrix\",\n",
    "            \"subsections\"]}\n",
    "    ]\n",
    "}\n",
    "        \n",
    "- \"Applied Linear Algebra for Machine Learning\"\n",
    "    - \"Chapter 1: Basic data types and operations\"\n",
    "        \"Section 1: ...\""
   ]
  }
 ],
 "metadata": {
  "kernelspec": {
   "display_name": "exercise",
   "language": "python",
   "name": "exercise"
  },
  "language_info": {
   "codemirror_mode": {
    "name": "ipython",
    "version": 3
   },
   "file_extension": ".py",
   "mimetype": "text/x-python",
   "name": "python",
   "nbconvert_exporter": "python",
   "pygments_lexer": "ipython3",
   "version": "3.9.2"
  }
 },
 "nbformat": 4,
 "nbformat_minor": 5
}
