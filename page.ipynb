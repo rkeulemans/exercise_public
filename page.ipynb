{
 "cells": [
  {
   "cell_type": "code",
   "execution_count": 2,
   "id": "amateur-directory",
   "metadata": {},
   "outputs": [],
   "source": [
    "from sympy.matrices import Matrix, eye, zeros, ones, diag, GramSchmidt\n",
    "import sympy as sp\n",
    "import numpy as np\n",
    "from Exercise import Exercise, Page, MarkdownBlock\n",
    "\n",
    "from config import URL, TOKEN\n",
    "\n",
    "Exercise.URL = URL\n",
    "Exercise.TOKEN = TOKEN"
   ]
  },
  {
   "cell_type": "code",
   "execution_count": 5,
   "id": "arctic-anthropology",
   "metadata": {},
   "outputs": [
    {
     "data": {
      "text/html": [
       "\n",
       "        <iframe\n",
       "            width=\"800\"\n",
       "            height=\"350\"\n",
       "            src=\"https://www.mscthesis.nl/preview?id=d3d6ac37-411c-49a5-81cc-a5697179431f\"\n",
       "            frameborder=\"0\"\n",
       "            allowfullscreen\n",
       "        ></iframe>\n",
       "        "
      ],
      "text/plain": [
       "<IPython.lib.display.IFrame at 0x10d427820>"
      ]
     },
     "metadata": {},
     "output_type": "display_data"
    },
    {
     "name": "stdout",
     "output_type": "stream",
     "text": [
      "Published succesfully, preview at: https://www.mscthesis.nl/preview?id=d3d6ac37-411c-49a5-81cc-a5697179431f\n",
      "{'id': '21036cf5-78b9-47a5-8952-d88e1453af88', 'html': '<h2 id=\"heading\">Heading</h2>\\n<p>What is $1 + 1$</p>\\n$$1 + 1$$\\n$$\\n\\\\overleftrightarrow{ABC}\\n$$\\n$$\\n\\\\begin{bmatrix}\\n1 &amp; 2 &amp; 3\\\\\\\\\\na &amp; b &amp; c\\n\\\\end{bmatrix}\\n$$\\n$$\\n\\\\frac{1}{2}\\n$$', 'default_feedback': 'Incorrect, no specific feedback provided matching your answer', 'answers': []}\n"
     ]
    }
   ],
   "source": [
    "# Note: must use raw string here to escape backslashes\n",
    "s = r\"\"\"\n",
    "##Heading\n",
    "\n",
    "What is $1 + 1$\n",
    "\n",
    "$$1 + 1$$\n",
    "\n",
    "$$\n",
    "\\overleftrightarrow{ABC}\n",
    "$$\n",
    "\n",
    "$$\n",
    "\\begin{bmatrix}\n",
    "1 & 2 & 3\\\\\n",
    "a & b & c\n",
    "\\end{bmatrix}\n",
    "$$\n",
    "\n",
    "$$\n",
    "\\frac{1}{2}\n",
    "$$\n",
    "\n",
    "\"\"\"\n",
    "\n",
    "import re\n",
    "\n",
    "m = MarkdownBlock(s)\n",
    "e = Exercise(m)\n",
    "e.play()\n",
    "e.write(\"test\")\n",
    "print(e.data)"
   ]
  },
  {
   "cell_type": "code",
   "execution_count": 3,
   "id": "russian-dover",
   "metadata": {},
   "outputs": [
    {
     "ename": "SyntaxError",
     "evalue": "unmatched ')' (<ipython-input-3-221d403d92ad>, line 1)",
     "output_type": "error",
     "traceback": [
      "\u001b[0;36m  File \u001b[0;32m\"<ipython-input-3-221d403d92ad>\"\u001b[0;36m, line \u001b[0;32m1\u001b[0m\n\u001b[0;31m    Exercise(\"hello\").play)\u001b[0m\n\u001b[0m                          ^\u001b[0m\n\u001b[0;31mSyntaxError\u001b[0m\u001b[0;31m:\u001b[0m unmatched ')'\n"
     ]
    }
   ],
   "source": [
    "Exercise(\"hello\").play)"
   ]
  },
  {
   "cell_type": "code",
   "execution_count": null,
   "id": "unknown-athletics",
   "metadata": {},
   "outputs": [],
   "source": [
    "# direct-binding\n",
    "x = []\n",
    "for i in range(5):\n",
    "    x.append((MarkdownBlock(\"###Header only\"), [Exercise(f\"Exercise {i},{j}\") for j in range(3)]))"
   ]
  },
  {
   "cell_type": "code",
   "execution_count": null,
   "id": "electrical-packet",
   "metadata": {},
   "outputs": [],
   "source": [
    "# with reference-binding, 1 page (subsection)\n",
    "{\"title\": \"page_title\", \"content\": [(\"textblock_id_0\", [\"exercise_id_0\", \"exercise_id_1\"]), (\"textblock_id_1\", [\"exercise_id_2\", \"exercise_id_3\"])]}"
   ]
  },
  {
   "cell_type": "code",
   "execution_count": null,
   "id": "piano-quantity",
   "metadata": {},
   "outputs": [],
   "source": [
    "# with reference-binding, multi-page (section)\n",
    "{\"title\": \"section_0\", \"subsections\": [\"subsection_ref_id_0\", \"subsection_ref_id_1\"]}\n",
    "\n",
    "# Book / Course / Learning module\n",
    "{\n",
    "    \"title\": \"Applied Linear Algebra for Machine Learning\",\n",
    "    \"chapters\": [\n",
    "        {\"title\": \"Elementary mathematical objects and operations\",\n",
    "        \"sections\": [{\n",
    "            \"title\": \"Scalar, Vector, Matrix\",\n",
    "            \"subsections\"]}\n",
    "    ]\n",
    "}\n",
    "        \n",
    "- \"Applied Linear Algebra for Machine Learning\"\n",
    "    - \"Chapter 1: Basic data types and operations\"\n",
    "        \"Section 1: ...\""
   ]
  },
  {
   "cell_type": "code",
   "execution_count": 11,
   "id": "preceding-nursery",
   "metadata": {},
   "outputs": [],
   "source": [
    "s = r\"\"\"\n",
    "##Problem Overview\n",
    "Some text here...\n",
    "\n",
    "Lorem Ipsum is simply dummy text of the printing and typesetting industry. Lorem Ipsum has been the industry's standard dummy text ever since the 1500s, when an unknown printer took a galley of type and scrambled it to make a type specimen book. It has survived not only five centuries, but also the leap into electronic typesetting, remaining essentially unchanged. It was popularised in the 1960s with the release of Letraset sheets containing Lorem Ipsum passages, and more recently with desktop publishing software like Aldus PageMaker including versions of Lorem Ipsum.\n",
    "Lorem Ipsum is simply dummy text of the printing and typesetting industry. Lorem Ipsum has been the industry's standard dummy text ever since the 1500s, when an unknown printer took a galley of type and scrambled it to make a type specimen book. It has survived not only five centuries, but also the leap into electronic typesetting, remaining essentially unchanged. It was popularised in the 1960s with the release of Letraset sheets containing Lorem Ipsum passages, and more recently with desktop publishing software like Aldus PageMaker including versions of Lorem Ipsum.\n",
    "\n",
    "\"\"\"\n",
    "\n",
    "m = MarkdownBlock(s)\n",
    "m.write(\"Problem Overview\")\n",
    "\n",
    "s = r\"\"\"\n",
    "##The MNIST Dataset\n",
    "\n",
    "Lorem Ipsum is simply dummy text of the printing and typesetting industry. Lorem Ipsum has been the industry's standard dummy text ever since the 1500s, when an unknown printer took a galley of type and scrambled it to make a type specimen book. It has survived not only five centuries, but also the leap into electronic typesetting, remaining essentially unchanged. It was popularised in the 1960s with the release of Letraset sheets containing Lorem Ipsum passages, and more recently with desktop publishing software like Aldus PageMaker including versions of Lorem Ipsum.\n",
    "Lorem Ipsum is simply dummy text of the printing and typesetting industry. Lorem Ipsum has been the industry's standard dummy text ever since the 1500s, when an unknown printer took a galley of type and scrambled it to make a type specimen book. It has survived not only five centuries, but also the leap into electronic typesetting, remaining essentially unchanged. It was popularised in the 1960s with the release of Letraset sheets containing Lorem Ipsum passages, and more recently with desktop publishing software like Aldus PageMaker including versions of Lorem Ipsum.\n",
    "\n",
    "<p align=\"center\">\n",
    "    <img src=\"learning_material/all_digits.png\" alt=\"\" width=\"700\"/>\n",
    "    <span class=\"img_caption\" style=\"display: block; text-align: center;\">Examples of hand-written digits</span>\n",
    "</p>\n",
    "\"\"\"\n",
    "\n",
    "m = MarkdownBlock(s)\n",
    "m.write(\"The MNIST Dataset\")\n",
    "\n",
    "s = r\"\"\"\n",
    "##Problem Formalization\n",
    "\n",
    "Lorem Ipsum is simply dummy text of the printing and typesetting industry. Lorem Ipsum has been the industry's standard dummy text ever since the 1500s, when an unknown printer took a galley of type and scrambled it to make a type specimen book. It has survived not only five centuries, but also the leap into electronic typesetting, remaining essentially unchanged. It was popularised in the 1960s with the release of Letraset sheets containing Lorem Ipsum passages, and more recently with desktop publishing software like Aldus PageMaker including versions of Lorem Ipsum.\n",
    "Lorem Ipsum is simply dummy text of the printing and typesetting industry. Lorem Ipsum has been the industry's standard dummy text ever since the 1500s, when an unknown printer took a galley of type and scrambled it to make a type specimen book. It has survived not only five centuries, but also the leap into electronic typesetting, remaining essentially unchanged. It was popularised in the 1960s with the release of Letraset sheets containing Lorem Ipsum passages, and more recently with desktop publishing software like Aldus PageMaker including versions of Lorem Ipsum.\n",
    "\n",
    "<p align=\"center\">\n",
    "    <img src=\"learning_material/all_digits.png\" alt=\"\" width=\"700\"/>\n",
    "    <span class=\"img_caption\" style=\"display: block; text-align: center;\">Examples of hand-written digits</span>\n",
    "</p>\n",
    "\"\"\"\n",
    "\n",
    "m = MarkdownBlock(s)\n",
    "m.write(\"Problem Formalization\")\n",
    "\n",
    "e = Exercise(\"What is $1 + 1$?\")\n",
    "e.add_answer(2, True, \"Yes!\")\n",
    "e.write(\"add1\")\n",
    "e.write(\"add2\")\n",
    "e.write(\"add3\")"
   ]
  },
  {
   "cell_type": "code",
   "execution_count": null,
   "id": "decent-connectivity",
   "metadata": {},
   "outputs": [],
   "source": []
  }
 ],
 "metadata": {
  "kernelspec": {
   "display_name": "exercise",
   "language": "python",
   "name": "exercise"
  },
  "language_info": {
   "codemirror_mode": {
    "name": "ipython",
    "version": 3
   },
   "file_extension": ".py",
   "mimetype": "text/x-python",
   "name": "python",
   "nbconvert_exporter": "python",
   "pygments_lexer": "ipython3",
   "version": "3.9.4"
  }
 },
 "nbformat": 4,
 "nbformat_minor": 5
}
