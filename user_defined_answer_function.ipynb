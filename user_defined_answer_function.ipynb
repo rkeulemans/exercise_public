{
 "cells": [
  {
   "cell_type": "code",
   "execution_count": 3,
   "id": "educational-yahoo",
   "metadata": {},
   "outputs": [],
   "source": [
    "from sympy.matrices import Matrix \n",
    "import sympy as sp\n",
    "import numpy as np\n",
    "from Exercise import Exercise, MarkdownBlock\n",
    "\n",
    "from process_latex import process_sympy \n",
    "\n",
    "try:\n",
    "    from config import URL, TOKEN\n",
    "except:\n",
    "    None\n",
    "\n",
    "# TODO: replace with supplied strings\n",
    "Exercise.URL = URL\n",
    "Exercise.TOKEN = TOKEN"
   ]
  },
  {
   "cell_type": "code",
   "execution_count": 27,
   "id": "professional-retreat",
   "metadata": {},
   "outputs": [
    {
     "name": "stdout",
     "output_type": "stream",
     "text": [
      "None\n",
      "Hello\n"
     ]
    }
   ],
   "source": [
    "def hello2():\n",
    "    return \"2\"\n",
    "x = None\n",
    "\n",
    "s =\"\"\"\n",
    "def hello(name: str):\n",
    "    print(x)\n",
    "    return f\"Hello\"\n",
    "print(hello(\"x\"))\n",
    "\"\"\"\n",
    "\n",
    "# import inspect\n",
    "# lines = inspect.getsource(hello)\n",
    "# print(lines)\n",
    "# exec?\n",
    "\n",
    "# Note: if any helper functions are used, these should be available in the serverless function file as well!\n",
    "\n",
    "exec(s)"
   ]
  },
  {
   "cell_type": "code",
   "execution_count": null,
   "id": "supported-charger",
   "metadata": {},
   "outputs": [],
   "source": []
  },
  {
   "cell_type": "code",
   "execution_count": null,
   "id": "straight-calculation",
   "metadata": {},
   "outputs": [],
   "source": []
  }
 ],
 "metadata": {
  "kernelspec": {
   "display_name": "exercise",
   "language": "python",
   "name": "exercise"
  },
  "language_info": {
   "codemirror_mode": {
    "name": "ipython",
    "version": 3
   },
   "file_extension": ".py",
   "mimetype": "text/x-python",
   "name": "python",
   "nbconvert_exporter": "python",
   "pygments_lexer": "ipython3",
   "version": "3.9.4"
  }
 },
 "nbformat": 4,
 "nbformat_minor": 5
}
