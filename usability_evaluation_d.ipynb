{
 "cells": [
  {
   "cell_type": "code",
   "execution_count": 1,
   "id": "entitled-houston",
   "metadata": {},
   "outputs": [],
   "source": [
    "from sympy.matrices import Matrix \n",
    "import sympy as sp\n",
    "import numpy as np\n",
    "from Exercise import Exercise, MarkdownBlock\n",
    "\n",
    "try:\n",
    "    from config import URL, TOKEN\n",
    "except:\n",
    "    None\n",
    "\n",
    "# TODO: replace with supplied strings\n",
    "Exercise.URL = \"https://sympy-api.herokuapp.com/post\"\n",
    "Exercise.TOKEN = \"TUDelftExerciseCreationToken\""
   ]
  },
  {
   "cell_type": "markdown",
   "id": "mental-bracket",
   "metadata": {},
   "source": [
    "## Introduction\n",
    "In this notebook, you are about to create some (linear algebra) exercises using the developed `Exercise` Python library aiming to facilitate authoring parameterized mathematics exercises at a high level of abstraction (i.e. access to a scripting language and the libraries available in there, including as SymPy, NumPy and Matplotlib).\n",
    "Created exercises can be 'played' inline, using the web-based player developed as part of this project.\n",
    "Roughly speaking this project is new combination of existing approaches: MEGUA-like parameterized text, SymPy's CAS functionality and exercise-setup as used by Grasple and SageMath for working with mathematical objects in notebooks.\n",
    "\n",
    "The goal is to evaluate the usability of the developed library and the authoring setup (this notebook).\n",
    "Note that by no means you or your skills are being tested, it is by no means a problem if exercises are left uncompleted.\n",
    "Notes, comments and suggestions are very welcome, please write these either as code-comments or in the Markdown cells in the notebook.\n",
    "All feedback will be reported and reflected upon anonymously.\n",
    "Completing the notebook should take about 30 minutes, depending on setup time, prior knowledge about this project, familiarity with linear algebra and the supplied frameworks etc.\n",
    "Please download the notebook when done and send it by email.\n",
    "After completion, in a brief semi-structured interview, you can further elaborate upon your experiences.\n",
    "\n",
    "To start creating exercises, please replace the `URL` and `TOKEN` in the block above with the strings supplied by email:\n",
    "```\n",
    "Exercise.URL = \"<supplied_url_here>\"\n",
    "Exercise.TOKEN = \"<supplied_token_here>\"\n",
    "```\n",
    "\n",
    "Assumptions:\n",
    "- Familiarity with Python, Markdown, LaTeX\n",
    "- Familiarity with Jupyter-Notebook\n",
    "- Familiarity with the very basics of linear algebra\n",
    "\n",
    "Recommendations:\n",
    "- Use Binder (www.mybinder.org) to edit this notebook, if you prefer local setup instead, see README.md.\n",
    "- Use Firefox, the iFrame exercise player embeddings do not work in Chrome or Safari due to global cross-origin policies set by these browsers.\n",
    "- Other browsers (Chrome, Safari) can still be used, however, playing exercises is only possible outside of the notebook by clicking the generated exercise links, which is rather inconvenient.\n",
    "\n",
    "Notes:\n",
    "- Documentation can for the Python library can be found in the `html` directory.\n",
    "- Within Jupyter-Notebook, function documentation can be viewed by writing a `?` after the function, like so: `Exercise(\"What is $1 + 1$?\").add_answer?`\n",
    "- Within exercises, only inline math notation is supported.\n",
    "- Preview-exercises are purged from the server from time to time, don't expect long-term, persistent availability of any played exercises.\n",
    "- Please skip an exercise in case completing it requires more than a few minutes.\n",
    "\n",
    "Happy coding ;)"
   ]
  },
  {
   "cell_type": "markdown",
   "id": "american-rating",
   "metadata": {},
   "source": [
    "## Exercise Basics\n",
    "The most basic exercise contains a Markdown string with the exercise content and a single answer rule specifying the correct answer.\n",
    "Mathematics notation can be written inline in LaTeX between dollar signs."
   ]
  },
  {
   "cell_type": "code",
   "execution_count": 2,
   "id": "unauthorized-overall",
   "metadata": {},
   "outputs": [
    {
     "data": {
      "text/html": [
       "\n",
       "        <iframe\n",
       "            width=\"800\"\n",
       "            height=\"350\"\n",
       "            src=\"https://www.mscthesis.nl/preview?id=07a796d0-0093-4032-a1d2-f73aa9c9dca6\"\n",
       "            frameborder=\"0\"\n",
       "            allowfullscreen\n",
       "        ></iframe>\n",
       "        "
      ],
      "text/plain": [
       "<IPython.lib.display.IFrame at 0x10f3e3c40>"
      ]
     },
     "metadata": {},
     "output_type": "display_data"
    },
    {
     "name": "stdout",
     "output_type": "stream",
     "text": [
      "Published succesfully, preview at: https://www.mscthesis.nl/preview?id=07a796d0-0093-4032-a1d2-f73aa9c9dca6\n"
     ]
    }
   ],
   "source": [
    "# Create an exercise instance\n",
    "e = Exercise(\"What is $1 + 1$?\")\n",
    "# Add 2 as a correct answer\n",
    "e.add_answer(2, True, \"Correct!\")\n",
    "# Verify that the exercise is working correctly\n",
    "e.play()\n",
    "# Note: as of now, all basic arithmatic is simplified by sp.simplify(...), there is not yet a way to control this behaviour;\n",
    "# therefore writing 1 + 1 in the answer box is accepted correct\n",
    "# Details on what is simplified: https://docs.sympy.org/latest/tutorial/simplification.html"
   ]
  },
  {
   "cell_type": "markdown",
   "id": "billion-criticism",
   "metadata": {},
   "source": [
    "Let's imagine the typical student mistake for this exercise is computing $1 - 1 = 0$ instead.\n",
    "We add an answer rule to catch that error and provide the student with answer-specific feedback."
   ]
  },
  {
   "cell_type": "code",
   "execution_count": 3,
   "id": "tamil-mambo",
   "metadata": {},
   "outputs": [
    {
     "data": {
      "text/html": [
       "\n",
       "        <iframe\n",
       "            width=\"800\"\n",
       "            height=\"350\"\n",
       "            src=\"https://www.mscthesis.nl/preview?id=99168bf9-20fa-4e55-ac00-9a974cd01c57\"\n",
       "            frameborder=\"0\"\n",
       "            allowfullscreen\n",
       "        ></iframe>\n",
       "        "
      ],
      "text/plain": [
       "<IPython.lib.display.IFrame at 0x10f3efe20>"
      ]
     },
     "metadata": {},
     "output_type": "display_data"
    },
    {
     "name": "stdout",
     "output_type": "stream",
     "text": [
      "Published succesfully, preview at: https://www.mscthesis.nl/preview?id=99168bf9-20fa-4e55-ac00-9a974cd01c57\n"
     ]
    }
   ],
   "source": [
    "e.add_answer(0, False, \"🤔 That's not right, did you compute $1 - 1 = 0$ instead?\")\n",
    "# Verify that the specific feedback is shown\n",
    "e.play()"
   ]
  },
  {
   "cell_type": "markdown",
   "id": "asian-difficulty",
   "metadata": {},
   "source": [
    "### Task 1\n",
    "Create an exercise asking learners to compute $3/3$.\n",
    "Provide answer-specific feedback in case learners compute $3*3$ instead.\n",
    "Add default feedback (using `e.add_default_feedback(...)`) with a link pointing to a source of preference explaining (integer) devision (hint: `[link](www.example.com)`).\n",
    "Feel free to embed your favorite meme or xkcd at a correct/incorrect answer (hint `![img](www.example.com/img)`)."
   ]
  },
  {
   "cell_type": "code",
   "execution_count": 4,
   "id": "loose-seeking",
   "metadata": {},
   "outputs": [
    {
     "data": {
      "text/html": [
       "\n",
       "        <iframe\n",
       "            width=\"800\"\n",
       "            height=\"350\"\n",
       "            src=\"https://www.mscthesis.nl/preview?id=bc41c14b-b730-46ce-83e7-62967ddc0c6e\"\n",
       "            frameborder=\"0\"\n",
       "            allowfullscreen\n",
       "        ></iframe>\n",
       "        "
      ],
      "text/plain": [
       "<IPython.lib.display.IFrame at 0x1030de070>"
      ]
     },
     "metadata": {},
     "output_type": "display_data"
    },
    {
     "name": "stdout",
     "output_type": "stream",
     "text": [
      "Published succesfully, preview at: https://www.mscthesis.nl/preview?id=bc41c14b-b730-46ce-83e7-62967ddc0c6e\n"
     ]
    }
   ],
   "source": [
    "# Task 1 user code:\n",
    "# Create an exercise instance\n",
    "e = Exercise(\"What is $3/3$?\")\n",
    "# Add 1 as a correct answer\n",
    "e.add_answer(1, True, \"Correct!\")\n",
    "e.add_answer(9, False, \"🤔 That's not right, did you compute $3 * 3 = 9$ instead?\")\n",
    "# Verify that the exercise is working correctly\n",
    "e.play()"
   ]
  },
  {
   "cell_type": "markdown",
   "id": "abroad-blocking",
   "metadata": {},
   "source": [
    "## Templating Exercises\n",
    "Exercises can be parameterized/templated (still looking for the correct terminology on this one), this allows for two things:\n",
    "1. Randomization. By making part of the content random, multiple instances can be generated, allowing for repeated practice.\n",
    "2. Abstraction. By utilizing the functionality of SymPy objects to be translated to LaTeX, authoring exercises remains efficient and effective.\n",
    "\n",
    "The integer-exercise can be randomized as follows:"
   ]
  },
  {
   "cell_type": "code",
   "execution_count": 6,
   "id": "endangered-instruction",
   "metadata": {},
   "outputs": [
    {
     "data": {
      "text/html": [
       "\n",
       "        <iframe\n",
       "            width=\"800\"\n",
       "            height=\"350\"\n",
       "            src=\"https://www.mscthesis.nl/preview?id=0b3ba754-2540-478a-930e-e0dd4a6d91e1\"\n",
       "            frameborder=\"0\"\n",
       "            allowfullscreen\n",
       "        ></iframe>\n",
       "        "
      ],
      "text/plain": [
       "<IPython.lib.display.IFrame at 0x10f4042b0>"
      ]
     },
     "metadata": {},
     "output_type": "display_data"
    },
    {
     "name": "stdout",
     "output_type": "stream",
     "text": [
      "Published succesfully, preview at: https://www.mscthesis.nl/preview?id=0b3ba754-2540-478a-930e-e0dd4a6d91e1\n"
     ]
    }
   ],
   "source": [
    "string = \"\"\"\n",
    "### Integer addition\n",
    "\n",
    "Please compute $@a + @b$\n",
    "\"\"\"\n",
    "\n",
    "params = {}\n",
    "# avoid 0 + 0 instance, since 0 + 0 == 0 - 0, answer same in case our typical mistake is made\n",
    "params[\"a\"] = np.random.randint(0, 10)\n",
    "params[\"b\"] = np.random.randint(1, 10)\n",
    "params[\"ans_correct\"] = params[\"a\"] + params[\"b\"]\n",
    "params[\"ans_incorrect\"] = params[\"a\"] - params[\"b\"]\n",
    "\n",
    "e = Exercise(MarkdownBlock(string, params))\n",
    "e.add_answer(params[\"ans_correct\"], True, \"Correct!\")\n",
    "e.add_answer(params[\"ans_incorrect\"], False, MarkdownBlock(\"Did you compute $@a - @b = @ans_incorrect$ instead?\", params))\n",
    "\n",
    "e.play()"
   ]
  },
  {
   "cell_type": "markdown",
   "id": "favorite-material",
   "metadata": {},
   "source": [
    "Currently, only a single instance is generated played at a time. Support for multi-instance generation is planned. "
   ]
  },
  {
   "cell_type": "markdown",
   "id": "younger-status",
   "metadata": {},
   "source": [
    "### Working with SymPy objects to represent mathematical objects\n",
    "We can work with SymPy objects to represent mathematical objects, like vectors and matrices.\n",
    "An vector addition exercise can be created as follows:"
   ]
  },
  {
   "cell_type": "code",
   "execution_count": 7,
   "id": "possible-italian",
   "metadata": {},
   "outputs": [
    {
     "data": {
      "text/html": [
       "\n",
       "        <iframe\n",
       "            width=\"800\"\n",
       "            height=\"350\"\n",
       "            src=\"https://www.mscthesis.nl/preview?id=8790fd93-53d8-4410-8d47-83269457d7db\"\n",
       "            frameborder=\"0\"\n",
       "            allowfullscreen\n",
       "        ></iframe>\n",
       "        "
      ],
      "text/plain": [
       "<IPython.lib.display.IFrame at 0x10f52fe80>"
      ]
     },
     "metadata": {},
     "output_type": "display_data"
    },
    {
     "name": "stdout",
     "output_type": "stream",
     "text": [
      "Published succesfully, preview at: https://www.mscthesis.nl/preview?id=8790fd93-53d8-4410-8d47-83269457d7db\n"
     ]
    }
   ],
   "source": [
    "string = \"What is $@v_1 + @v_2$?\"\n",
    "\n",
    "params[\"v_1\"] = sp.Matrix([1, 2, 3])\n",
    "params[\"v_2\"] = sp.Matrix([4, 5, 6])\n",
    "params[\"ans\"] = params[\"v_1\"] + params[\"v_2\"]\n",
    "\n",
    "e = Exercise(MarkdownBlock(string, params))\n",
    "e.add_answer(params[\"ans\"], True, \"That's right!\")\n",
    "\n",
    "e.play()"
   ]
  },
  {
   "cell_type": "markdown",
   "id": "removed-testimony",
   "metadata": {},
   "source": [
    "### Task 2 Parameterized vector addition\n",
    "Create an exercise asking learners to compute the sum of two vectors of random length (within reasonable limits), with random integer values. \n",
    "Note: if you prefer NumPy for working with matrices, you are in luck! NumPy objects can be passed to the SymPy matrix constructor, e.g. `sp.Matrix(np.arange(4))`."
   ]
  },
  {
   "cell_type": "code",
   "execution_count": 11,
   "id": "economic-peter",
   "metadata": {},
   "outputs": [
    {
     "data": {
      "text/html": [
       "\n",
       "        <iframe\n",
       "            width=\"800\"\n",
       "            height=\"350\"\n",
       "            src=\"https://www.mscthesis.nl/preview?id=7d1e8903-1f4b-4430-bf1f-1612ceea29e6\"\n",
       "            frameborder=\"0\"\n",
       "            allowfullscreen\n",
       "        ></iframe>\n",
       "        "
      ],
      "text/plain": [
       "<IPython.lib.display.IFrame at 0x10948ed90>"
      ]
     },
     "metadata": {},
     "output_type": "display_data"
    },
    {
     "name": "stdout",
     "output_type": "stream",
     "text": [
      "Published succesfully, preview at: https://www.mscthesis.nl/preview?id=7d1e8903-1f4b-4430-bf1f-1612ceea29e6\n"
     ]
    }
   ],
   "source": [
    "# Task 2 user code:\n",
    "string = \"What is $@v_1 + @v_2$?\"\n",
    "\n",
    "random_len = np.random.randint(1, 10)\n",
    "params[\"v_1\"] = sp.Matrix(np.random.randint(10, size=random_len))\n",
    "params[\"v_2\"] = sp.Matrix(np.random.randint(10, size=random_len))\n",
    "params[\"ans\"] = params[\"v_1\"] + params[\"v_2\"]\n",
    "\n",
    "e = Exercise(MarkdownBlock(string, params))\n",
    "e.add_answer(params[\"ans\"], True, \"That's right!\")\n",
    "\n",
    "e.play()"
   ]
  },
  {
   "cell_type": "markdown",
   "id": "thirty-imagination",
   "metadata": {},
   "source": [
    "### Task 3 - Matrix indexing \n",
    "Create an exercise asking learners to identify a value at randomized indices (but within bounds) in a 5 by 5 matrix.\n",
    "Please make sure all values are unique so there is only one correct answer."
   ]
  },
  {
   "cell_type": "code",
   "execution_count": 13,
   "id": "advance-consultancy",
   "metadata": {
    "scrolled": true,
    "tags": []
   },
   "outputs": [
    {
     "name": "stdout",
     "output_type": "stream",
     "text": [
      "24\n"
     ]
    },
    {
     "data": {
      "text/html": [
       "\n",
       "        <iframe\n",
       "            width=\"800\"\n",
       "            height=\"350\"\n",
       "            src=\"https://www.mscthesis.nl/preview?id=a04db574-03d7-4da2-895b-b24b03450329\"\n",
       "            frameborder=\"0\"\n",
       "            allowfullscreen\n",
       "        ></iframe>\n",
       "        "
      ],
      "text/plain": [
       "<IPython.lib.display.IFrame at 0x10f52ffd0>"
      ]
     },
     "metadata": {},
     "output_type": "display_data"
    },
    {
     "name": "stdout",
     "output_type": "stream",
     "text": [
      "Published succesfully, preview at: https://www.mscthesis.nl/preview?id=a04db574-03d7-4da2-895b-b24b03450329\n"
     ]
    }
   ],
   "source": [
    "# Task 3 user code:\n",
    "string = \"What is the value at ($@v_1,@v_2$) of the following matrix: $@v_3?$\"\n",
    "\n",
    "random_len_1 = np.random.randint(1, 6)\n",
    "random_len_2 = np.random.randint(1, 6)\n",
    "params[\"v_1\"] = random_len_1\n",
    "params[\"v_2\"] = random_len_2\n",
    "\n",
    "matrix = np.random.choice(np.arange(0, 30), replace=False, size=(5, 5))\n",
    "params[\"v_3\"] = sp.Matrix(matrix)\n",
    "\n",
    "answer = matrix[random_len_1 - 1, random_len_2 - 1]\n",
    "params[\"ans\"] = answer\n",
    "print(answer)\n",
    "\n",
    "e = Exercise(MarkdownBlock(string, params))\n",
    "e.add_answer(params[\"ans\"], True, \"That's right!\")\n",
    "\n",
    "e.play()"
   ]
  },
  {
   "cell_type": "markdown",
   "id": "accredited-store",
   "metadata": {},
   "source": [
    "### Task 4 - Matrix multiplication \n",
    "Create an exercise asking users to multiply two matrices. \n",
    "Provide a default answer explaining the procedure in case a wrong answer is supplied.\n",
    "You can use the `symbolic_matrix` and `explain_multiply` functions supplied in `helpers.py` as follows:"
   ]
  },
  {
   "cell_type": "code",
   "execution_count": 16,
   "id": "moving-broad",
   "metadata": {},
   "outputs": [
    {
     "data": {
      "text/latex": [
       "$\\displaystyle \\left[\\begin{matrix}{a}_{1, 1} \\cdot {b}_{1, 1} + {a}_{1, 2} \\cdot {b}_{2, 1} & {a}_{1, 1} \\cdot {b}_{1, 2} + {a}_{1, 2} \\cdot {b}_{2, 2}\\\\{a}_{2, 1} \\cdot {b}_{1, 1} + {a}_{2, 2} \\cdot {b}_{2, 1} & {a}_{2, 1} \\cdot {b}_{1, 2} + {a}_{2, 2} \\cdot {b}_{2, 2}\\end{matrix}\\right]$"
      ],
      "text/plain": [
       "Matrix([\n",
       "[{a}_{1, 1} \\cdot {b}_{1, 1} + {a}_{1, 2} \\cdot {b}_{2, 1}, {a}_{1, 1} \\cdot {b}_{1, 2} + {a}_{1, 2} \\cdot {b}_{2, 2}],\n",
       "[{a}_{2, 1} \\cdot {b}_{1, 1} + {a}_{2, 2} \\cdot {b}_{2, 1}, {a}_{2, 1} \\cdot {b}_{1, 2} + {a}_{2, 2} \\cdot {b}_{2, 2}]])"
      ]
     },
     "metadata": {},
     "output_type": "display_data"
    },
    {
     "data": {
      "text/latex": [
       "$\\displaystyle \\left[\\begin{matrix}1 \\cdot 5 & 1 \\cdot 6 & 1 \\cdot 7\\\\2 \\cdot 5 & 2 \\cdot 6 & 2 \\cdot 7\\\\3 \\cdot 5 & 3 \\cdot 6 & 3 \\cdot 7\\end{matrix}\\right]$"
      ],
      "text/plain": [
       "Matrix([\n",
       "[1 \\cdot 5, 1 \\cdot 6, 1 \\cdot 7],\n",
       "[2 \\cdot 5, 2 \\cdot 6, 2 \\cdot 7],\n",
       "[3 \\cdot 5, 3 \\cdot 6, 3 \\cdot 7]])"
      ]
     },
     "metadata": {},
     "output_type": "display_data"
    }
   ],
   "source": [
    "from helpers import symbolic_matrix, explain_multiply\n",
    "a = symbolic_matrix(\"a\", 2, 2)\n",
    "b = symbolic_matrix(\"b\", 2, 2)\n",
    "display(explain_multiply(a, b))\n",
    "\n",
    "a = sp.Matrix([1,2,3])\n",
    "b = sp.Matrix(np.matrix([5,6,7]).reshape(-1))\n",
    "display(explain_multiply(a, b))"
   ]
  },
  {
   "cell_type": "code",
   "execution_count": 14,
   "id": "dried-binary",
   "metadata": {},
   "outputs": [
    {
     "data": {
      "text/latex": [
       "$\\displaystyle \\left[\\begin{matrix}{a}_{1, 1} \\cdot {b}_{1, 1} + {a}_{1, 2} \\cdot {b}_{2, 1} & {a}_{1, 1} \\cdot {b}_{1, 2} + {a}_{1, 2} \\cdot {b}_{2, 2}\\\\{a}_{2, 1} \\cdot {b}_{1, 1} + {a}_{2, 2} \\cdot {b}_{2, 1} & {a}_{2, 1} \\cdot {b}_{1, 2} + {a}_{2, 2} \\cdot {b}_{2, 2}\\end{matrix}\\right]$"
      ],
      "text/plain": [
       "Matrix([\n",
       "[{a}_{1, 1} \\cdot {b}_{1, 1} + {a}_{1, 2} \\cdot {b}_{2, 1}, {a}_{1, 1} \\cdot {b}_{1, 2} + {a}_{1, 2} \\cdot {b}_{2, 2}],\n",
       "[{a}_{2, 1} \\cdot {b}_{1, 1} + {a}_{2, 2} \\cdot {b}_{2, 1}, {a}_{2, 1} \\cdot {b}_{1, 2} + {a}_{2, 2} \\cdot {b}_{2, 2}]])"
      ]
     },
     "metadata": {},
     "output_type": "display_data"
    },
    {
     "data": {
      "text/html": [
       "\n",
       "        <iframe\n",
       "            width=\"800\"\n",
       "            height=\"350\"\n",
       "            src=\"https://www.mscthesis.nl/preview?id=9875836a-943c-4a71-af08-31aa36647e46\"\n",
       "            frameborder=\"0\"\n",
       "            allowfullscreen\n",
       "        ></iframe>\n",
       "        "
      ],
      "text/plain": [
       "<IPython.lib.display.IFrame at 0x10f53fbe0>"
      ]
     },
     "metadata": {},
     "output_type": "display_data"
    },
    {
     "name": "stdout",
     "output_type": "stream",
     "text": [
      "Published succesfully, preview at: https://www.mscthesis.nl/preview?id=9875836a-943c-4a71-af08-31aa36647e46\n"
     ]
    }
   ],
   "source": [
    "# Task 4 user code:\n",
    "from helpers import symbolic_matrix, explain_multiply\n",
    "a = symbolic_matrix(\"a\", 2, 2)\n",
    "b = symbolic_matrix(\"b\", 2, 2)\n",
    "\n",
    "string = \"Multiply the following matrices: $@v_1$, $@v_2$\"\n",
    "\n",
    "v_1 = np.random.choice(np.arange(0, 11), replace=True, size=(3, 3))\n",
    "v_2 = np.random.choice(np.arange(0, 11), replace=True, size=(3, 3))\n",
    "params[\"v_1\"] = sp.Matrix(v_1)\n",
    "params[\"v_2\"] = sp.Matrix(v_2)\n",
    "params[\"ans\"] = sp.Matrix(np.matmul(v_1, v_2))\n",
    "params[\"ans_incorrect\"] = sp.Matrix(np.matmul(v_1, np.transpose(v_2)))\n",
    "\n",
    "e = Exercise(MarkdownBlock(string, params))\n",
    "e.add_answer(params[\"ans\"], True, \"That's right!\")\n",
    "e.add_answer(params[\"ans_incorrect\"], False, MarkdownBlock(\"Did you compute $@v_1 * @v_2^-1 = @ans_incorrect$ instead? Take a look at the instructions again: {}\".format(display(explain_multiply(a, b))), params))\n",
    "\n",
    "e.play()"
   ]
  },
  {
   "cell_type": "markdown",
   "id": "important-boxing",
   "metadata": {},
   "source": [
    "Hooray!\n",
    "If you made it this far, you completed the notebook! \n",
    "Please add any additonal comments below.\n",
    "Thank you for participating!"
   ]
  },
  {
   "cell_type": "markdown",
   "id": "powered-james",
   "metadata": {},
   "source": [
    "Write any additional comments here..."
   ]
  },
  {
   "cell_type": "code",
   "execution_count": null,
   "id": "vertical-cooperative",
   "metadata": {},
   "outputs": [],
   "source": [
    "# Very neat. It's easy to get the hang of and it seems like  can have some rather powerful applications because of Python. \n",
    "# I should note that I was using Google Chrome and as you mentioned the iFrames don't work well with that. If you can\n",
    "# however find a workaround for that I would highly recommend it. Also, it would be nice to have the cursor be automatically\n",
    "# placed in the textbox when the iFrame is created and when an empty matrix has been created. Other than that it was a \n",
    "# smooth experience!"
   ]
  }
 ],
 "metadata": {
  "kernelspec": {
   "display_name": "exercise",
   "language": "python",
   "name": "exercise"
  },
  "language_info": {
   "codemirror_mode": {
    "name": "ipython",
    "version": 3
   },
   "file_extension": ".py",
   "mimetype": "text/x-python",
   "name": "python",
   "nbconvert_exporter": "python",
   "pygments_lexer": "ipython3",
   "version": "3.9.2"
  }
 },
 "nbformat": 4,
 "nbformat_minor": 5
}
