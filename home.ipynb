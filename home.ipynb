{
 "cells": [
  {
   "cell_type": "code",
   "execution_count": 1,
   "id": "oriental-bedroom",
   "metadata": {},
   "outputs": [],
   "source": [
    "from sympy.matrices import Matrix \n",
    "import sympy as sp\n",
    "import numpy as np\n",
    "from Exercise import Exercise, MarkdownBlock\n",
    "\n",
    "from process_latex import process_sympy \n",
    "\n",
    "try:\n",
    "    from config import URL, TOKEN\n",
    "except:\n",
    "    None\n",
    "\n",
    "# TODO: replace with supplied strings\n",
    "Exercise.URL = URL\n",
    "Exercise.TOKEN = TOKEN"
   ]
  },
  {
   "cell_type": "code",
   "execution_count": 5,
   "id": "quantitative-majority",
   "metadata": {},
   "outputs": [
    {
     "data": {
      "text/html": [
       "\n",
       "        <iframe\n",
       "            width=\"500\"\n",
       "            height=\"350\"\n",
       "            src=\"https://www.mscthesis.nl/preview?id=c7804a62-8bed-4ab3-9bdc-f73a2dd41b06\"\n",
       "            frameborder=\"0\"\n",
       "            allowfullscreen\n",
       "        ></iframe>\n",
       "        "
      ],
      "text/plain": [
       "<IPython.lib.display.IFrame at 0x112fd1c40>"
      ]
     },
     "metadata": {},
     "output_type": "display_data"
    },
    {
     "name": "stdout",
     "output_type": "stream",
     "text": [
      "Published succesfully, preview at: https://www.mscthesis.nl/preview?id=c7804a62-8bed-4ab3-9bdc-f73a2dd41b06\n"
     ]
    }
   ],
   "source": [
    "m = \"\"\"\n",
    "In essence, the goal of this thesis project is investigating the possibilities for creating open answer mathematics exercises by using SymPy, Markdown and LaTeX for authoring exercise content and the MathLive formula editor for answering. \n",
    "\n",
    "\n",
    "\n",
    "> Blockquotes are very handy in email to emulate reply text.\n",
    "> This line is part of the same quote.\n",
    "\"\"\"\n",
    "\n",
    "e = Exercise(m)\n",
    "e.play()"
   ]
  },
  {
   "cell_type": "code",
   "execution_count": null,
   "id": "unlimited-devil",
   "metadata": {},
   "outputs": [],
   "source": []
  }
 ],
 "metadata": {
  "kernelspec": {
   "display_name": "exercise",
   "language": "python",
   "name": "exercise"
  },
  "language_info": {
   "codemirror_mode": {
    "name": "ipython",
    "version": 3
   },
   "file_extension": ".py",
   "mimetype": "text/x-python",
   "name": "python",
   "nbconvert_exporter": "python",
   "pygments_lexer": "ipython3",
   "version": "3.9.4"
  }
 },
 "nbformat": 4,
 "nbformat_minor": 5
}
