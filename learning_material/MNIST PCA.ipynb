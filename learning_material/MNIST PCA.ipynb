{
 "cells": [
  {
   "cell_type": "code",
   "execution_count": 52,
   "id": "dominican-queensland",
   "metadata": {},
   "outputs": [],
   "source": [
    "import numpy as np\n",
    "import pandas as pd\n",
    "from sklearn.decomposition import PCA\n",
    "import math\n",
    "import matplotlib.pyplot as plt\n"
   ]
  },
  {
   "cell_type": "code",
   "execution_count": 46,
   "id": "piano-overview",
   "metadata": {},
   "outputs": [],
   "source": [
    "from sklearn.datasets import load_digits\n",
    "digits = load_digits()\n",
    "\n",
    "sorted_indices = np.argsort(digits.target)\n",
    "nums = digits.data[sorted_indices]"
   ]
  },
  {
   "cell_type": "code",
   "execution_count": 58,
   "id": "distinguished-negative",
   "metadata": {},
   "outputs": [],
   "source": [
    "d = pd.read_csv(\"mnist_784.csv\")"
   ]
  },
  {
   "cell_type": "code",
   "execution_count": 68,
   "id": "boxed-questionnaire",
   "metadata": {},
   "outputs": [],
   "source": [
    "n = d.sort_values(\"class\").drop([\"class\"], axis=1).to_numpy()"
   ]
  },
  {
   "cell_type": "code",
   "execution_count": 73,
   "id": "finished-rochester",
   "metadata": {},
   "outputs": [
    {
     "name": "stdout",
     "output_type": "stream",
     "text": [
      "[0.21227549 0.17076165]\n",
      "[0.38074709 0.19860778]\n",
      "[0.27802126 0.15993535]\n",
      "[0.2146344  0.14773962]\n",
      "[0.2697676  0.14257018]\n",
      "[0.28629005 0.11736784]\n",
      "[0.21052996 0.17166942]\n",
      "[0.26243868 0.1654102 ]\n",
      "[0.18970776 0.11890553]\n",
      "[0.23258493 0.1182537 ]\n"
     ]
    },
    {
     "data": {
      "image/png": "[encoded data removed]",
      "text/plain": [
       "<Figure size 432x288 with 1 Axes>"
      ]
     },
     "metadata": {
      "needs_background": "light"
     },
     "output_type": "display_data"
    }
   ],
   "source": [
    "d = pd.DataFrame(nums)\n",
    "\n",
    "items_per_class = math.floor(len(nums)/10)\n",
    "x = []\n",
    "y = []\n",
    "label = [str(i) for i in range(10)]\n",
    "for i in range(0, 10):\n",
    "    pca = PCA(n_components=2)\n",
    "    start = i*items_per_class\n",
    "    stop = (i+1)*items_per_class\n",
    "    X = nums[start:stop]\n",
    "#     print(digits.target[sorted_indices][start:stop])\n",
    "    pca.fit(X)\n",
    "    print(pca.explained_variance_ratio_)\n",
    "    xc = pca.singular_values_[0]\n",
    "    yc = pca.singular_values_[1]\n",
    "    x.append(xc)\n",
    "    y.append(yc)\n",
    "\n",
    "for i in range(10):\n",
    "    plt.scatter(x[i], y[i], label=str(i))\n",
    "    plt.annotate(str(i), (x[i], y[i]))\n",
    "\n",
    "plt.legend()\n",
    "\n",
    "plt.savefig(\"pca.png\", dpi=500, bbox_inches='tight')"
   ]
  },
  {
   "cell_type": "code",
   "execution_count": null,
   "id": "irish-edmonton",
   "metadata": {},
   "outputs": [],
   "source": []
  }
 ],
 "metadata": {
  "kernelspec": {
   "display_name": "ML",
   "language": "python",
   "name": "ml"
  },
  "language_info": {
   "codemirror_mode": {
    "name": "ipython",
    "version": 3
   },
   "file_extension": ".py",
   "mimetype": "text/x-python",
   "name": "python",
   "nbconvert_exporter": "python",
   "pygments_lexer": "ipython3",
   "version": "3.9.2"
  }
 },
 "nbformat": 4,
 "nbformat_minor": 5
}
