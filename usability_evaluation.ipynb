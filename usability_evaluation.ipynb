{
 "cells": [
  {
   "cell_type": "code",
   "execution_count": 1,
   "id": "present-january",
   "metadata": {},
   "outputs": [],
   "source": [
    "from Exercise import *\n",
    "import numpy as np\n",
    "import sympy as sp\n",
    "\n",
    "URL = \"http://0.0.0.0:8000/post\""
   ]
  },
  {
   "cell_type": "markdown",
   "id": "directed-bikini",
   "metadata": {},
   "source": [
    "### Defining an exercise\n",
    "Exercises can be instantiated from the `Exercise` class.\n",
    "An exercise is instantiated by passing a markdown string with the exercise content being displayed to the learner.\n",
    "This markdown string can contain latex, which must be wrapped in dollar signs ($).\n",
    "The rendered exercise content can be seen by calling the `display` method on an exercise instance."
   ]
  },
  {
   "cell_type": "code",
   "execution_count": 2,
   "id": "daily-polyester",
   "metadata": {},
   "outputs": [
    {
     "data": {
      "text/html": [
       "<p>What is <span class=\"arithmatex\">$1 + 1$</span>?</p>"
      ],
      "text/plain": [
       "<IPython.core.display.HTML object>"
      ]
     },
     "metadata": {},
     "output_type": "display_data"
    }
   ],
   "source": [
    "m = \"What is $1 + 1$?\"\n",
    "e = Exercise(m)\n",
    "e.display()"
   ]
  },
  {
   "cell_type": "markdown",
   "id": "immune-origin",
   "metadata": {},
   "source": [
    "### Adding answer rules\n",
    "Answers can be added using the `add_answer` method. User-answers can be simulated for testing purposes by using the `evaluate_answer` method."
   ]
  },
  {
   "cell_type": "code",
   "execution_count": 3,
   "id": "assisted-syria",
   "metadata": {},
   "outputs": [
    {
     "data": {
      "text/html": [
       "<p>That's right! 1 + 1 = 2</p>"
      ],
      "text/plain": [
       "<IPython.core.display.HTML object>"
      ]
     },
     "metadata": {},
     "output_type": "display_data"
    }
   ],
   "source": [
    "e.add_answer(2, True, \"That's right! 1 + 1 = 2\")\n",
    "e.evaluate_answer(2)"
   ]
  },
  {
   "cell_type": "code",
   "execution_count": 4,
   "id": "invalid-apple",
   "metadata": {},
   "outputs": [
    {
     "data": {
      "text/html": [
       "<p>Unfortunately that's not right, did you compute 1 <strong>-</strong> 1 = 0?</p>"
      ],
      "text/plain": [
       "<IPython.core.display.HTML object>"
      ]
     },
     "metadata": {},
     "output_type": "display_data"
    }
   ],
   "source": [
    "e.add_answer(0, False, \"Unfortunately that's not right, did you compute 1 **-** 1 = 0?\")\n",
    "e.evaluate_answer(0)"
   ]
  },
  {
   "cell_type": "markdown",
   "id": "excellent-strengthening",
   "metadata": {},
   "source": [
    "Default feedback can be added, shown to the user when no answer rule matches, defaulting to \"Incorrect\" if not specified."
   ]
  },
  {
   "cell_type": "code",
   "execution_count": null,
   "id": "acquired-relaxation",
   "metadata": {},
   "outputs": [],
   "source": []
  },
  {
   "cell_type": "code",
   "execution_count": 5,
   "id": "wrong-protein",
   "metadata": {},
   "outputs": [
    {
     "data": {
      "text/html": [
       "<p>Please check the definition of natural numbers and the (<span class=\"arithmatex\">$+$</span>) operator</p>"
      ],
      "text/plain": [
       "<IPython.core.display.HTML object>"
      ]
     },
     "metadata": {},
     "output_type": "display_data"
    }
   ],
   "source": [
    "e.add_default_feedback(\"Please check the definition of natural numbers and the ($+$) operator\")\n",
    "e.evaluate_answer(3)"
   ]
  },
  {
   "cell_type": "markdown",
   "id": "elementary-survival",
   "metadata": {},
   "source": [
    "Before an exercise can be published, it should be written."
   ]
  },
  {
   "cell_type": "code",
   "execution_count": 11,
   "id": "governing-generic",
   "metadata": {},
   "outputs": [
    {
     "ename": "TypeError",
     "evalue": "'int' object is not subscriptable",
     "output_type": "error",
     "traceback": [
      "\u001b[0;31m---------------------------------------------------------------------------\u001b[0m",
      "\u001b[0;31mTypeError\u001b[0m                                 Traceback (most recent call last)",
      "\u001b[0;32m<ipython-input-11-8ea1d749902e>\u001b[0m in \u001b[0;36m<module>\u001b[0;34m\u001b[0m\n\u001b[1;32m      1\u001b[0m \u001b[0me\u001b[0m\u001b[0;34m.\u001b[0m\u001b[0mwrite\u001b[0m\u001b[0;34m(\u001b[0m\u001b[0;34m)\u001b[0m\u001b[0;34m\u001b[0m\u001b[0;34m\u001b[0m\u001b[0m\n\u001b[0;32m----> 2\u001b[0;31m \u001b[0me\u001b[0m\u001b[0;34m.\u001b[0m\u001b[0mpublish\u001b[0m\u001b[0;34m(\u001b[0m\u001b[0mURL\u001b[0m\u001b[0;34m,\u001b[0m \u001b[0;34m\"ABC\"\u001b[0m\u001b[0;34m)\u001b[0m\u001b[0;34m\u001b[0m\u001b[0;34m\u001b[0m\u001b[0m\n\u001b[0m",
      "\u001b[0;32m~/Projects/exercise_public/Exercise.py\u001b[0m in \u001b[0;36mpublish\u001b[0;34m(self, url, token)\u001b[0m\n\u001b[1;32m    142\u001b[0m         \u001b[0;32mif\u001b[0m \u001b[0;34m(\u001b[0m\u001b[0mr\u001b[0m\u001b[0;34m.\u001b[0m\u001b[0mstatus_code\u001b[0m \u001b[0;34m==\u001b[0m \u001b[0;36m200\u001b[0m\u001b[0;34m)\u001b[0m\u001b[0;34m:\u001b[0m\u001b[0;34m\u001b[0m\u001b[0;34m\u001b[0m\u001b[0m\n\u001b[1;32m    143\u001b[0m             print(\"Published succesfully, preview at: {}\".format(\n\u001b[0;32m--> 144\u001b[0;31m                 r.json()[\"url\"]))\n\u001b[0m\u001b[1;32m    145\u001b[0m         \u001b[0;32melse\u001b[0m\u001b[0;34m:\u001b[0m\u001b[0;34m\u001b[0m\u001b[0;34m\u001b[0m\u001b[0m\n\u001b[1;32m    146\u001b[0m             \u001b[0mprint\u001b[0m\u001b[0;34m(\u001b[0m\u001b[0;34m\"Publishing error code: {}\"\u001b[0m\u001b[0;34m.\u001b[0m\u001b[0mformat\u001b[0m\u001b[0;34m(\u001b[0m\u001b[0mr\u001b[0m\u001b[0;34m.\u001b[0m\u001b[0mstatus_code\u001b[0m\u001b[0;34m)\u001b[0m\u001b[0;34m)\u001b[0m\u001b[0;34m\u001b[0m\u001b[0;34m\u001b[0m\u001b[0m\n",
      "\u001b[0;31mTypeError\u001b[0m: 'int' object is not subscriptable"
     ]
    }
   ],
   "source": [
    "e.write()\n",
    "e.publish(URL, \"ABC\")"
   ]
  },
  {
   "cell_type": "markdown",
   "id": "fatty-dragon",
   "metadata": {},
   "source": [
    "### Parameterizing an exercise\n",
    "An exercise can contain parameters by using the `@param` notation in markdown templates. A dict containing SymPy objects should then be passed to a MarkdownBlock to replace the parameters with LaTeX code generated by the MarkdownBlock."
   ]
  },
  {
   "cell_type": "code",
   "execution_count": 34,
   "id": "atmospheric-century",
   "metadata": {},
   "outputs": [
    {
     "data": {
      "text/html": [
       "<p>What is <span class=\"arithmatex\">$5 + 0$</span>?</p>"
      ],
      "text/plain": [
       "<IPython.core.display.HTML object>"
      ]
     },
     "metadata": {},
     "output_type": "display_data"
    },
    {
     "name": "stdout",
     "output_type": "stream",
     "text": [
      "Published succesfully, preview at: https://www.mscthesis.nl/preview?id=00085b45-d0cf-4cc1-9229-5a2a9f44e9a7\n"
     ]
    }
   ],
   "source": [
    "m = \"What is $@a + @b$?\"\n",
    "\n",
    "params = {}\n",
    "params[\"a\"] = np.random.randint(10)\n",
    "params[\"b\"] = np.random.randint(10)\n",
    "\n",
    "e = Exercise(MarkdownBlock(m, params))\n",
    "e.add_answer(params[\"a\"] + params[\"b\"], True, \"That's right!\")\n",
    "\n",
    "e.display()\n",
    "\n",
    "e.write()\n",
    "e.publish(URL)"
   ]
  },
  {
   "cell_type": "markdown",
   "id": "further-longer",
   "metadata": {},
   "source": [
    "### Exercises with matrices"
   ]
  },
  {
   "cell_type": "code",
   "execution_count": 74,
   "id": "suspected-multiple",
   "metadata": {},
   "outputs": [
    {
     "data": {
      "text/html": [
       "<p>What is <span class=\"arithmatex\">$\\left[\\begin{matrix}0\\\\1\\\\2\\\\3\\end{matrix}\\right] + \\left[\\begin{matrix}3\\\\2\\\\1\\\\0\\end{matrix}\\right]$</span>?</p>"
      ],
      "text/plain": [
       "<IPython.core.display.HTML object>"
      ]
     },
     "metadata": {},
     "output_type": "display_data"
    },
    {
     "name": "stdout",
     "output_type": "stream",
     "text": [
      "Published succesfully, preview at: https://www.mscthesis.nl/preview?id=5c5769e1-d5cb-4f93-8e3b-61d4fd675057\n"
     ]
    }
   ],
   "source": [
    "m = \"What is $@a + @b$?\"\n",
    "\n",
    "params = {}\n",
    "params[\"a\"] = sp.Matrix(np.arange(4))\n",
    "params[\"b\"] = sp.Matrix(np.flip(np.arange(4)))\n",
    "\n",
    "e = Exercise(MarkdownBlock(m, params))\n",
    "e.add_answer(params[\"a\"] + params[\"b\"], True, \"Correct!\")\n",
    "e.display()\n",
    "\n",
    "e.write()\n",
    "e.publish(URL)"
   ]
  },
  {
   "cell_type": "markdown",
   "id": "sound-rebecca",
   "metadata": {},
   "source": [
    "Tasks:\n",
    "- Create exercise testing vector indexing\n",
    "- Create exercise testing vector inner-product\n",
    "- Create exercise testing matrix multiplication"
   ]
  },
  {
   "cell_type": "code",
   "execution_count": null,
   "id": "promising-overhead",
   "metadata": {},
   "outputs": [],
   "source": []
  }
 ],
 "metadata": {
  "kernelspec": {
   "display_name": "api",
   "language": "python",
   "name": "api"
  },
  "language_info": {
   "codemirror_mode": {
    "name": "ipython",
    "version": 3
   },
   "file_extension": ".py",
   "mimetype": "text/x-python",
   "name": "python",
   "nbconvert_exporter": "python",
   "pygments_lexer": "ipython3",
   "version": "3.9.2"
  }
 },
 "nbformat": 4,
 "nbformat_minor": 5
}
