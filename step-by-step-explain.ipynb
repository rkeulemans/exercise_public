{
 "cells": [
  {
   "cell_type": "code",
   "execution_count": 1,
   "id": "compatible-arena",
   "metadata": {},
   "outputs": [],
   "source": [
    "from Exercise import Exercise, MarkdownBlock\n",
    "from config import URL, TOKEN\n",
    "import json\n",
    "\n",
    "import numpy as np\n",
    "import sympy as sp\n",
    "import matplotlib.pyplot as plt\n",
    "import pandas as pd\n",
    "plt.rcParams.update({'font.size': 20})\n",
    "\n",
    "from sklearn.datasets import load_digits\n",
    "from sklearn import preprocessing\n",
    "from sklearn.model_selection import train_test_split\n",
    "from sklearn.metrics import accuracy_score\n",
    "\n",
    "\n",
    "Exercise.URL = URL\n",
    "Exercise.TOKEN = TOKEN"
   ]
  },
  {
   "cell_type": "code",
   "execution_count": 31,
   "id": "social-modification",
   "metadata": {},
   "outputs": [],
   "source": [
    "from sympy import Rational, Symbol, latex, UnevaluatedExpr\n",
    "\n",
    "u = lambda x : UnevaluatedExpr(x)\n",
    "\n",
    "# Helper functions\n",
    "def explain_add(a, b):\n",
    "    assert(np.shape(a) == np.shape(b))\n",
    "    rows, columns = np.shape(a)\n",
    "    return sp.Matrix([[Symbol(f\"({latex(u(a[i,j]))} + {latex(u(b[i,j]))})\") for j in range(columns)] for i in range(rows)])\n",
    "\n",
    "def symbolic_matrix(character, rows, columns):\n",
    "    return sp.Matrix([[Symbol(f\"{{{character}}}_{{{i+1}, {j+1}}}\") for j in range(columns)] for i in range(rows)])"
   ]
  },
  {
   "cell_type": "code",
   "execution_count": 32,
   "id": "fabulous-verification",
   "metadata": {},
   "outputs": [
    {
     "data": {
      "text/html": [
       "<p>What is <span class=\"arithmatex\">$\\left[\\begin{matrix}0\\\\1\\\\2\\\\3\\end{matrix}\\right] + \\left[\\begin{matrix}-1\\\\-2\\\\-3\\\\-4\\end{matrix}\\right]?$</span></p>"
      ],
      "text/plain": [
       "<IPython.core.display.HTML object>"
      ]
     },
     "metadata": {},
     "output_type": "display_data"
    },
    {
     "data": {
      "text/html": [
       "<p>Yes, <span class=\"arithmatex\">$\\left[\\begin{matrix}0\\\\1\\\\2\\\\3\\end{matrix}\\right] + \\left[\\begin{matrix}-1\\\\-2\\\\-3\\\\-4\\end{matrix}\\right] = \\left[\\begin{matrix}(0 + -1)\\\\(1 + -2)\\\\(2 + -3)\\\\(3 + -4)\\end{matrix}\\right] = \\left[\\begin{matrix}-1\\\\-1\\\\-1\\\\-1\\end{matrix}\\right]$</span>!</p>"
      ],
      "text/plain": [
       "<IPython.core.display.HTML object>"
      ]
     },
     "metadata": {},
     "output_type": "display_data"
    },
    {
     "data": {
      "text/html": [
       "<p>Remember the definition of matrix addition: <span class=\"arithmatex\">$\\left[\\begin{matrix}{a}_{1, 1}\\\\{a}_{2, 1}\\\\{a}_{3, 1}\\\\{a}_{4, 1}\\end{matrix}\\right] + \\left[\\begin{matrix}{b}_{1, 1}\\\\{b}_{2, 1}\\\\{b}_{3, 1}\\\\{b}_{4, 1}\\end{matrix}\\right] = \\left[\\begin{matrix}({a}_{1, 1} + {b}_{1, 1})\\\\({a}_{2, 1} + {b}_{2, 1})\\\\({a}_{3, 1} + {b}_{3, 1})\\\\({a}_{4, 1} + {b}_{4, 1})\\end{matrix}\\right]$</span></p>"
      ],
      "text/plain": [
       "<IPython.core.display.HTML object>"
      ]
     },
     "metadata": {},
     "output_type": "display_data"
    }
   ],
   "source": [
    "a = np.arange(4)\n",
    "b = -1 * np.arange(1, 5)\n",
    "a = sp.Matrix(a)\n",
    "b = sp.Matrix(b)\n",
    "\n",
    "s = \"What is $@a + @b?$\"\n",
    "\n",
    "params = {}\n",
    "params[\"a\"] = a\n",
    "params[\"b\"] = b\n",
    "e = Exercise(MarkdownBlock(s, params))\n",
    "\n",
    "e.display()\n",
    "\n",
    "s1 = \"Yes, $@a + @b = @c = @d$!\"\n",
    "\n",
    "params[\"c\"] = explain_add(a,b)\n",
    "params[\"d\"] = a + b\n",
    "e.add_answer(a + b, True, MarkdownBlock(s1, params))\n",
    "e.evaluate_answer(params[\"d\"])\n",
    "\n",
    "e.x = symbolic_matrix(\"a\", 4,1)\n",
    "e.y = symbolic_matrix(\"b\", 4,1)\n",
    "e.z = explain_add(e.x, e.y)\n",
    "default_feedback = \"Remember the definition of matrix addition: $@x + @y = @z$\"\n",
    "e.add_default_feedback(MarkdownBlock(default_feedback, vars(e)))\n",
    "e.evaluate_answer(1)\n",
    "\n",
    "e.write()\n",
    "# e.publish()"
   ]
  },
  {
   "cell_type": "code",
   "execution_count": 45,
   "id": "sitting-kazakhstan",
   "metadata": {},
   "outputs": [
    {
     "data": {
      "text/latex": [
       "$\\displaystyle \\left[\\begin{matrix}12 & 0 & 9 & 12 & 6 & 9 & 0\\\\8 & 0 & 6 & 8 & 4 & 6 & 0\\\\4 & 0 & 3 & 4 & 2 & 3 & 0\\\\4 & 0 & 3 & 4 & 2 & 3 & 0\\\\4 & 0 & 3 & 4 & 2 & 3 & 0\\end{matrix}\\right]$"
      ],
      "text/plain": [
       "Matrix([\n",
       "[12, 0, 9, 12, 6, 9, 0],\n",
       "[ 8, 0, 6,  8, 4, 6, 0],\n",
       "[ 4, 0, 3,  4, 2, 3, 0],\n",
       "[ 4, 0, 3,  4, 2, 3, 0],\n",
       "[ 4, 0, 3,  4, 2, 3, 0]])"
      ]
     },
     "metadata": {},
     "output_type": "display_data"
    },
    {
     "data": {
      "text/html": [
       "<p>What is <span class=\"arithmatex\">$\\left[\\begin{matrix}3\\\\2\\\\1\\\\1\\\\1\\end{matrix}\\right] \\cdot \\left[\\begin{matrix}4 &amp; 0 &amp; 3 &amp; 4 &amp; 2 &amp; 3 &amp; 0\\end{matrix}\\right]$</span></p>"
      ],
      "text/plain": [
       "<IPython.core.display.HTML object>"
      ]
     },
     "metadata": {},
     "output_type": "display_data"
    },
    {
     "name": "stdout",
     "output_type": "stream",
     "text": [
      "Published succesfully, preview at: https://www.mscthesis.nl/preview?id=b3d89d7c-82d9-4b49-aa36-33ff390efeff\n"
     ]
    }
   ],
   "source": [
    "\n",
    "    \n",
    "\n",
    "s = \"What is $@a \\cdot @b$\"\n",
    "\n",
    "rows = np.random.randint(1, 6)\n",
    "columns = np.random.randint(1, 6)\n",
    "\n",
    "params = {}\n",
    "params[\"a\"] = sp.Matrix(np.random.randint(5, size=rows*columns).reshape((rows,columns)))\n",
    "params[\"b\"] = sp.Matrix(np.random.randint(5, size=(2+rows)*columns).reshape((columns,rows+2)))\n",
    "\n",
    "e = Exercise(MarkdownBlock(s, params))\n",
    "\n",
    "ans = params[\"a\"] * params[\"b\"]\n",
    "display(ans)\n",
    "e.add_answer(params[\"a\"] * params[\"b\"], True, \"That's right!\")\n",
    "# e.add_default_feedback(\"Remember the definition of matrix multiplication: $@x \\codot @y = @z$\")\n",
    "\n",
    "\n",
    "e.display()\n",
    "e.write()\n",
    "e.publish()"
   ]
  },
  {
   "cell_type": "code",
   "execution_count": 62,
   "id": "perfect-collaboration",
   "metadata": {},
   "outputs": [
    {
     "name": "stdout",
     "output_type": "stream",
     "text": [
      "[[0 1]\n",
      " [2 3]\n",
      " [4 5]\n",
      " [6 7]\n",
      " [8 9]]\n",
      "[[0 1 2 3 4]\n",
      " [5 6 7 8 9]]\n",
      "[[  5   6   7   8   9]\n",
      " [ 15  20  25  30  35]\n",
      " [ 25  34  43  52  61]\n",
      " [ 35  48  61  74  87]\n",
      " [ 45  62  79  96 113]]\n",
      "[0 1]\n",
      "[0 5]\n",
      "[0 1]\n",
      "[1 6]\n",
      "[0 1]\n",
      "[2 7]\n",
      "[0 1]\n",
      "[3 8]\n",
      "[0 1]\n",
      "[4 9]\n",
      "[2 3]\n",
      "[0 5]\n",
      "[2 3]\n",
      "[1 6]\n",
      "[2 3]\n",
      "[2 7]\n",
      "[2 3]\n",
      "[3 8]\n",
      "[2 3]\n",
      "[4 9]\n",
      "[4 5]\n",
      "[0 5]\n",
      "[4 5]\n",
      "[1 6]\n",
      "[4 5]\n",
      "[2 7]\n",
      "[4 5]\n",
      "[3 8]\n",
      "[4 5]\n",
      "[4 9]\n",
      "[6 7]\n",
      "[0 5]\n",
      "[6 7]\n",
      "[1 6]\n",
      "[6 7]\n",
      "[2 7]\n",
      "[6 7]\n",
      "[3 8]\n",
      "[6 7]\n",
      "[4 9]\n",
      "[8 9]\n",
      "[0 5]\n",
      "[8 9]\n",
      "[1 6]\n",
      "[8 9]\n",
      "[2 7]\n",
      "[8 9]\n",
      "[3 8]\n",
      "[8 9]\n",
      "[4 9]\n"
     ]
    },
    {
     "data": {
      "text/latex": [
       "$\\displaystyle \\left[\\begin{matrix}\\left[ 0 \\cdot 0, \\  1 \\cdot 5\\right] & \\left[ 0 \\cdot 1, \\  1 \\cdot 6\\right] & \\left[ 0 \\cdot 2, \\  1 \\cdot 7\\right] & \\left[ 0 \\cdot 3, \\  1 \\cdot 8\\right] & \\left[ 0 \\cdot 4, \\  1 \\cdot 9\\right]\\\\\\left[ 2 \\cdot 0, \\  3 \\cdot 5\\right] & \\left[ 2 \\cdot 1, \\  3 \\cdot 6\\right] & \\left[ 2 \\cdot 2, \\  3 \\cdot 7\\right] & \\left[ 2 \\cdot 3, \\  3 \\cdot 8\\right] & \\left[ 2 \\cdot 4, \\  3 \\cdot 9\\right]\\\\\\left[ 4 \\cdot 0, \\  5 \\cdot 5\\right] & \\left[ 4 \\cdot 1, \\  5 \\cdot 6\\right] & \\left[ 4 \\cdot 2, \\  5 \\cdot 7\\right] & \\left[ 4 \\cdot 3, \\  5 \\cdot 8\\right] & \\left[ 4 \\cdot 4, \\  5 \\cdot 9\\right]\\\\\\left[ 6 \\cdot 0, \\  7 \\cdot 5\\right] & \\left[ 6 \\cdot 1, \\  7 \\cdot 6\\right] & \\left[ 6 \\cdot 2, \\  7 \\cdot 7\\right] & \\left[ 6 \\cdot 3, \\  7 \\cdot 8\\right] & \\left[ 6 \\cdot 4, \\  7 \\cdot 9\\right]\\\\\\left[ 8 \\cdot 0, \\  9 \\cdot 5\\right] & \\left[ 8 \\cdot 1, \\  9 \\cdot 6\\right] & \\left[ 8 \\cdot 2, \\  9 \\cdot 7\\right] & \\left[ 8 \\cdot 3, \\  9 \\cdot 8\\right] & \\left[ 8 \\cdot 4, \\  9 \\cdot 9\\right]\\end{matrix}\\right]$"
      ],
      "text/plain": [
       "Matrix([\n",
       "[[0 \\cdot 0, 1 \\cdot 5], [0 \\cdot 1, 1 \\cdot 6], [0 \\cdot 2, 1 \\cdot 7], [0 \\cdot 3, 1 \\cdot 8], [0 \\cdot 4, 1 \\cdot 9]],\n",
       "[[2 \\cdot 0, 3 \\cdot 5], [2 \\cdot 1, 3 \\cdot 6], [2 \\cdot 2, 3 \\cdot 7], [2 \\cdot 3, 3 \\cdot 8], [2 \\cdot 4, 3 \\cdot 9]],\n",
       "[[4 \\cdot 0, 5 \\cdot 5], [4 \\cdot 1, 5 \\cdot 6], [4 \\cdot 2, 5 \\cdot 7], [4 \\cdot 3, 5 \\cdot 8], [4 \\cdot 4, 5 \\cdot 9]],\n",
       "[[6 \\cdot 0, 7 \\cdot 5], [6 \\cdot 1, 7 \\cdot 6], [6 \\cdot 2, 7 \\cdot 7], [6 \\cdot 3, 7 \\cdot 8], [6 \\cdot 4, 7 \\cdot 9]],\n",
       "[[8 \\cdot 0, 9 \\cdot 5], [8 \\cdot 1, 9 \\cdot 6], [8 \\cdot 2, 9 \\cdot 7], [8 \\cdot 3, 9 \\cdot 8], [8 \\cdot 4, 9 \\cdot 9]]])"
      ]
     },
     "metadata": {},
     "output_type": "display_data"
    }
   ],
   "source": [
    "def explain_multiply(a, b):\n",
    "    # #rows in b == #columns in a\n",
    "    assert(np.shape(a)[1] == np.shape(b)[0])\n",
    "    rows = np.shape(a)[0]\n",
    "    columns = np.shape(b)[1]\n",
    "    result = np.empty(shape=(rows, columns), dtype=object)\n",
    "    for i in range(rows):\n",
    "        row = a[i,:]\n",
    "        for j in range(columns):\n",
    "            column = b[:,j]\n",
    "#             print(row)\n",
    "#             print(column)\n",
    "            zipped = zip(row, column)\n",
    "            mapped = map(lambda t: Symbol(f\"{latex(u(t[0]))} \\cdot {latex(u(t[1]))}\"), zipped)\n",
    "            result[i, j] = list(mapped)\n",
    "                \n",
    "    return sp.Matrix(result)\n",
    "\n",
    "a = np.arange(10).reshape((5,2))\n",
    "b = np.arange(10).reshape((2,5))\n",
    "print(a)\n",
    "print(b)\n",
    "print(a.dot(b))\n",
    "\n",
    "display(explain_multiply(a, b))"
   ]
  },
  {
   "cell_type": "code",
   "execution_count": null,
   "id": "varied-chapel",
   "metadata": {},
   "outputs": [],
   "source": []
  }
 ],
 "metadata": {
  "kernelspec": {
   "display_name": "exercise",
   "language": "python",
   "name": "exercise"
  },
  "language_info": {
   "codemirror_mode": {
    "name": "ipython",
    "version": 3
   },
   "file_extension": ".py",
   "mimetype": "text/x-python",
   "name": "python",
   "nbconvert_exporter": "python",
   "pygments_lexer": "ipython3",
   "version": "3.9.2"
  }
 },
 "nbformat": 4,
 "nbformat_minor": 5
}
