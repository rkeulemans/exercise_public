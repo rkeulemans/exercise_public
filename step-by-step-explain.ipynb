{
 "cells": [
  {
   "cell_type": "code",
   "execution_count": 1,
   "id": "dress-weekly",
   "metadata": {},
   "outputs": [],
   "source": [
    "from Exercise import Exercise, MarkdownBlock\n",
    "from config import URL, TOKEN\n",
    "import json\n",
    "\n",
    "import numpy as np\n",
    "import sympy as sp\n",
    "import matplotlib.pyplot as plt\n",
    "import pandas as pd\n",
    "plt.rcParams.update({'font.size': 20})\n",
    "\n",
    "from sklearn.datasets import load_digits\n",
    "from sklearn import preprocessing\n",
    "from sklearn.model_selection import train_test_split\n",
    "from sklearn.metrics import accuracy_score\n",
    "\n",
    "\n",
    "Exercise.URL = URL\n",
    "Exercise.TOKEN = TOKEN"
   ]
  },
  {
   "cell_type": "code",
   "execution_count": 121,
   "id": "lucky-curtis",
   "metadata": {},
   "outputs": [
    {
     "data": {
      "text/latex": [
       "$\\displaystyle \\left[\\begin{matrix}a_{0, 0} & a_{0, 1} & a_{0, 2}\\\\a_{1, 0} & a_{1, 1} & a_{1, 2}\\\\a_{2, 0} & a_{2, 1} & a_{2, 2}\\end{matrix}\\right]$"
      ],
      "text/plain": [
       "Matrix([\n",
       "[a_{0, 0}, a_{0, 1}, a_{0, 2}],\n",
       "[a_{1, 0}, a_{1, 1}, a_{1, 2}],\n",
       "[a_{2, 0}, a_{2, 1}, a_{2, 2}]])"
      ]
     },
     "metadata": {},
     "output_type": "display_data"
    },
    {
     "data": {
      "text/html": [
       "<p>What is <span class=\"arithmatex\">$\\left[\\begin{matrix}\\frac{1}{2}\\\\\\frac{3}{8}\\\\\\frac{2}{5}\\\\1\\end{matrix}\\right] + \\left[\\begin{matrix}-1\\\\-2\\\\-3\\\\-4\\end{matrix}\\right]?$</span></p>"
      ],
      "text/plain": [
       "<IPython.core.display.HTML object>"
      ]
     },
     "metadata": {},
     "output_type": "display_data"
    },
    {
     "data": {
      "text/html": [
       "Incorrect, no specific feedback provided matching your answer"
      ],
      "text/plain": [
       "<IPython.core.display.HTML object>"
      ]
     },
     "metadata": {},
     "output_type": "display_data"
    },
    {
     "name": "stdout",
     "output_type": "stream",
     "text": [
      "Published succesfully, preview at: https://www.mscthesis.nl/preview?id=5b664f34-9c27-4f99-a007-76ff55e68920\n"
     ]
    }
   ],
   "source": [
    "a = np.arange(4)\n",
    "b = -1 * np.arange(1, 5)\n",
    "\n",
    "a = sp.Matrix([Rational(1/2), Rational(3/8), Rational(2, 5), Rational(1/1)])\n",
    "b = sp.Matrix(b)\n",
    "\n",
    "u = lambda x: sp.UnevaluatedExpr(x) \n",
    "\n",
    "u(u(a) + u(b))\n",
    "\n",
    "from sympy import Add, Mul\n",
    "from sympy import * \n",
    "\n",
    "def explain_add(a, b):\n",
    "    assert(np.shape(a) == np.shape(b))\n",
    "    rows, columns = np.shape(a)\n",
    "    result = np.empty(shape=(rows, columns), dtype=\"object\")\n",
    "    for i in range(rows):\n",
    "        for j in range(columns): \n",
    "              # Arguably, this is a hack\n",
    "              result[i,j] = Symbol(f\"({latex(u(a[i,j]))} + {latex(u(b[i,j]))})\")\n",
    "    return u(sp.Matrix(result))\n",
    "\n",
    "def def_add(rows, columns):\n",
    "    result = np.empty(shape=(rows, columns), dtype=\"object\")\n",
    "    a = np.empty(shape=(rows, columns), dtype=\"object\")\n",
    "    b = np.empty(shape=(rows, columns), dtype=\"object\")\n",
    "    for i in range(rows):\n",
    "        for j in range(columns): \n",
    "              a[i, j] = Symbol(f\"a_{{{i}, {j}}}\")\n",
    "              result[i,j] = Symbol(f\"a_{{i, j}} + b_{{i, j}}\")\n",
    "    return u(sp.Matrix(a))\n",
    "\n",
    "display(def_add(3,3))\n",
    "    \n",
    "\n",
    "# display(a)\n",
    "# display(b)\n",
    "\n",
    "# display(explain_add(a, b))\n",
    "\n",
    "s = \"What is $@a + @b?$\"\n",
    "\n",
    "params = {}\n",
    "params[\"a\"] = a\n",
    "params[\"b\"] = b\n",
    "e = Exercise(MarkdownBlock(s, params))\n",
    "\n",
    "e.display()\n",
    "\n",
    "s1 = \"Yes, $@a + @b = @c = @d$!\"\n",
    "\n",
    "params[\"c\"] = explain_add(a,b)\n",
    "params[\"d\"] = a + b\n",
    "e.add_answer(1, True, MarkdownBlock(s1, params))\n",
    "e.evaluate_answer(params[\"d\"])\n",
    "e.write()\n",
    "e.publish()"
   ]
  },
  {
   "cell_type": "code",
   "execution_count": null,
   "id": "after-collection",
   "metadata": {},
   "outputs": [],
   "source": []
  }
 ],
 "metadata": {
  "kernelspec": {
   "display_name": "exercise",
   "language": "python",
   "name": "exercise"
  },
  "language_info": {
   "codemirror_mode": {
    "name": "ipython",
    "version": 3
   },
   "file_extension": ".py",
   "mimetype": "text/x-python",
   "name": "python",
   "nbconvert_exporter": "python",
   "pygments_lexer": "ipython3",
   "version": "3.9.2"
  }
 },
 "nbformat": 4,
 "nbformat_minor": 5
}
