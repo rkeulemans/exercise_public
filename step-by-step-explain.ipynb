{
 "cells": [
  {
   "cell_type": "code",
   "execution_count": 1,
   "id": "suspected-chapter",
   "metadata": {},
   "outputs": [],
   "source": [
    "from Exercise import Exercise, MarkdownBlock\n",
    "from config import URL, TOKEN\n",
    "import json\n",
    "\n",
    "import numpy as np\n",
    "import sympy as sp\n",
    "import matplotlib.pyplot as plt\n",
    "import pandas as pd\n",
    "plt.rcParams.update({'font.size': 20})\n",
    "\n",
    "from sklearn.datasets import load_digits\n",
    "from sklearn import preprocessing\n",
    "from sklearn.model_selection import train_test_split\n",
    "from sklearn.metrics import accuracy_score\n",
    "\n",
    "\n",
    "Exercise.URL = URL\n",
    "Exercise.TOKEN = TOKEN"
   ]
  },
  {
   "cell_type": "code",
   "execution_count": 150,
   "id": "formed-christmas",
   "metadata": {},
   "outputs": [
    {
     "data": {
      "text/html": [
       "<p>What is <span class=\"arithmatex\">$\\left[\\begin{matrix}\\frac{1}{2}\\\\\\frac{3}{8}\\\\\\frac{2}{5}\\\\1\\end{matrix}\\right] + \\left[\\begin{matrix}-1\\\\-2\\\\-3\\\\-4\\end{matrix}\\right]?$</span></p>"
      ],
      "text/plain": [
       "<IPython.core.display.HTML object>"
      ]
     },
     "metadata": {},
     "output_type": "display_data"
    },
    {
     "data": {
      "text/html": [
       "<p>Yes, <span class=\"arithmatex\">$\\left[\\begin{matrix}\\frac{1}{2}\\\\\\frac{3}{8}\\\\\\frac{2}{5}\\\\1\\end{matrix}\\right] + \\left[\\begin{matrix}-1\\\\-2\\\\-3\\\\-4\\end{matrix}\\right] = \\left[\\begin{matrix}(\\frac{1}{2} + -1)\\\\(\\frac{3}{8} + -2)\\\\(\\frac{2}{5} + -3)\\\\(1 + -4)\\end{matrix}\\right] = \\left[\\begin{matrix}- \\frac{1}{2}\\\\- \\frac{13}{8}\\\\- \\frac{13}{5}\\\\-3\\end{matrix}\\right]$</span>!</p>"
      ],
      "text/plain": [
       "<IPython.core.display.HTML object>"
      ]
     },
     "metadata": {},
     "output_type": "display_data"
    },
    {
     "name": "stdout",
     "output_type": "stream",
     "text": [
      "Published succesfully, preview at: https://www.mscthesis.nl/preview?id=5aad76f1-d38f-4860-ab1d-4935ac445771\n"
     ]
    }
   ],
   "source": [
    "a = np.arange(4)\n",
    "b = -1 * np.arange(1, 5)\n",
    "\n",
    "a = sp.Matrix([Rational(1/2), Rational(3/8), Rational(2, 5), Rational(1/1)])\n",
    "b = sp.Matrix(b)\n",
    "\n",
    "from sympy import Add, Mul\n",
    "from sympy import * \n",
    "\n",
    "u = lambda x : UnevaluatedExpr(x)\n",
    "\n",
    "def explain_add(a, b):\n",
    "    assert(np.shape(a) == np.shape(b))\n",
    "    rows, columns = np.shape(a)\n",
    "    return sp.Matrix([[Symbol(f\"({latex(u(a[i,j]))} + {latex(u(b[i,j]))})\") for j in range(columns)] for i in range(rows)])\n",
    "\n",
    "def symbolic_matrix(character, rows, columns):\n",
    "    return sp.Matrix([[Symbol(f\"{{{character}}}_{{{i}, {j}}}\") for j in range(columns)] for i in range(rows)])\n",
    "\n",
    "# display(a)\n",
    "# display(b)\n",
    "\n",
    "# display(explain_add(a, b))\n",
    "\n",
    "s = \"What is $@a + @b?$\"\n",
    "\n",
    "params = {}\n",
    "params[\"a\"] = a\n",
    "params[\"b\"] = b\n",
    "e = Exercise(MarkdownBlock(s, params))\n",
    "\n",
    "e.display()\n",
    "\n",
    "s1 = \"Yes, $@a + @b = @c = @d$!\"\n",
    "\n",
    "params[\"c\"] = explain_add(a,b)\n",
    "params[\"d\"] = a + b\n",
    "e.add_answer(a + b, True, MarkdownBlock(s1, params))\n",
    "e.evaluate_answer(params[\"d\"])\n",
    "\n",
    "e.x = symbolic_matrix(\"a\", 3,2)\n",
    "e.y = symbolic_matrix(\"b\", 3,2)\n",
    "e.z = explain_add(e.x, e.y)\n",
    "default_feedback = \"Remember the definition of matrix addition: $@x + @y = @z$\"\n",
    "e.add_default_feedback(MarkdownBlock(default_feedback, vars(e)))\n",
    "\n",
    "e.write()\n",
    "e.publish()"
   ]
  },
  {
   "cell_type": "code",
   "execution_count": null,
   "id": "indonesian-spencer",
   "metadata": {},
   "outputs": [],
   "source": []
  }
 ],
 "metadata": {
  "kernelspec": {
   "display_name": "exercise",
   "language": "python",
   "name": "exercise"
  },
  "language_info": {
   "codemirror_mode": {
    "name": "ipython",
    "version": 3
   },
   "file_extension": ".py",
   "mimetype": "text/x-python",
   "name": "python",
   "nbconvert_exporter": "python",
   "pygments_lexer": "ipython3",
   "version": "3.9.2"
  }
 },
 "nbformat": 4,
 "nbformat_minor": 5
}
