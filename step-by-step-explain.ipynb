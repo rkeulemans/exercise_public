{
 "cells": [
  {
   "cell_type": "code",
   "execution_count": 2,
   "id": "parental-klein",
   "metadata": {},
   "outputs": [],
   "source": [
    "from Exercise import Exercise, MarkdownBlock\n",
    "from config import URL, TOKEN\n",
    "import json\n",
    "\n",
    "import numpy as np\n",
    "import sympy as sp\n",
    "\n",
    "Exercise.URL = URL\n",
    "Exercise.TOKEN = TOKEN"
   ]
  },
  {
   "cell_type": "code",
   "execution_count": 3,
   "id": "genuine-voice",
   "metadata": {},
   "outputs": [],
   "source": [
    "from sympy import Rational, Symbol, latex, UnevaluatedExpr\n",
    "\n",
    "u = lambda x : UnevaluatedExpr(x)\n",
    "\n",
    "# Helper functions\n",
    "def explain_add(a, b):\n",
    "    assert(np.shape(a) == np.shape(b))\n",
    "    rows, columns = np.shape(a)\n",
    "    return sp.Matrix([[Symbol(f\"({latex(u(a[i,j]))} + {latex(u(b[i,j]))})\") for j in range(columns)] for i in range(rows)])\n",
    "\n",
    "def symbolic_matrix(character, rows, columns):\n",
    "    return sp.Matrix([[Symbol(f\"{{{character}}}_{{{i+1}, {j+1}}}\") for j in range(columns)] for i in range(rows)])\n",
    "\n",
    "def explain_multiply(a, b):\n",
    "    # #rows in b == #columns in a\n",
    "    assert(np.shape(a)[1] == np.shape(b)[0])\n",
    "    rows = np.shape(a)[0]\n",
    "    columns = np.shape(b)[1]\n",
    "    result = np.empty(shape=(rows, columns), dtype=object)\n",
    "    for i in range(rows):\n",
    "        row = a[i,:]\n",
    "        for j in range(columns):\n",
    "            column = b[:,j]\n",
    "            zipped = zip(row, column)\n",
    "            mapped = list(map(lambda t: f\"{latex(u(t[0]))} \\cdot {latex(u(t[1]))}\", zipped))\n",
    "            s = Symbol(\"\") \n",
    "            result[i, j] = Symbol(\" + \".join(mapped), evaluate=False)\n",
    "                \n",
    "    return sp.Matrix(result)\n",
    "\n",
    "# TODO: fixme for >= 3 dim matrices\n",
    "# TODO: print intermediate steps at each return\n",
    "def explain_det(a):\n",
    "    # square matrix\n",
    "    assert(np.shape(a)[0] == np.shape(a)[1])\n",
    "    if np.shape(a)[0] == 1:\n",
    "        return a[0,0]\n",
    "    if np.shape(a)[0] == 2:\n",
    "        return f\"{a[0,0]} \\cdot {a[1,1]} - {a[0,1]} \\cdot {a[0,1]}\"\n",
    "    else:\n",
    "        return f\"{a[0,0]} \\cdot {explain_det(a[1:,1:])} - {a[0,1]} \\cdot {[[a[1,0], a[1,2]], [a[2,0], a[2,2]]]} + {a[0,2]} \\cdot {[[a[1,0], a[1,2]], [a[1,1], a[2,1]]]}\"\n",
    "\n",
    "# A = symbolic_matrix(\"a\", 3, 3)\n",
    "# e = Exercise(f\"${explain_det(A)}$\")\n",
    "# e.display()"
   ]
  },
  {
   "cell_type": "code",
   "execution_count": 4,
   "id": "ancient-defendant",
   "metadata": {},
   "outputs": [
    {
     "data": {
      "text/html": [
       "<p>Yes, $\\left[\\begin{matrix}0\\\\1\\\\2\\\\3\\end{matrix}\\right] + \\left[\\begin{matrix}-1\\\\-2\\\\-3\\\\-4\\end{matrix}\\right] = \\left[\\begin{matrix}(0 + -1)\\\\(1 + -2)\\\\(2 + -3)\\\\(3 + -4)\\end{matrix}\\right] = \\left[\\begin{matrix}-1\\\\-1\\\\-1\\\\-1\\end{matrix}\\right]$!</p>"
      ],
      "text/plain": [
       "<IPython.core.display.HTML object>"
      ]
     },
     "metadata": {},
     "output_type": "display_data"
    },
    {
     "data": {
      "text/html": [
       "<p>Remember the definition of matrix addition: $\\left[\\begin{matrix}{a}_{1, 1}\\\\{a}_{2, 1}\\\\{a}_{3, 1}\\\\{a}_{4, 1}\\end{matrix}\\right] + \\left[\\begin{matrix}{b}_{1, 1}\\\\{b}_{2, 1}\\\\{b}_{3, 1}\\\\{b}_{4, 1}\\end{matrix}\\right] = \\left[\\begin{matrix}({a}_{1, 1} + {b}_{1, 1})\\\\({a}_{2, 1} + {b}_{2, 1})\\\\({a}_{3, 1} + {b}_{3, 1})\\\\({a}_{4, 1} + {b}_{4, 1})\\end{matrix}\\right]$</p>"
      ],
      "text/plain": [
       "<IPython.core.display.HTML object>"
      ]
     },
     "metadata": {},
     "output_type": "display_data"
    }
   ],
   "source": [
    "a = np.arange(4)\n",
    "b = -1 * np.arange(1, 5)\n",
    "a = sp.Matrix(a)\n",
    "b = sp.Matrix(b)\n",
    "\n",
    "s = \"What is $@a + @b?$\"\n",
    "\n",
    "params = {}\n",
    "params[\"a\"] = a\n",
    "params[\"b\"] = b\n",
    "e = Exercise(MarkdownBlock(s, params))\n",
    "\n",
    "# e.display()\n",
    "# e.play()\n",
    "\n",
    "s1 = \"Yes, $@a + @b = @c = @d$!\"\n",
    "\n",
    "params[\"c\"] = explain_add(a,b)\n",
    "params[\"d\"] = a + b\n",
    "e.add_answer(a + b, True, MarkdownBlock(s1, params))\n",
    "e.evaluate_answer(params[\"d\"])\n",
    "\n",
    "e.x = symbolic_matrix(\"a\", 4,1)\n",
    "e.y = symbolic_matrix(\"b\", 4,1)\n",
    "e.z = explain_add(e.x, e.y)\n",
    "default_feedback = \"Remember the definition of matrix addition: $@x + @y = @z$\"\n",
    "e.add_default_feedback(MarkdownBlock(default_feedback, vars(e)))\n",
    "e.evaluate_answer(1)\n",
    "\n",
    "e.write()\n",
    "# e.publish()"
   ]
  },
  {
   "cell_type": "code",
   "execution_count": 8,
   "id": "distributed-blocking",
   "metadata": {},
   "outputs": [
    {
     "data": {
      "text/latex": [
       "$\\displaystyle \\left[\\begin{matrix}16 & 4 & 0\\end{matrix}\\right]$"
      ],
      "text/plain": [
       "Matrix([[16, 4, 0]])"
      ]
     },
     "metadata": {},
     "output_type": "display_data"
    },
    {
     "data": {
      "text/html": [
       "\n",
       "        <iframe\n",
       "            width=\"800\"\n",
       "            height=\"350\"\n",
       "            src=\"https://www.mscthesis.nl/preview?id=2f5ed22d-5d84-405b-9d32-08a0b7fc15ee\"\n",
       "            frameborder=\"0\"\n",
       "            allowfullscreen\n",
       "        ></iframe>\n",
       "        "
      ],
      "text/plain": [
       "<IPython.lib.display.IFrame at 0x114403310>"
      ]
     },
     "metadata": {},
     "output_type": "display_data"
    },
    {
     "name": "stdout",
     "output_type": "stream",
     "text": [
      "Published succesfully, preview at: https://www.mscthesis.nl/preview?id=2f5ed22d-5d84-405b-9d32-08a0b7fc15ee\n"
     ]
    }
   ],
   "source": [
    "s = \"What is $@a \\cdot @b$?\"\n",
    "\n",
    "rows = np.random.randint(1, 6)\n",
    "columns = np.random.randint(1, 6)\n",
    "\n",
    "params = {}\n",
    "params[\"a\"] = sp.Matrix(np.random.randint(5, size=rows*columns).reshape((rows,columns)))\n",
    "params[\"b\"] = sp.Matrix(np.random.randint(5, size=(2+rows)*columns).reshape((columns,rows+2)))\n",
    "\n",
    "e = Exercise(MarkdownBlock(s, params))\n",
    "\n",
    "ans = params[\"a\"] * params[\"b\"]\n",
    "display(ans)\n",
    "e.add_answer(params[\"a\"] * params[\"b\"], True, \"That's right!\")\n",
    "\n",
    "\n",
    "params = {}\n",
    "params[\"x\"] = symbolic_matrix(\"a\", rows, columns)\n",
    "params[\"y\"] = symbolic_matrix(\"b\", columns, rows+2)\n",
    "params[\"z\"] = explain_multiply(params[\"x\"], params[\"y\"])\n",
    "f = \"\"\"\n",
    "Remember the definition of matrix multiplication:\n",
    "\n",
    "$@x \\cdot @y = @z$\n",
    "\"\"\"\n",
    "e.add_default_feedback(MarkdownBlock(f, params))\n",
    "# e.evaluate_answer(1)\n",
    "\n",
    "e.write()\n",
    "\n",
    "e.play()"
   ]
  },
  {
   "cell_type": "code",
   "execution_count": 6,
   "id": "affected-species",
   "metadata": {},
   "outputs": [],
   "source": [
    "def explain_multiply(a, b):\n",
    "    # #rows in b == #columns in a\n",
    "    assert(np.shape(a)[1] == np.shape(b)[0])\n",
    "    rows = np.shape(a)[0]\n",
    "    columns = np.shape(b)[1]\n",
    "    result = np.empty(shape=(rows, columns), dtype=object)\n",
    "    for i in range(rows):\n",
    "        row = a[i,:]\n",
    "        for j in range(columns):\n",
    "            column = b[:,j]\n",
    "            zipped = zip(row, column)\n",
    "            mapped = list(map(lambda t: f\"{latex(u(t[0]))} \\cdot {latex(u(t[1]))}\", zipped))\n",
    "            s = Symbol(\"\") \n",
    "            result[i, j] = Symbol(\" + \".join(mapped), evaluate=False)\n",
    "                \n",
    "    return sp.Matrix(result)\n",
    "\n",
    "# explain_multiply(np.arange(4).reshape((2,2)), np.arange(4).reshape((2,2)))"
   ]
  },
  {
   "cell_type": "code",
   "execution_count": 7,
   "id": "strange-mexico",
   "metadata": {},
   "outputs": [
    {
     "data": {
      "text/latex": [
       "$\\displaystyle 3 \\left[\\begin{matrix}{a}_{1, 1}\\\\{a}_{2, 1}\\\\{a}_{3, 1}\\end{matrix}\\right]$"
      ],
      "text/plain": [
       "3*Matrix([\n",
       "[{a}_{1, 1}],\n",
       "[{a}_{2, 1}],\n",
       "[{a}_{3, 1}]])"
      ]
     },
     "metadata": {},
     "output_type": "display_data"
    },
    {
     "data": {
      "text/latex": [
       "$\\displaystyle \\left[\\begin{matrix}3 {a}_{1, 1}\\\\3 {a}_{2, 1}\\\\3 {a}_{3, 1}\\end{matrix}\\right]$"
      ],
      "text/plain": [
       "Matrix([\n",
       "[3*{a}_{1, 1}],\n",
       "[3*{a}_{2, 1}],\n",
       "[3*{a}_{3, 1}]])"
      ]
     },
     "metadata": {},
     "output_type": "display_data"
    }
   ],
   "source": [
    "v = symbolic_matrix(\"a\", 3, 1)\n",
    "display(3*u(v))\n",
    "display(3*v)\n"
   ]
  },
  {
   "cell_type": "markdown",
   "id": "complimentary-mountain",
   "metadata": {},
   "source": [
    "# TODO: meaningfull, contextualized exercises for each of these:\n",
    "- scalar def.\n",
    "- vector def.\n",
    "- matrix def.\n",
    "- vector indexing\n",
    "- matrix indexing\n",
    "- total values in a matrix\n",
    "- vector dimensions\n",
    "- matrix dimensions\n",
    "- special matrices\n",
    "- transpose\n",
    "- operations (+, *), linear combinations\n",
    "- dot product, cross product, norm\n",
    "- cosine similarity"
   ]
  },
  {
   "cell_type": "markdown",
   "id": "determined-conjunction",
   "metadata": {},
   "source": [
    "## Matrix Transpose"
   ]
  },
  {
   "cell_type": "code",
   "execution_count": null,
   "id": "neutral-communications",
   "metadata": {},
   "outputs": [],
   "source": [
    "m = \"Determine $@a^\\intercal$?\"\n",
    "\n",
    "a = np.arange(6).reshape((2, 3))\n",
    "\n",
    "params = {}\n",
    "params[\"a\"] = sp.Matrix(a)\n",
    "\n",
    "e = Exercise(MarkdownBlock(m, params))\n",
    "e.display()\n",
    "\n",
    "e.add_answer(params[\"a\"].T, True, \"Correct!\")\n",
    "\n",
    "e.write()\n",
    "e.publish()"
   ]
  },
  {
   "cell_type": "markdown",
   "id": "contrary-funds",
   "metadata": {},
   "source": [
    "## Matrix Inverse"
   ]
  },
  {
   "cell_type": "code",
   "execution_count": 2,
   "id": "increasing-america",
   "metadata": {},
   "outputs": [
    {
     "ename": "NameError",
     "evalue": "name 'TEX_INLINE_WRAP_LEFT' is not defined",
     "output_type": "error",
     "traceback": [
      "\u001b[0;31m---------------------------------------------------------------------------\u001b[0m",
      "\u001b[0;31mNameError\u001b[0m                                 Traceback (most recent call last)",
      "\u001b[0;32m<ipython-input-2-41dcac302f78>\u001b[0m in \u001b[0;36m<module>\u001b[0;34m\u001b[0m\n\u001b[1;32m      6\u001b[0m \u001b[0mparams\u001b[0m\u001b[0;34m[\u001b[0m\u001b[0;34m\"a\"\u001b[0m\u001b[0;34m]\u001b[0m \u001b[0;34m=\u001b[0m \u001b[0msp\u001b[0m\u001b[0;34m.\u001b[0m\u001b[0mMatrix\u001b[0m\u001b[0;34m(\u001b[0m\u001b[0ma\u001b[0m\u001b[0;34m)\u001b[0m\u001b[0;34m\u001b[0m\u001b[0;34m\u001b[0m\u001b[0m\n\u001b[1;32m      7\u001b[0m \u001b[0;34m\u001b[0m\u001b[0m\n\u001b[0;32m----> 8\u001b[0;31m \u001b[0me\u001b[0m \u001b[0;34m=\u001b[0m \u001b[0mExercise\u001b[0m\u001b[0;34m(\u001b[0m\u001b[0mMarkdownBlock\u001b[0m\u001b[0;34m(\u001b[0m\u001b[0mm\u001b[0m\u001b[0;34m,\u001b[0m \u001b[0mparams\u001b[0m\u001b[0;34m)\u001b[0m\u001b[0;34m)\u001b[0m\u001b[0;34m\u001b[0m\u001b[0;34m\u001b[0m\u001b[0m\n\u001b[0m\u001b[1;32m      9\u001b[0m \u001b[0me\u001b[0m\u001b[0;34m.\u001b[0m\u001b[0mdisplay\u001b[0m\u001b[0;34m(\u001b[0m\u001b[0;34m)\u001b[0m\u001b[0;34m\u001b[0m\u001b[0;34m\u001b[0m\u001b[0m\n\u001b[1;32m     10\u001b[0m \u001b[0;34m\u001b[0m\u001b[0m\n",
      "\u001b[0;32m~/Projects/exercise_public/Exercise.py\u001b[0m in \u001b[0;36m__init__\u001b[0;34m(self, md, params)\u001b[0m\n\u001b[1;32m     38\u001b[0m             \u001b[0mself\u001b[0m\u001b[0;34m.\u001b[0m\u001b[0mparams\u001b[0m\u001b[0;34m[\u001b[0m\u001b[0mkey\u001b[0m\u001b[0;34m]\u001b[0m \u001b[0;34m=\u001b[0m \u001b[0msp\u001b[0m\u001b[0;34m.\u001b[0m\u001b[0mlatex\u001b[0m\u001b[0;34m(\u001b[0m\u001b[0mself\u001b[0m\u001b[0;34m.\u001b[0m\u001b[0mparams\u001b[0m\u001b[0;34m[\u001b[0m\u001b[0mkey\u001b[0m\u001b[0;34m]\u001b[0m\u001b[0;34m)\u001b[0m\u001b[0;34m\u001b[0m\u001b[0;34m\u001b[0m\u001b[0m\n\u001b[1;32m     39\u001b[0m \u001b[0;34m\u001b[0m\u001b[0m\n\u001b[0;32m---> 40\u001b[0;31m         self.html = self.to_html(\n\u001b[0m\u001b[1;32m     41\u001b[0m             self.__MathTemplate(md).substitute(self.params))\n\u001b[1;32m     42\u001b[0m \u001b[0;34m\u001b[0m\u001b[0m\n",
      "\u001b[0;32m~/Projects/exercise_public/Exercise.py\u001b[0m in \u001b[0;36mto_html\u001b[0;34m(self, string)\u001b[0m\n\u001b[1;32m     58\u001b[0m             \"pymdownx.arithmatex\": {\n\u001b[1;32m     59\u001b[0m                 \u001b[0;34m\"generic\"\u001b[0m\u001b[0;34m:\u001b[0m \u001b[0;32mTrue\u001b[0m\u001b[0;34m,\u001b[0m\u001b[0;34m\u001b[0m\u001b[0;34m\u001b[0m\u001b[0m\n\u001b[0;32m---> 60\u001b[0;31m                 \u001b[0;34m\"tex_inline_wrap\"\u001b[0m\u001b[0;34m:\u001b[0m \u001b[0;34m[\u001b[0m\u001b[0mTEX_INLINE_WRAP_LEFT\u001b[0m\u001b[0;34m,\u001b[0m \u001b[0mTEX_INLINE_WRAP_RIGHT\u001b[0m\u001b[0;34m]\u001b[0m\u001b[0;34m,\u001b[0m\u001b[0;34m\u001b[0m\u001b[0;34m\u001b[0m\u001b[0m\n\u001b[0m\u001b[1;32m     61\u001b[0m                 \u001b[0;34m\"tex_block_wrap\"\u001b[0m\u001b[0;34m:\u001b[0m \u001b[0;34m[\u001b[0m\u001b[0;34m'$$'\u001b[0m\u001b[0;34m,\u001b[0m \u001b[0;34m'$$'\u001b[0m\u001b[0;34m]\u001b[0m\u001b[0;34m,\u001b[0m\u001b[0;34m\u001b[0m\u001b[0;34m\u001b[0m\u001b[0m\n\u001b[1;32m     62\u001b[0m             },\n",
      "\u001b[0;31mNameError\u001b[0m: name 'TEX_INLINE_WRAP_LEFT' is not defined"
     ]
    }
   ],
   "source": [
    "m = \"Determine $@a^{-1}$?\"\n",
    "\n",
    "a = np.arange(4).reshape((2, 2))\n",
    "\n",
    "params = {}\n",
    "params[\"a\"] = sp.Matrix(a)\n",
    "\n",
    "e = Exercise(MarkdownBlock(m, params))\n",
    "e.display()\n",
    "\n",
    "e.add_answer(params[\"a\"].inv(), True, \"Correct!\")\n",
    "\n",
    "e.write()\n",
    "e.publish()"
   ]
  },
  {
   "cell_type": "code",
   "execution_count": 61,
   "id": "acoustic-replication",
   "metadata": {},
   "outputs": [
    {
     "data": {
      "text/html": [
       "<p>Given <span class=\"arithmatex\">$A = \\left[\\begin{matrix}0 &amp; 1\\\\2 &amp; 3\\end{matrix}\\right]$</span>, what is <span class=\"arithmatex\">$det(A)$</span>?</p>"
      ],
      "text/plain": [
       "<IPython.core.display.HTML object>"
      ]
     },
     "metadata": {},
     "output_type": "display_data"
    },
    {
     "name": "stdout",
     "output_type": "stream",
     "text": [
      "Published succesfully, preview at: https://www.mscthesis.nl/preview?id=6e731c50-d2f4-474a-8f59-3f9976d352a7\n"
     ]
    }
   ],
   "source": [
    "m = \"Given $A = @a$, what is $det(A)$?\"\n",
    "\n",
    "a = np.arange(4).reshape((2, 2))\n",
    "params = {}\n",
    "params[\"a\"] = sp.Matrix(a)\n",
    "\n",
    "e = Exercise(MarkdownBlock(m, params))\n",
    "e.display()\n",
    "\n",
    "e.add_answer(params[\"a\"].det(), True, \"Correct!\")\n",
    "\n",
    "e.write()\n",
    "e.publish()"
   ]
  },
  {
   "cell_type": "code",
   "execution_count": null,
   "id": "medieval-pointer",
   "metadata": {},
   "outputs": [],
   "source": []
  }
 ],
 "metadata": {
  "kernelspec": {
   "display_name": "exercise",
   "language": "python",
   "name": "exercise"
  },
  "language_info": {
   "codemirror_mode": {
    "name": "ipython",
    "version": 3
   },
   "file_extension": ".py",
   "mimetype": "text/x-python",
   "name": "python",
   "nbconvert_exporter": "python",
   "pygments_lexer": "ipython3",
   "version": "3.9.2"
  }
 },
 "nbformat": 4,
 "nbformat_minor": 5
}
