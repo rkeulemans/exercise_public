{
 "cells": [
  {
   "cell_type": "code",
   "execution_count": 1,
   "id": "referenced-claim",
   "metadata": {},
   "outputs": [],
   "source": [
    "from Exercise import Exercise, MarkdownBlock\n",
    "from config import URL, TOKEN\n",
    "import json\n",
    "\n",
    "import numpy as np\n",
    "import sympy as sp\n",
    "import matplotlib.pyplot as plt\n",
    "import pandas as pd\n",
    "plt.rcParams.update({'font.size': 20})\n",
    "\n",
    "from sklearn.datasets import load_digits\n",
    "from sklearn import preprocessing\n",
    "from sklearn.model_selection import train_test_split\n",
    "from sklearn.metrics import accuracy_score\n",
    "\n",
    "\n",
    "Exercise.URL = URL\n",
    "Exercise.TOKEN = TOKEN"
   ]
  },
  {
   "cell_type": "code",
   "execution_count": 67,
   "id": "opposite-nebraska",
   "metadata": {},
   "outputs": [
    {
     "data": {
      "text/latex": [
       "$\\displaystyle \\left[\\begin{matrix}0\\\\1\\\\2\\\\3\\end{matrix}\\right]$"
      ],
      "text/plain": [
       "Matrix([\n",
       "[0],\n",
       "[1],\n",
       "[2],\n",
       "[3]])"
      ]
     },
     "metadata": {},
     "output_type": "display_data"
    },
    {
     "data": {
      "text/latex": [
       "$\\displaystyle \\left[\\begin{matrix}-1\\\\-2\\\\-3\\\\-4\\end{matrix}\\right]$"
      ],
      "text/plain": [
       "Matrix([\n",
       "[-1],\n",
       "[-2],\n",
       "[-3],\n",
       "[-4]])"
      ]
     },
     "metadata": {},
     "output_type": "display_data"
    },
    {
     "data": {
      "text/latex": [
       "$\\displaystyle \\left[\\begin{matrix}0 + -1\\\\1 + -2\\\\2 + -3\\\\3 + -4\\end{matrix}\\right]$"
      ],
      "text/plain": [
       "Matrix([\n",
       "[0 + -1],\n",
       "[1 + -2],\n",
       "[2 + -3],\n",
       "[3 + -4]])"
      ]
     },
     "execution_count": 67,
     "metadata": {},
     "output_type": "execute_result"
    }
   ],
   "source": [
    "a = np.arange(4)\n",
    "b = -1 * np.arange(1, 5)\n",
    "\n",
    "a = sp.Matrix(a)\n",
    "b = sp.Matrix(b)\n",
    "\n",
    "u = lambda x: sp.UnevaluatedExpr(x) \n",
    "\n",
    "u(u(a) + u(b))\n",
    "\n",
    "from sympy import Add, Mul\n",
    "from sympy import * \n",
    "\n",
    "def explain_add(a, b):\n",
    "    assert(np.shape(a) == np.shape(b))\n",
    "    rows, columns = np.shape(a)\n",
    "    result = np.empty(shape=(rows, columns), dtype=\"object\")\n",
    "    for i in range(rows):\n",
    "        for j in range(columns): \n",
    "#             result[i,j] = u(Add(u(a[i,j]), u(b[i,j]), evaluate=False))\n",
    "              result[i,j] = Symbol(f\"{u(a[i,j])} + {u(b[i,j])}\")\n",
    "              result[i,j] = result[i][j].simplify()\n",
    "#             result[i,j] = sp.simplify(f\"{u(a[i,j])}+{u(b[i,j])}\", evaluate=False)\n",
    "            \n",
    "    return u(sp.Matrix(result))\n",
    "\n",
    "display(a)\n",
    "display(b)\n",
    "\n",
    "explain_add(a, b)"
   ]
  },
  {
   "cell_type": "code",
   "execution_count": null,
   "id": "breathing-military",
   "metadata": {},
   "outputs": [],
   "source": []
  }
 ],
 "metadata": {
  "kernelspec": {
   "display_name": "exercise",
   "language": "python",
   "name": "exercise"
  },
  "language_info": {
   "codemirror_mode": {
    "name": "ipython",
    "version": 3
   },
   "file_extension": ".py",
   "mimetype": "text/x-python",
   "name": "python",
   "nbconvert_exporter": "python",
   "pygments_lexer": "ipython3",
   "version": "3.9.2"
  }
 },
 "nbformat": 4,
 "nbformat_minor": 5
}
