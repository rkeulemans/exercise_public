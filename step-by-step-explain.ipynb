{
 "cells": [
  {
   "cell_type": "code",
   "execution_count": 1,
   "id": "champion-psychology",
   "metadata": {},
   "outputs": [],
   "source": [
    "from Exercise import Exercise, MarkdownBlock\n",
    "from config import URL, TOKEN\n",
    "import json\n",
    "\n",
    "import numpy as np\n",
    "import sympy as sp\n",
    "import matplotlib.pyplot as plt\n",
    "import pandas as pd\n",
    "plt.rcParams.update({'font.size': 20})\n",
    "\n",
    "from sklearn.datasets import load_digits\n",
    "from sklearn import preprocessing\n",
    "from sklearn.model_selection import train_test_split\n",
    "from sklearn.metrics import accuracy_score\n",
    "\n",
    "\n",
    "Exercise.URL = URL\n",
    "Exercise.TOKEN = TOKEN"
   ]
  },
  {
   "cell_type": "code",
   "execution_count": 31,
   "id": "superior-quantum",
   "metadata": {},
   "outputs": [],
   "source": [
    "from sympy import Rational, Symbol, latex, UnevaluatedExpr\n",
    "\n",
    "u = lambda x : UnevaluatedExpr(x)\n",
    "\n",
    "# Helper functions\n",
    "def explain_add(a, b):\n",
    "    assert(np.shape(a) == np.shape(b))\n",
    "    rows, columns = np.shape(a)\n",
    "    return sp.Matrix([[Symbol(f\"({latex(u(a[i,j]))} + {latex(u(b[i,j]))})\") for j in range(columns)] for i in range(rows)])\n",
    "\n",
    "def symbolic_matrix(character, rows, columns):\n",
    "    return sp.Matrix([[Symbol(f\"{{{character}}}_{{{i+1}, {j+1}}}\") for j in range(columns)] for i in range(rows)])"
   ]
  },
  {
   "cell_type": "code",
   "execution_count": 32,
   "id": "compound-local",
   "metadata": {},
   "outputs": [
    {
     "data": {
      "text/html": [
       "<p>What is <span class=\"arithmatex\">$\\left[\\begin{matrix}0\\\\1\\\\2\\\\3\\end{matrix}\\right] + \\left[\\begin{matrix}-1\\\\-2\\\\-3\\\\-4\\end{matrix}\\right]?$</span></p>"
      ],
      "text/plain": [
       "<IPython.core.display.HTML object>"
      ]
     },
     "metadata": {},
     "output_type": "display_data"
    },
    {
     "data": {
      "text/html": [
       "<p>Yes, <span class=\"arithmatex\">$\\left[\\begin{matrix}0\\\\1\\\\2\\\\3\\end{matrix}\\right] + \\left[\\begin{matrix}-1\\\\-2\\\\-3\\\\-4\\end{matrix}\\right] = \\left[\\begin{matrix}(0 + -1)\\\\(1 + -2)\\\\(2 + -3)\\\\(3 + -4)\\end{matrix}\\right] = \\left[\\begin{matrix}-1\\\\-1\\\\-1\\\\-1\\end{matrix}\\right]$</span>!</p>"
      ],
      "text/plain": [
       "<IPython.core.display.HTML object>"
      ]
     },
     "metadata": {},
     "output_type": "display_data"
    },
    {
     "data": {
      "text/html": [
       "<p>Remember the definition of matrix addition: <span class=\"arithmatex\">$\\left[\\begin{matrix}{a}_{1, 1}\\\\{a}_{2, 1}\\\\{a}_{3, 1}\\\\{a}_{4, 1}\\end{matrix}\\right] + \\left[\\begin{matrix}{b}_{1, 1}\\\\{b}_{2, 1}\\\\{b}_{3, 1}\\\\{b}_{4, 1}\\end{matrix}\\right] = \\left[\\begin{matrix}({a}_{1, 1} + {b}_{1, 1})\\\\({a}_{2, 1} + {b}_{2, 1})\\\\({a}_{3, 1} + {b}_{3, 1})\\\\({a}_{4, 1} + {b}_{4, 1})\\end{matrix}\\right]$</span></p>"
      ],
      "text/plain": [
       "<IPython.core.display.HTML object>"
      ]
     },
     "metadata": {},
     "output_type": "display_data"
    }
   ],
   "source": [
    "a = np.arange(4)\n",
    "b = -1 * np.arange(1, 5)\n",
    "a = sp.Matrix(a)\n",
    "b = sp.Matrix(b)\n",
    "\n",
    "s = \"What is $@a + @b?$\"\n",
    "\n",
    "params = {}\n",
    "params[\"a\"] = a\n",
    "params[\"b\"] = b\n",
    "e = Exercise(MarkdownBlock(s, params))\n",
    "\n",
    "e.display()\n",
    "\n",
    "s1 = \"Yes, $@a + @b = @c = @d$!\"\n",
    "\n",
    "params[\"c\"] = explain_add(a,b)\n",
    "params[\"d\"] = a + b\n",
    "e.add_answer(a + b, True, MarkdownBlock(s1, params))\n",
    "e.evaluate_answer(params[\"d\"])\n",
    "\n",
    "e.x = symbolic_matrix(\"a\", 4,1)\n",
    "e.y = symbolic_matrix(\"b\", 4,1)\n",
    "e.z = explain_add(e.x, e.y)\n",
    "default_feedback = \"Remember the definition of matrix addition: $@x + @y = @z$\"\n",
    "e.add_default_feedback(MarkdownBlock(default_feedback, vars(e)))\n",
    "e.evaluate_answer(1)\n",
    "\n",
    "e.write()\n",
    "# e.publish()"
   ]
  },
  {
   "cell_type": "code",
   "execution_count": 111,
   "id": "tamil-anaheim",
   "metadata": {},
   "outputs": [
    {
     "data": {
      "text/latex": [
       "$\\displaystyle \\left[\\begin{matrix}9 & 3 & 0 & 6 & 3\\\\6 & 2 & 0 & 4 & 2\\\\12 & 4 & 0 & 8 & 4\\end{matrix}\\right]$"
      ],
      "text/plain": [
       "Matrix([\n",
       "[ 9, 3, 0, 6, 3],\n",
       "[ 6, 2, 0, 4, 2],\n",
       "[12, 4, 0, 8, 4]])"
      ]
     },
     "metadata": {},
     "output_type": "display_data"
    },
    {
     "data": {
      "text/html": [
       "<p>Remember the definition of matrix multiplication: <span class=\"arithmatex\">$\\left[\\begin{matrix}{a}_{1, 1}\\\\{a}_{2, 1}\\\\{a}_{3, 1}\\end{matrix}\\right] \\cdot \\left[\\begin{matrix}{b}_{1, 1} &amp; {b}_{1, 2} &amp; {b}_{1, 3}\\end{matrix}\\right] = \\left[\\begin{matrix}{a}_{1, 1} \\cdot {b}_{1, 1} &amp; {a}_{1, 1} \\cdot {b}_{1, 2} &amp; {a}_{1, 1} \\cdot {b}_{1, 3}\\\\{a}_{2, 1} \\cdot {b}_{1, 1} &amp; {a}_{2, 1} \\cdot {b}_{1, 2} &amp; {a}_{2, 1} \\cdot {b}_{1, 3}\\\\{a}_{3, 1} \\cdot {b}_{1, 1} &amp; {a}_{3, 1} \\cdot {b}_{1, 2} &amp; {a}_{3, 1} \\cdot {b}_{1, 3}\\end{matrix}\\right]$</span></p>"
      ],
      "text/plain": [
       "<IPython.core.display.HTML object>"
      ]
     },
     "metadata": {},
     "output_type": "display_data"
    },
    {
     "data": {
      "text/html": [
       "<p>What is <span class=\"arithmatex\">$\\left[\\begin{matrix}3\\\\2\\\\4\\end{matrix}\\right] \\cdot \\left[\\begin{matrix}3 &amp; 1 &amp; 0 &amp; 2 &amp; 1\\end{matrix}\\right]$</span>?</p>"
      ],
      "text/plain": [
       "<IPython.core.display.HTML object>"
      ]
     },
     "metadata": {},
     "output_type": "display_data"
    },
    {
     "name": "stdout",
     "output_type": "stream",
     "text": [
      "Published succesfully, preview at: https://www.mscthesis.nl/preview?id=b4c60375-387f-462f-b534-7e290df2bd69\n"
     ]
    }
   ],
   "source": [
    "s = \"What is $@a \\cdot @b$?\"\n",
    "\n",
    "rows = np.random.randint(1, 6)\n",
    "columns = np.random.randint(1, 6)\n",
    "\n",
    "params = {}\n",
    "params[\"a\"] = sp.Matrix(np.random.randint(5, size=rows*columns).reshape((rows,columns)))\n",
    "params[\"b\"] = sp.Matrix(np.random.randint(5, size=(2+rows)*columns).reshape((columns,rows+2)))\n",
    "\n",
    "e = Exercise(MarkdownBlock(s, params))\n",
    "\n",
    "ans = params[\"a\"] * params[\"b\"]\n",
    "display(ans)\n",
    "e.add_answer(params[\"a\"] * params[\"b\"], True, \"That's right!\")\n",
    "\n",
    "\n",
    "params = {}\n",
    "params[\"x\"] = symbolic_matrix(\"a\", rows, columns)\n",
    "params[\"y\"] = symbolic_matrix(\"b\", columns, rows)\n",
    "params[\"z\"] = explain_multiply(params[\"x\"], params[\"y\"])\n",
    "f = \"Remember the definition of matrix multiplication: $@x \\cdot @y = @z$\"\n",
    "e.add_default_feedback(MarkdownBlock(f, params))\n",
    "e.evaluate_answer(1)\n",
    "\n",
    "\n",
    "e.display()\n",
    "e.write()\n",
    "e.publish()"
   ]
  },
  {
   "cell_type": "code",
   "execution_count": 102,
   "id": "voluntary-moore",
   "metadata": {},
   "outputs": [],
   "source": [
    "def explain_multiply(a, b):\n",
    "    # #rows in b == #columns in a\n",
    "#     assert(np.shape(a)[1] == np.shape(b)[0])\n",
    "    rows = np.shape(a)[0]\n",
    "    columns = np.shape(b)[1]\n",
    "    result = np.empty(shape=(rows, columns), dtype=object)\n",
    "    for i in range(rows):\n",
    "        row = a[i,:]\n",
    "        for j in range(columns):\n",
    "            column = b[:,j]\n",
    "#             print(row)\n",
    "#             print(column)\n",
    "            zipped = zip(row, column)\n",
    "            mapped = list(map(lambda t: f\"{latex(u(t[0]))} \\cdot {latex(u(t[1]))}\", zipped))\n",
    "            s = Symbol(\"\") \n",
    "            result[i, j] = Symbol(\" + \".join(mapped), evaluate=False)\n",
    "                \n",
    "    return sp.Matrix(result)\n",
    "\n",
    "# explain_multiply(np.arange(4).reshape((2,2)), np.arange(4).reshape((2,2)))"
   ]
  },
  {
   "cell_type": "code",
   "execution_count": null,
   "id": "criminal-stone",
   "metadata": {},
   "outputs": [],
   "source": []
  }
 ],
 "metadata": {
  "kernelspec": {
   "display_name": "exercise",
   "language": "python",
   "name": "exercise"
  },
  "language_info": {
   "codemirror_mode": {
    "name": "ipython",
    "version": 3
   },
   "file_extension": ".py",
   "mimetype": "text/x-python",
   "name": "python",
   "nbconvert_exporter": "python",
   "pygments_lexer": "ipython3",
   "version": "3.9.2"
  }
 },
 "nbformat": 4,
 "nbformat_minor": 5
}
