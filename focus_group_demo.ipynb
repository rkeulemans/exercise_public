{
 "cells": [
  {
   "cell_type": "code",
   "execution_count": 2,
   "id": "indonesian-assignment",
   "metadata": {},
   "outputs": [],
   "source": [
    "from Exercise import Exercise, MarkdownBlock\n",
    "from config import URL, TOKEN\n",
    "import json\n",
    "\n",
    "import numpy as np\n",
    "import sympy as sp\n",
    "import matplotlib.pyplot as plt\n",
    "import pandas as pd\n",
    "plt.rcParams.update({'font.size': 20})\n",
    "\n",
    "from sklearn.datasets import load_digits\n",
    "from sklearn import preprocessing\n",
    "from sklearn.model_selection import train_test_split\n",
    "from sklearn.metrics import accuracy_score \n",
    "\n",
    "Exercise.URL = URL\n",
    "Exercise.TOKEN = TOKEN"
   ]
  },
  {
   "cell_type": "code",
   "execution_count": 84,
   "id": "early-growth",
   "metadata": {},
   "outputs": [
    {
     "data": {
      "text/html": [
       "<p>What is <span class=\"arithmatex\">$\\left[\\begin{matrix}0\\\\1\\\\2\\end{matrix}\\right] + \\left[\\begin{matrix}0\\\\1\\\\2\\end{matrix}\\right]$</span></p>"
      ],
      "text/plain": [
       "<IPython.core.display.HTML object>"
      ]
     },
     "metadata": {},
     "output_type": "display_data"
    },
    {
     "name": "stdout",
     "output_type": "stream",
     "text": [
      "Published succesfully, preview at: https://www.mscthesis.nl/preview?id=941f41ef-a6a4-421a-bd11-976e3b967fc0\n"
     ]
    }
   ],
   "source": [
    "m = \"What is $@a + @b$\"\n",
    "\n",
    "params = {}\n",
    "params[\"a\"] = sp.Matrix(np.arange(3))\n",
    "params[\"b\"] = sp.Matrix(np.arange(3))\n",
    "\n",
    "e = Exercise(MarkdownBlock(m, params))\n",
    "\n",
    "e.add_answer(params[\"a\"] + params[\"b\"], True, \"That's right!\")\n",
    "e.display()\n",
    "e.write()\n",
    "e.publish()"
   ]
  },
  {
   "cell_type": "code",
   "execution_count": null,
   "id": "sharp-favor",
   "metadata": {},
   "outputs": [],
   "source": []
  }
 ],
 "metadata": {
  "kernelspec": {
   "display_name": "exercise",
   "language": "python",
   "name": "exercise"
  },
  "language_info": {
   "codemirror_mode": {
    "name": "ipython",
    "version": 3
   },
   "file_extension": ".py",
   "mimetype": "text/x-python",
   "name": "python",
   "nbconvert_exporter": "python",
   "pygments_lexer": "ipython3",
   "version": "3.9.2"
  }
 },
 "nbformat": 4,
 "nbformat_minor": 5
}
