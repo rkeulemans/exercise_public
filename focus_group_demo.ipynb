{
 "cells": [
  {
   "cell_type": "code",
   "execution_count": 2,
   "id": "quarterly-atlantic",
   "metadata": {},
   "outputs": [],
   "source": [
    "from Exercise import Exercise, MarkdownBlock\n",
    "from config import URL, TOKEN\n",
    "import json\n",
    "\n",
    "import numpy as np\n",
    "import sympy as sp\n",
    "import matplotlib.pyplot as plt\n",
    "import pandas as pd\n",
    "plt.rcParams.update({'font.size': 20})\n",
    "\n",
    "from sklearn.datasets import load_digits\n",
    "from sklearn import preprocessing\n",
    "from sklearn.model_selection import train_test_split\n",
    "from sklearn.metrics import accuracy_score \n",
    "\n",
    "Exercise.URL = URL\n",
    "Exercise.TOKEN = TOKEN"
   ]
  },
  {
   "cell_type": "code",
   "execution_count": 76,
   "id": "built-albuquerque",
   "metadata": {},
   "outputs": [
    {
     "data": {
      "text/latex": [
       "$\\displaystyle \\left[\\begin{matrix}32 & 12 & 25 & 18\\\\10 & 4 & 11 & 6\\end{matrix}\\right]$"
      ],
      "text/plain": [
       "Matrix([\n",
       "[32, 12, 25, 18],\n",
       "[10,  4, 11,  6]])"
      ]
     },
     "metadata": {},
     "output_type": "display_data"
    },
    {
     "data": {
      "text/html": [
       "<p>What is <span class=\"arithmatex\">$\\left[\\begin{matrix}3 &amp; 4 &amp; 2\\\\1 &amp; 2 &amp; 0\\end{matrix}\\right] \\cdot \\left[\\begin{matrix}4 &amp; 0 &amp; 3 &amp; 4\\\\3 &amp; 2 &amp; 4 &amp; 1\\\\4 &amp; 2 &amp; 0 &amp; 1\\end{matrix}\\right]$</span></p>"
      ],
      "text/plain": [
       "<IPython.core.display.HTML object>"
      ]
     },
     "metadata": {},
     "output_type": "display_data"
    },
    {
     "name": "stdout",
     "output_type": "stream",
     "text": [
      "Published succesfully, preview at: https://www.mscthesis.nl/preview?id=22a6621e-9103-4c33-a9e8-4827adc3502e\n"
     ]
    }
   ],
   "source": [
    "s = \"What is $@a \\cdot @b$\"\n",
    "\n",
    "rows = np.random.randint(1, 6)\n",
    "columns = np.random.randint(1, 6)\n",
    "\n",
    "params = {}\n",
    "params[\"a\"] = sp.Matrix(np.random.randint(5, size=rows*columns).reshape((rows,columns)))\n",
    "params[\"b\"] = sp.Matrix(np.random.randint(5, size=(2+rows)*columns).reshape((columns,rows+2)))\n",
    "\n",
    "e = Exercise(MarkdownBlock(s, params))\n",
    "\n",
    "ans = params[\"a\"] * params[\"b\"]\n",
    "display(ans)\n",
    "e.add_answer(params[\"a\"] * params[\"b\"], True, \"That's right!\")\n",
    "e.add_default_feedback(\"Nope, that's not right!\")\n",
    "e.display()\n",
    "e.write()\n",
    "e.publish()"
   ]
  },
  {
   "cell_type": "code",
   "execution_count": null,
   "id": "strange-cisco",
   "metadata": {},
   "outputs": [],
   "source": []
  },
  {
   "cell_type": "code",
   "execution_count": null,
   "id": "numeric-stability",
   "metadata": {},
   "outputs": [],
   "source": []
  }
 ],
 "metadata": {
  "kernelspec": {
   "display_name": "exercise",
   "language": "python",
   "name": "exercise"
  },
  "language_info": {
   "codemirror_mode": {
    "name": "ipython",
    "version": 3
   },
   "file_extension": ".py",
   "mimetype": "text/x-python",
   "name": "python",
   "nbconvert_exporter": "python",
   "pygments_lexer": "ipython3",
   "version": "3.9.2"
  }
 },
 "nbformat": 4,
 "nbformat_minor": 5
}
