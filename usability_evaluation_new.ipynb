{
 "cells": [
  {
   "cell_type": "code",
   "execution_count": 6,
   "id": "aboriginal-variable",
   "metadata": {},
   "outputs": [],
   "source": [
    "from sympy.matrices import Matrix \n",
    "import sympy as sp\n",
    "import numpy as np\n",
    "from Exercise import Exercise, MarkdownBlock\n",
    "\n",
    "# TODO: remove me\n",
    "from config import URL, TOKEN\n",
    "\n",
    "# TODO: replace with supplied strings\n",
    "Exercise.URL = URL\n",
    "Exercise.TOKEN = TOKEN"
   ]
  },
  {
   "cell_type": "markdown",
   "id": "pretty-quarter",
   "metadata": {},
   "source": [
    "## Introduction\n",
    "In this notebook, you are about to create some (linear algebra) exercises using the developed `Exercise` Python library aiming to facilitate authoring parameterized mathematics exercises at a high level of abstraction (i.e. access to a scripting language and the libraries available in there, including as SymPy, NumPy and Matplotlib).\n",
    "Created exercises can be 'played' inline, using the web-based player developed as part of this project.\n",
    "Roughly speaking this project is new combination of existing approaches: MEGUA-like parameterized text, SymPy's CAS functionality and exercise-setup as used by Grasple and SageMath for working with mathematical objects in notebooks.\n",
    "\n",
    "The goal is to evaluate the usability of the developed library and the authoring setup (this notebook).\n",
    "Note that by no means you or your skills are being tested, it is by no means a problem if exercises are left uncompleted.\n",
    "Notes, comments and suggestions are very welcome, please write these either as code-comments or in the Markdown cells in the notebook.\n",
    "All feedback will be reported and reflected upon anonymously.\n",
    "Completing the notebook should take about 30 minutes, depending on setup time, prior knowledge about this project, familiarity with linear algebra and the supplied frameworks etc.\n",
    "Please download the notebook when done and send it by email.\n",
    "After completion, in a brief semi-structured interview, you can further elaborate upon your experiences.\n",
    "\n",
    "To start creating exercises, please replace the `URL` and `TOKEN` in the block above with the strings supplied by email:\n",
    "```\n",
    "Exercise.URL = \"<supplied_url_here>\"\n",
    "Exercise.TOKEN = \"<supplied_token_here>\"\n",
    "```\n",
    "\n",
    "Assumptions:\n",
    "- Familiarity with Python, Markdown, LaTeX\n",
    "- Familiarity with Jupyter-Notebook\n",
    "- Familiarity with the very basics of linear algebra\n",
    "\n",
    "Recommendations:\n",
    "- Use Binder (www.mybinder.org) to edit this notebook, if you prefer local setup instead, see README.md.\n",
    "- Use Firefox, the iFrame exercise player embeddings do not work in Chrome or Safari due to global cross-origin policies set by these browsers.\n",
    "- Other browsers (Chrome, Safari) can still be used, however, playing exercises is only possible outside of the notebook by clicking the generated exercise links, which is rather inconvenient.\n",
    "\n",
    "Notes:\n",
    "- Documentation can for the Python library can be found in the `html` directory.\n",
    "- Within Jupyter-Notebook, function documentation can be viewed by writing a `?` after the function, like so: `Exercise(\"What is $1 + 1$?\").add_answer?`\n",
    "- Within exercises, only inline math notation is supported.\n",
    "- Preview-exercises are purged from the server from time to time, don't expect long-term, persistent availability of any played exercises.\n",
    "- Please skip an exercise in case completing it requires more than a few minutes.\n",
    "\n",
    "Happy coding ;)"
   ]
  },
  {
   "cell_type": "markdown",
   "id": "norman-julian",
   "metadata": {},
   "source": [
    "## Exercise Basics\n",
    "The most basic exercise contains a Markdown string with the exercise content and a single answer rule specifying the correct answer.\n",
    "Mathematics notation can be written inline in LaTeX between dollar signs."
   ]
  },
  {
   "cell_type": "code",
   "execution_count": 40,
   "id": "scientific-university",
   "metadata": {},
   "outputs": [
    {
     "data": {
      "text/html": [
       "\n",
       "        <iframe\n",
       "            width=\"800\"\n",
       "            height=\"350\"\n",
       "            src=\"https://www.mscthesis.nl/preview?id=6a54c1d9-53d7-457d-8e59-6e0b1ebbb636\"\n",
       "            frameborder=\"0\"\n",
       "            allowfullscreen\n",
       "        ></iframe>\n",
       "        "
      ],
      "text/plain": [
       "<IPython.lib.display.IFrame at 0x10b60d850>"
      ]
     },
     "metadata": {},
     "output_type": "display_data"
    },
    {
     "name": "stdout",
     "output_type": "stream",
     "text": [
      "Published succesfully, preview at: https://www.mscthesis.nl/preview?id=6a54c1d9-53d7-457d-8e59-6e0b1ebbb636\n"
     ]
    }
   ],
   "source": [
    "# Create an exercise instance\n",
    "e = Exercise(\"What is $1 + 1$?\")\n",
    "# Add 2 as a correct answer\n",
    "e.add_answer(2, True, \"Correct!\")\n",
    "# Verify that the exercise is working correctly\n",
    "e.play()\n",
    "# Note: as of now, all basic arithmatic is simplified by sp.simplify(...), there is not yet a way to control this behaviour;\n",
    "# therefore writing 1 + 1 in the answer box is accepted correct\n",
    "# Details on what is simplified: https://docs.sympy.org/latest/tutorial/simplification.html"
   ]
  },
  {
   "cell_type": "markdown",
   "id": "brown-tractor",
   "metadata": {},
   "source": [
    "Let's imagine the typical student mistake for this exercise is computing $1 - 1 = 0$ instead.\n",
    "We add an answer rule to catch that error and provide the student with answer-specific feedback."
   ]
  },
  {
   "cell_type": "code",
   "execution_count": 15,
   "id": "natural-jackson",
   "metadata": {},
   "outputs": [
    {
     "data": {
      "text/html": [
       "\n",
       "        <iframe\n",
       "            width=\"800\"\n",
       "            height=\"350\"\n",
       "            src=\"https://www.mscthesis.nl/preview?id=8fc74737-13c9-4e89-9fb4-83326f71747a\"\n",
       "            frameborder=\"0\"\n",
       "            allowfullscreen\n",
       "        ></iframe>\n",
       "        "
      ],
      "text/plain": [
       "<IPython.lib.display.IFrame at 0x10b5f3310>"
      ]
     },
     "metadata": {},
     "output_type": "display_data"
    },
    {
     "name": "stdout",
     "output_type": "stream",
     "text": [
      "Published succesfully, preview at: https://www.mscthesis.nl/preview?id=8fc74737-13c9-4e89-9fb4-83326f71747a\n"
     ]
    }
   ],
   "source": [
    "e.add_answer(0, False, \"🤔 That's not right, did you compute $1 - 1 = 0$ instead?\")\n",
    "# Verify that the specific feedback is shown\n",
    "e.play()"
   ]
  },
  {
   "cell_type": "markdown",
   "id": "bizarre-motivation",
   "metadata": {},
   "source": [
    "### Task 1\n",
    "Create an exercise asking learners to compute $3/3$.\n",
    "Provide answer-specific feedback in case learners compute $3*3$ instead.\n",
    "Add default feedback (using `e.add_default_feedback(...)`) with a link pointing to a source of preference explaining (integer) devision (hint: `[link](www.example.com)`).\n",
    "Feel free to embed your favorite meme or xkcd at a correct/incorrect answer (hint `![img](www.example.com/img)`)."
   ]
  },
  {
   "cell_type": "code",
   "execution_count": 41,
   "id": "rocky-filling",
   "metadata": {},
   "outputs": [],
   "source": [
    "# Task 1 user code:"
   ]
  },
  {
   "cell_type": "markdown",
   "id": "protecting-anaheim",
   "metadata": {},
   "source": [
    "## Templating Exercises\n",
    "Exercises can be parameterized/templated (still looking for the correct terminology on this one), this allows for two things:\n",
    "1. Randomization. By making part of the content random, multiple instances can be generated, allowing for repeated practice.\n",
    "2. Abstraction. By utilizing the functionality of SymPy objects to be translated to LaTeX, authoring exercises remains efficient and effective.\n",
    "\n",
    "The integer-exercise can be randomized as follows:"
   ]
  },
  {
   "cell_type": "code",
   "execution_count": 26,
   "id": "aerial-speaking",
   "metadata": {},
   "outputs": [
    {
     "data": {
      "text/html": [
       "\n",
       "        <iframe\n",
       "            width=\"800\"\n",
       "            height=\"350\"\n",
       "            src=\"https://www.mscthesis.nl/preview?id=26121c24-5620-420d-8360-88e2a425ba02\"\n",
       "            frameborder=\"0\"\n",
       "            allowfullscreen\n",
       "        ></iframe>\n",
       "        "
      ],
      "text/plain": [
       "<IPython.lib.display.IFrame at 0x10b602cd0>"
      ]
     },
     "metadata": {},
     "output_type": "display_data"
    },
    {
     "name": "stdout",
     "output_type": "stream",
     "text": [
      "Published succesfully, preview at: https://www.mscthesis.nl/preview?id=26121c24-5620-420d-8360-88e2a425ba02\n"
     ]
    }
   ],
   "source": [
    "string = \"What is $@a + @b$?\"\n",
    "\n",
    "params = {}\n",
    "# avoid 0 + 0 instance, since 0 + 0 == 0 - 0, answer same in case our typical mistake is made\n",
    "params[\"a\"] = np.random.randint(0, 10)\n",
    "params[\"b\"] = np.random.randint(1, 10)\n",
    "params[\"ans_correct\"] = params[\"a\"] + params[\"b\"]\n",
    "params[\"ans_incorrect\"] = params[\"a\"] - params[\"b\"]\n",
    "\n",
    "e = Exercise(MarkdownBlock(string, params))\n",
    "e.add_answer(params[\"ans_correct\"], True, \"Correct!\")\n",
    "e.add_answer(params[\"ans_incorrect\"], False, MarkdownBlock(\"Did you compute $@a - @b = @ans_incorrect$ instead?\", params))\n",
    "\n",
    "e.play()"
   ]
  },
  {
   "cell_type": "markdown",
   "id": "surface-frequency",
   "metadata": {},
   "source": [
    "Currently, only a single instance is generated played at a time. Support for multi-instance generation is planned. "
   ]
  },
  {
   "cell_type": "markdown",
   "id": "stunning-still",
   "metadata": {},
   "source": [
    "### Task 2 - Computing the greatest common divisor\n",
    "Create a parameterized exercise for finding the greatest common divisor between two generated integers (hint: `sp.gcd(..)`).\n",
    "Bonus: think about what is needed to create a step-by-step explanation (worked-out-example) of the correct answer and/or a (parameterized) hint with the first step worked out. Create this only when you have both time (i.e. you completed all following exercises) and cognitive capacity left."
   ]
  },
  {
   "cell_type": "code",
   "execution_count": 36,
   "id": "higher-acting",
   "metadata": {},
   "outputs": [
    {
     "data": {
      "text/latex": [
       "$\\displaystyle 6$"
      ],
      "text/plain": [
       "6"
      ]
     },
     "execution_count": 36,
     "metadata": {},
     "output_type": "execute_result"
    }
   ],
   "source": [
    "## Task 2 user code: "
   ]
  },
  {
   "cell_type": "markdown",
   "id": "engaging-woman",
   "metadata": {},
   "source": [
    "### Working with SymPy objects to represent mathematical objects\n",
    "We can work with SymPy objects to represent mathematical objects, like vectors and matrices.\n",
    "An vector addition exercise can be created as follows:"
   ]
  },
  {
   "cell_type": "code",
   "execution_count": 43,
   "id": "extensive-phrase",
   "metadata": {},
   "outputs": [
    {
     "data": {
      "text/html": [
       "\n",
       "        <iframe\n",
       "            width=\"800\"\n",
       "            height=\"350\"\n",
       "            src=\"https://www.mscthesis.nl/preview?id=9a04f773-19df-443b-b839-ee3b55a4921b\"\n",
       "            frameborder=\"0\"\n",
       "            allowfullscreen\n",
       "        ></iframe>\n",
       "        "
      ],
      "text/plain": [
       "<IPython.lib.display.IFrame at 0x113649790>"
      ]
     },
     "metadata": {},
     "output_type": "display_data"
    },
    {
     "name": "stdout",
     "output_type": "stream",
     "text": [
      "Published succesfully, preview at: https://www.mscthesis.nl/preview?id=9a04f773-19df-443b-b839-ee3b55a4921b\n"
     ]
    }
   ],
   "source": [
    "string = \"What is $@v_1 + @v_2$?\"\n",
    "\n",
    "params[\"v_1\"] = sp.Matrix([1, 2, 3])\n",
    "params[\"v_2\"] = sp.Matrix([4, 5, 6])\n",
    "params[\"ans\"] = params[\"v_1\"] + params[\"v_2\"]\n",
    "\n",
    "e = Exercise(MarkdownBlock(string, params))\n",
    "e.add_answer(params[\"ans\"], True, \"That's right!\")\n",
    "\n",
    "e.play()"
   ]
  },
  {
   "cell_type": "markdown",
   "id": "stone-injection",
   "metadata": {},
   "source": [
    "### Task 3 - Static matrix addition\n",
    "Create an exercise asking learners to compute the sum of two 2 by 2 matrices."
   ]
  },
  {
   "cell_type": "code",
   "execution_count": 45,
   "id": "sized-calgary",
   "metadata": {},
   "outputs": [],
   "source": [
    "# Task 3 user code:"
   ]
  },
  {
   "cell_type": "markdown",
   "id": "arabic-connection",
   "metadata": {},
   "source": [
    "### Task 4 - Parameterized vector addition\n",
    "Create an exercise asking learners to compute the sum of two vectors of random length (within reasonable limits), with random integer values. \n",
    "Note: if you prefer NumPy for working with matrices, you are in luck! NumPy objects can be passed to the SymPy matrix constructor, e.g. `sp.Matrix(np.arange(4))`."
   ]
  },
  {
   "cell_type": "code",
   "execution_count": null,
   "id": "unsigned-reasoning",
   "metadata": {},
   "outputs": [],
   "source": [
    "# Task 4 user code:"
   ]
  },
  {
   "cell_type": "markdown",
   "id": "uniform-inquiry",
   "metadata": {},
   "source": [
    "### Task 5 - Matrix indexing \n",
    "Create an exercise asking learners to identify a value at randomized indices (but within bounds) in a 5 by 5 matrix.\n",
    "Please make sure all values are unique so there is only one correct answer."
   ]
  },
  {
   "cell_type": "code",
   "execution_count": 47,
   "id": "speaking-tours",
   "metadata": {},
   "outputs": [],
   "source": [
    "# Task 5 user code:"
   ]
  },
  {
   "cell_type": "markdown",
   "id": "naughty-occupation",
   "metadata": {},
   "source": [
    "### Task 6 - Matrix multiplication \n",
    "Create an exercise asking users to multiply two matrices. \n",
    "Provide a default answer explaining the procedure in case a wrong answer is supplied.\n",
    "You can use the `symbolic_matrix` and `explain_multiply` functions supplied in `helpers.py` as follows:"
   ]
  },
  {
   "cell_type": "code",
   "execution_count": 52,
   "id": "obvious-thanksgiving",
   "metadata": {},
   "outputs": [
    {
     "ename": "NameError",
     "evalue": "name 'sp' is not defined",
     "output_type": "error",
     "traceback": [
      "\u001b[0;31m---------------------------------------------------------------------------\u001b[0m",
      "\u001b[0;31mNameError\u001b[0m                                 Traceback (most recent call last)",
      "\u001b[0;32m<ipython-input-52-cea52d2885e5>\u001b[0m in \u001b[0;36m<module>\u001b[0;34m\u001b[0m\n\u001b[1;32m      1\u001b[0m \u001b[0;32mfrom\u001b[0m \u001b[0mhelpers\u001b[0m \u001b[0;32mimport\u001b[0m \u001b[0msymbolic_matrix\u001b[0m\u001b[0;34m,\u001b[0m \u001b[0mexplain_multiply\u001b[0m\u001b[0;34m\u001b[0m\u001b[0;34m\u001b[0m\u001b[0m\n\u001b[0;32m----> 2\u001b[0;31m \u001b[0msymbolic_matrix\u001b[0m\u001b[0;34m(\u001b[0m\u001b[0;34m\"a\"\u001b[0m\u001b[0;34m,\u001b[0m \u001b[0;36m3\u001b[0m\u001b[0;34m,\u001b[0m \u001b[0;36m3\u001b[0m\u001b[0;34m)\u001b[0m\u001b[0;34m\u001b[0m\u001b[0;34m\u001b[0m\u001b[0m\n\u001b[0m",
      "\u001b[0;32m~/Projects/exercise_public/helpers.py\u001b[0m in \u001b[0;36msymbolic_matrix\u001b[0;34m(character, rows, columns)\u001b[0m\n\u001b[1;32m     10\u001b[0m     \u001b[0mrows\u001b[0m\u001b[0;34m,\u001b[0m \u001b[0mcolumns\u001b[0m \u001b[0;34m=\u001b[0m \u001b[0mnp\u001b[0m\u001b[0;34m.\u001b[0m\u001b[0mshape\u001b[0m\u001b[0;34m(\u001b[0m\u001b[0ma\u001b[0m\u001b[0;34m)\u001b[0m\u001b[0;34m\u001b[0m\u001b[0;34m\u001b[0m\u001b[0m\n\u001b[1;32m     11\u001b[0m     \u001b[0;32mreturn\u001b[0m \u001b[0msp\u001b[0m\u001b[0;34m.\u001b[0m\u001b[0mMatrix\u001b[0m\u001b[0;34m(\u001b[0m\u001b[0;34m[\u001b[0m\u001b[0;34m[\u001b[0m\u001b[0mSymbol\u001b[0m\u001b[0;34m(\u001b[0m\u001b[0;34mf\"({latex(u(a[i,j]))} + {latex(u(b[i,j]))})\"\u001b[0m\u001b[0;34m)\u001b[0m \u001b[0;32mfor\u001b[0m \u001b[0mj\u001b[0m \u001b[0;32min\u001b[0m \u001b[0mrange\u001b[0m\u001b[0;34m(\u001b[0m\u001b[0mcolumns\u001b[0m\u001b[0;34m)\u001b[0m\u001b[0;34m]\u001b[0m \u001b[0;32mfor\u001b[0m \u001b[0mi\u001b[0m \u001b[0;32min\u001b[0m \u001b[0mrange\u001b[0m\u001b[0;34m(\u001b[0m\u001b[0mrows\u001b[0m\u001b[0;34m)\u001b[0m\u001b[0;34m]\u001b[0m\u001b[0;34m)\u001b[0m\u001b[0;34m\u001b[0m\u001b[0;34m\u001b[0m\u001b[0m\n\u001b[0;32m---> 12\u001b[0;31m \u001b[0;34m\u001b[0m\u001b[0m\n\u001b[0m\u001b[1;32m     13\u001b[0m \u001b[0;32mdef\u001b[0m \u001b[0msymbolic_matrix\u001b[0m\u001b[0;34m(\u001b[0m\u001b[0mcharacter\u001b[0m\u001b[0;34m,\u001b[0m \u001b[0mrows\u001b[0m\u001b[0;34m,\u001b[0m \u001b[0mcolumns\u001b[0m\u001b[0;34m)\u001b[0m\u001b[0;34m:\u001b[0m\u001b[0;34m\u001b[0m\u001b[0;34m\u001b[0m\u001b[0m\n\u001b[1;32m     14\u001b[0m     \u001b[0;32mreturn\u001b[0m \u001b[0msp\u001b[0m\u001b[0;34m.\u001b[0m\u001b[0mMatrix\u001b[0m\u001b[0;34m(\u001b[0m\u001b[0;34m[\u001b[0m\u001b[0;34m[\u001b[0m\u001b[0mSymbol\u001b[0m\u001b[0;34m(\u001b[0m\u001b[0;34mf\"{{{character}}}_{{{i+1}, {j+1}}}\"\u001b[0m\u001b[0;34m)\u001b[0m \u001b[0;32mfor\u001b[0m \u001b[0mj\u001b[0m \u001b[0;32min\u001b[0m \u001b[0mrange\u001b[0m\u001b[0;34m(\u001b[0m\u001b[0mcolumns\u001b[0m\u001b[0;34m)\u001b[0m\u001b[0;34m]\u001b[0m \u001b[0;32mfor\u001b[0m \u001b[0mi\u001b[0m \u001b[0;32min\u001b[0m \u001b[0mrange\u001b[0m\u001b[0;34m(\u001b[0m\u001b[0mrows\u001b[0m\u001b[0;34m)\u001b[0m\u001b[0;34m]\u001b[0m\u001b[0;34m)\u001b[0m\u001b[0;34m\u001b[0m\u001b[0;34m\u001b[0m\u001b[0m\n",
      "\u001b[0;31mNameError\u001b[0m: name 'sp' is not defined"
     ]
    }
   ],
   "source": [
    "from helpers import symbolic_matrix, explain_multiply\n",
    "symbolic_matrix(\"a\", 3, 3)"
   ]
  },
  {
   "cell_type": "code",
   "execution_count": null,
   "id": "charming-daily",
   "metadata": {},
   "outputs": [],
   "source": [
    "# Task 6 user code:"
   ]
  },
  {
   "cell_type": "code",
   "execution_count": null,
   "id": "indonesian-particle",
   "metadata": {},
   "outputs": [],
   "source": []
  },
  {
   "cell_type": "code",
   "execution_count": null,
   "id": "herbal-float",
   "metadata": {},
   "outputs": [],
   "source": []
  },
  {
   "cell_type": "code",
   "execution_count": null,
   "id": "planned-floor",
   "metadata": {},
   "outputs": [],
   "source": []
  },
  {
   "cell_type": "code",
   "execution_count": null,
   "id": "korean-fabric",
   "metadata": {},
   "outputs": [],
   "source": [
    "# worksheet"
   ]
  }
 ],
 "metadata": {
  "kernelspec": {
   "display_name": "exercise",
   "language": "python",
   "name": "exercise"
  },
  "language_info": {
   "codemirror_mode": {
    "name": "ipython",
    "version": 3
   },
   "file_extension": ".py",
   "mimetype": "text/x-python",
   "name": "python",
   "nbconvert_exporter": "python",
   "pygments_lexer": "ipython3",
   "version": "3.9.2"
  }
 },
 "nbformat": 4,
 "nbformat_minor": 5
}
