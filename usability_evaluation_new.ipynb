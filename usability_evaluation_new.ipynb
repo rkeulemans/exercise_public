{
 "cells": [
  {
   "cell_type": "code",
   "execution_count": 6,
   "id": "julian-pearl",
   "metadata": {},
   "outputs": [],
   "source": [
    "from sympy.matrices import Matrix \n",
    "import sympy as sp\n",
    "import numpy as np\n",
    "from Exercise import Exercise, MarkdownBlock\n",
    "\n",
    "# TODO: remove me\n",
    "from config import URL, TOKEN\n",
    "\n",
    "# TODO: replace with supplied strings\n",
    "Exercise.URL = URL\n",
    "Exercise.TOKEN = TOKEN"
   ]
  },
  {
   "cell_type": "markdown",
   "id": "representative-conviction",
   "metadata": {},
   "source": [
    "## Introduction\n",
    "In this notebook, you are about to create some (linear algebra) exercises using the developed `Exercise` Python library aiming to facilitate authoring parameterized mathematics exercises at a high level of abstraction (i.e. access to a scripting language and the libraries available in there, including as SymPy, NumPy and Matplotlib).\n",
    "Created exercises can be 'played' inline, using the web-based player developed as part of this project.\n",
    "Roughly speaking this project is constituted of a new combination of existing approaches: MEGUA-like parameterized text, SymPy's CAS functionality and exercise-setup as used by Grasple and SageMath for working with mathematical objects in notebooks.\n",
    "\n",
    "The goal is to evaluate the usability of the developed library and the authoring setup (this notebook).\n",
    "Note that by no means you or your skills are being tested, it is by no means a problem if exercises are left uncompleted.\n",
    "Notes, comments and suggestions are very welcome, please write these either as code-comments or in the Markdown cells in the notebook.\n",
    "All feedback will be reported and reflected upon anonymously.\n",
    "Completing the notebook should take about 30 minutes, depending on setup time, prior knowledge about this project, familiarity with linear algebra and the supplied frameworks etc.\n",
    "Please download the notebook when done and send it by email.\n",
    "After completion, in a brief semi-structured interview, you can elaborate upon your experiences.\n",
    "\n",
    "To start creating exercises, please replace the `URL` and `TOKEN` in the block above with the strings supplied by email:\n",
    "```\n",
    "Exercise.URL = \"<supplied_url_here>\"\n",
    "Exercise.TOKEN = \"<supplied_token_here>\"\n",
    "```\n",
    "\n",
    "Assumptions:\n",
    "- Familiarity with Python, Markdown, LaTeX\n",
    "- Familiarity with Jupyter-Notebook\n",
    "\n",
    "Recommendations:\n",
    "- Use Binder (www.mybinder.org) to edit this notebook, if you prefer local setup instead, see README.md.\n",
    "- Use Firefox, the iFrame exercise player embeddings do not work in Chrome or Safari due to global cross-origin policies.\n",
    "- Other browsers (Chrome, Safari) can still be used, however, playing exercises is only possible outside of the notebook by clicking the generated exercise links, which is rather inconvenient.\n",
    "\n",
    "Notes:\n",
    "- Documentation can for the Python library can be found in the `html` directory.\n",
    "- Within Jupyter-Notebook, function documentation can be viewed by writing a `?` after the function, like so: `Exercise(\"What is $1 + 1$\").add_answer?`\n",
    "- Within exercises, only inline math notation is supported.\n",
    "\n",
    "Happy coding ;)"
   ]
  },
  {
   "cell_type": "markdown",
   "id": "lined-victor",
   "metadata": {},
   "source": [
    "## Exercise Basics\n",
    "The most basic exercise contains a Markdown string with the exercise content and a single answer rule specifying the correct answer.\n",
    "Mathematics notation can be written inline in LaTeX between dollar signs."
   ]
  },
  {
   "cell_type": "code",
   "execution_count": 13,
   "id": "harmful-shanghai",
   "metadata": {},
   "outputs": [
    {
     "data": {
      "text/html": [
       "\n",
       "        <iframe\n",
       "            width=\"800\"\n",
       "            height=\"350\"\n",
       "            src=\"https://www.mscthesis.nl/preview?id=af6b18b5-0c08-49de-9949-4ba3779b3668\"\n",
       "            frameborder=\"0\"\n",
       "            allowfullscreen\n",
       "        ></iframe>\n",
       "        "
      ],
      "text/plain": [
       "<IPython.lib.display.IFrame at 0x1071d8910>"
      ]
     },
     "metadata": {},
     "output_type": "display_data"
    },
    {
     "name": "stdout",
     "output_type": "stream",
     "text": [
      "Published succesfully, preview at: https://www.mscthesis.nl/preview?id=af6b18b5-0c08-49de-9949-4ba3779b3668\n"
     ]
    }
   ],
   "source": [
    "# Create an exercise instance\n",
    "e = Exercise(\"What is $1 + 1$?\")\n",
    "# Add 2 as a correct answer\n",
    "e.add_answer(2, True, \"Correct!\")\n",
    "# Verify that the exercise is working correctly\n",
    "e.play()\n",
    "# Note: as of now, all basic arithmatic is simplified by sp.simplify(...), there is not yet a way to control this behaviour;\n",
    "# therefore writing 1 + 1 in the answer box is accepted correct\n",
    "# Details on what is simplified: https://docs.sympy.org/latest/tutorial/simplification.html"
   ]
  },
  {
   "cell_type": "markdown",
   "id": "checked-banana",
   "metadata": {},
   "source": [
    "Let's imagine the typical student mistake for this exercise is computing $1 - 1 = 0$ instead.\n",
    "We add an answer rule to catch that error and provide the student with answer-specific feedback."
   ]
  },
  {
   "cell_type": "code",
   "execution_count": 15,
   "id": "discrete-boards",
   "metadata": {},
   "outputs": [
    {
     "data": {
      "text/html": [
       "\n",
       "        <iframe\n",
       "            width=\"800\"\n",
       "            height=\"350\"\n",
       "            src=\"https://www.mscthesis.nl/preview?id=8fc74737-13c9-4e89-9fb4-83326f71747a\"\n",
       "            frameborder=\"0\"\n",
       "            allowfullscreen\n",
       "        ></iframe>\n",
       "        "
      ],
      "text/plain": [
       "<IPython.lib.display.IFrame at 0x10b5f3310>"
      ]
     },
     "metadata": {},
     "output_type": "display_data"
    },
    {
     "name": "stdout",
     "output_type": "stream",
     "text": [
      "Published succesfully, preview at: https://www.mscthesis.nl/preview?id=8fc74737-13c9-4e89-9fb4-83326f71747a\n"
     ]
    }
   ],
   "source": [
    "e.add_answer(0, False, \"🤔 That's not right, did you compute $1 - 1 = 0$ instead?\")\n",
    "# Verify that the specific feedback is shown\n",
    "e.play()"
   ]
  },
  {
   "cell_type": "markdown",
   "id": "sound-hometown",
   "metadata": {},
   "source": [
    "### Exercise 1\n",
    "Create an exercise asking learners to compute $3/3$.\n",
    "Provide answer-specific feedback in case learners compute $3*3$ instead.\n",
    "Add default feedback (using `e.add_default_feedback(...)`) with a link pointing to a source of preference explaining (integer) devision.\n",
    "Feel free to include a meme or "
   ]
  },
  {
   "cell_type": "code",
   "execution_count": 23,
   "id": "respective-plymouth",
   "metadata": {},
   "outputs": [
    {
     "data": {
      "text/html": [
       "\n",
       "        <iframe\n",
       "            width=\"800\"\n",
       "            height=\"350\"\n",
       "            src=\"https://www.mscthesis.nl/preview?id=1c269292-3ccd-4f2e-9568-4494008fcee0\"\n",
       "            frameborder=\"0\"\n",
       "            allowfullscreen\n",
       "        ></iframe>\n",
       "        "
      ],
      "text/plain": [
       "<IPython.lib.display.IFrame at 0x11357f820>"
      ]
     },
     "metadata": {},
     "output_type": "display_data"
    },
    {
     "name": "stdout",
     "output_type": "stream",
     "text": [
      "Published succesfully, preview at: https://www.mscthesis.nl/preview?id=1c269292-3ccd-4f2e-9568-4494008fcee0\n"
     ]
    }
   ],
   "source": [
    "e = Exercise(\"What is $3/3$?\")\n",
    "e.add_answer(1, True, \"Correct\")\n",
    "e.add_answer(9, False, \"Incorrect\")\n",
    "# e.add_default_feedback(\"See [link](https://www.google.com)\")\n",
    "e.add_default_feedback(\"Too bad, ![img](https://imgs.xkcd.com/comics/purity.png)\")\n",
    "e.play()"
   ]
  },
  {
   "cell_type": "code",
   "execution_count": null,
   "id": "thorough-shuttle",
   "metadata": {},
   "outputs": [],
   "source": []
  },
  {
   "cell_type": "code",
   "execution_count": null,
   "id": "growing-establishment",
   "metadata": {},
   "outputs": [],
   "source": []
  }
 ],
 "metadata": {
  "kernelspec": {
   "display_name": "exercise",
   "language": "python",
   "name": "exercise"
  },
  "language_info": {
   "codemirror_mode": {
    "name": "ipython",
    "version": 3
   },
   "file_extension": ".py",
   "mimetype": "text/x-python",
   "name": "python",
   "nbconvert_exporter": "python",
   "pygments_lexer": "ipython3",
   "version": "3.9.2"
  }
 },
 "nbformat": 4,
 "nbformat_minor": 5
}
