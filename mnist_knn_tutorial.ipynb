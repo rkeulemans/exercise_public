{
 "cells": [
  {
   "cell_type": "code",
   "execution_count": 51,
   "id": "useful-paper",
   "metadata": {},
   "outputs": [],
   "source": [
    "from sympy.matrices import Matrix, eye, zeros, ones, diag, GramSchmidt\n",
    "import pandas as pd\n",
    "# from IPython.display import display, Math, Latex, Markdown, HTML\n",
    "# from sympy import *\n",
    "from sympy.parsing.latex import parse_latex\n",
    "import sympy as sp\n",
    "import numpy as np\n",
    "from string import Template\n",
    "# from latex2sympy.process_latex import *\n",
    "import matplotlib.pyplot as plt\n",
    "plt.rcParams.update({'font.size': 20})\n",
    "import json\n",
    "import markdown\n",
    "from markdown.extensions.toc import TocExtension\n",
    "import uuid\n",
    "import random\n",
    "import math\n",
    "import tqdm\n",
    "# import copy\n",
    "import seaborn as sns\n",
    "# import requests\n",
    "from Exercise import Exercise, Page, MarkdownBlock\n",
    "\n",
    "from config import URL, TOKEN\n",
    "\n",
    "Exercise.URL = \"https://sympy-api.herokuapp.com/post\"\n",
    "Exercise.TOKEN = \"TUDelftExerciseCreationToken\""
   ]
  },
  {
   "cell_type": "code",
   "execution_count": 52,
   "id": "hungry-progressive",
   "metadata": {},
   "outputs": [],
   "source": [
    "from sklearn.datasets import load_digits\n",
    "digits = load_digits()\n",
    "\n",
    "sorted_indices = np.argsort(digits.target)\n",
    "nums = digits.images[sorted_indices]"
   ]
  },
  {
   "cell_type": "code",
   "execution_count": 53,
   "id": "happy-hundred",
   "metadata": {},
   "outputs": [
    {
     "data": {
      "image/png": "[encoded data removed]",
      "text/plain": [
       "<Figure size 432x288 with 10 Axes>"
      ]
     },
     "metadata": {
      "needs_background": "light"
     },
     "output_type": "display_data"
    },
    {
     "data": {
      "image/png": "[encoded data removed]",
      "text/plain": [
       "<Figure size 288x288 with 1 Axes>"
      ]
     },
     "metadata": {
      "needs_background": "light"
     },
     "output_type": "display_data"
    },
    {
     "data": {
      "image/png": "[encoded data removed]",
      "text/plain": [
       "<Figure size 288x288 with 1 Axes>"
      ]
     },
     "metadata": {
      "needs_background": "light"
     },
     "output_type": "display_data"
    }
   ],
   "source": [
    "def to_binary(array):\n",
    "    return np.where(array > 7, 1, 0)\n",
    "\n",
    "def show(array, filename):\n",
    "    data = np.where(array > 7, 1, 0)\n",
    "    plt.matshow(data, cmap='gray_r')\n",
    "    plt.axis('off')\n",
    "    plt.savefig(\"{}.png\".format(filename), dpi=500, bbox_inches='tight')\n",
    "    plt.show()\n",
    "\n",
    "f, axarr = plt.subplots(1,10)\n",
    "unit = math.floor(len(nums)/10)\n",
    "start_offset = math.floor((1/2)*unit)\n",
    "for i in range(0, 10):\n",
    "    axarr[i].axis('off')\n",
    "    axarr[i].matshow(np.where(nums[start_offset + i*unit + 1] > 7, 1, 0), cmap=\"gray_r\")\n",
    "\n",
    "plt.savefig(\"all_digits.png\", dpi=500, bbox_inches='tight') \n",
    "show(nums[7], \"zero\")\n",
    "show(nums[1500], \"eight\")"
   ]
  },
  {
   "cell_type": "code",
   "execution_count": 70,
   "id": "aerial-audience",
   "metadata": {},
   "outputs": [
    {
     "name": "stderr",
     "output_type": "stream",
     "text": [
      "<ipython-input-70-c56c4d41fc96>:5: UserWarning: FixedFormatter should only be used together with FixedLocator\n",
      "  ax.set_xticklabels([i for i in range(0, 9)])\n",
      "<ipython-input-70-c56c4d41fc96>:9: UserWarning: FixedFormatter should only be used together with FixedLocator\n",
      "  ax.set_yticklabels([i for i in range(0, 9)])\n"
     ]
    },
    {
     "data": {
      "image/png": "[encoded data removed]",
      "text/plain": [
       "<Figure size 432x288 with 1 Axes>"
      ]
     },
     "metadata": {
      "needs_background": "light"
     },
     "output_type": "display_data"
    }
   ],
   "source": [
    "fig, ax = plt.subplots()\n",
    "\n",
    "ax.set_xlabel(\"column index\")\n",
    "ax.xaxis.set_label_position('top')\n",
    "ax.set_xticklabels([i for i in range(0, 9)])\n",
    "\n",
    "ax.set_ylabel(\"row index\")\n",
    "ax.yaxis.set_label_position('left') \n",
    "ax.set_yticklabels([i for i in range(0, 9)])\n",
    "\n",
    "data = np.where(nums[7] > 7, 1, 0)\n",
    "# Minor ticks\n",
    "ax.set_xticks(np.arange(-.5, 10, 1), minor=True)\n",
    "ax.set_yticks(np.arange(-.5, 10, 1), minor=True)\n",
    "ax.grid(which='minor', color='black', linestyle='-', linewidth=2)\n",
    "ax.matshow(data, cmap='gray_r')\n",
    "\n",
    "plt.savefig(\"zero_with_lables.png\", dpi=500, bbox_inches='tight')\n",
    "plt.show()"
   ]
  },
  {
   "cell_type": "code",
   "execution_count": 71,
   "id": "disciplinary-fetish",
   "metadata": {},
   "outputs": [],
   "source": [
    "p = Page()\n",
    "p.reset()"
   ]
  },
  {
   "cell_type": "code",
   "execution_count": 72,
   "id": "opened-guard",
   "metadata": {},
   "outputs": [],
   "source": [
    "t1 = \"\"\"\n",
    "### Learning Goals\n",
    "In this tutorial you will learn:\n",
    "\n",
    "- Definitions of elementary data structures in linear algebra and operations on these;\n",
    "- How the data structures can be used to model real-world artifacts (hand written digits);\n",
    "- How operations on these data structures can be used to compare digital representations of hand written digits;\n",
    "- The K-Nearest-Neighbours (KNN) algorithm to predict the digit in an unseen image.\n",
    "\"\"\"\n",
    "m = MarkdownBlock(t1)\n",
    "m.write(\"Learning Goals\")\n",
    "\n",
    "t2 = \"\"\"\n",
    "### Nintendo DS Brain Training\n",
    "You are hired by Nintendo to create some software to recognize user-written digits in the Brain Training game.\n",
    "This is crucial element in the user interaction and therefore for the success of the game.\n",
    "Answering by writing is way cooler then pressing the correct number on a virtual numpad.\n",
    "You are given a digital representation of the input image and should provide a prediction of the corresponding digit.\n",
    "This concept is formally known as [Optical Character Recognition](https://en.wikipedia.org/wiki/Optical_character_recognition).\n",
    "\n",
    "<p align=\"center\">\n",
    "    <a title=\"쿠도군, CC BY 3.0 &lt;https://creativecommons.org/licenses/by/3.0&gt;, via Wikimedia Commons\" href=\"https://commons.wikimedia.org/wiki/File:NDSL-Brain_Training_Korean_Version.png\"><img width=\"300\" alt=\"NDSL-Brain Training Korean Version\" src=\"https://upload.wikimedia.org/wikipedia/commons/thumb/c/c1/NDSL-Brain_Training_Korean_Version.png/512px-NDSL-Brain_Training_Korean_Version.png\"></a>\n",
    "</p>\n",
    "\"\"\"\n",
    "m = MarkdownBlock(t2)\n",
    "m.write(\"Nintento DS Brain Training\")\n",
    "\n",
    "t3 = \"\"\"\n",
    "### The MNIST Dataset\n",
    "\n",
    "To keep things simple throughout this tutorial, we will use a low resolution (8 by 8 pixels), binary (each pixel is either 0 (white) or 1 (black), representation of such digits.\n",
    "\n",
    "<p align=\"center\">\n",
    "    <img src=\"all_digits.png\" alt=\"\" width=\"700\"/>\n",
    "    <span class=\"img_caption\" style=\"display: block; text-align: center;\">Examples of hand-written digits</span>\n",
    "</p>\n",
    "\n",
    "A large dataset exists containing these images and corresponding labels (the digits being represented), called the [MNIST database](https://en.wikipedia.org/wiki/MNIST_database).\n",
    "\"\"\"\n",
    "m = MarkdownBlock(t3)\n",
    "m.write(\"The MNIST Dataset\")\n"
   ]
  },
  {
   "cell_type": "code",
   "execution_count": 73,
   "id": "vocational-category",
   "metadata": {},
   "outputs": [],
   "source": [
    "e = \"\"\"\n",
    "Classify the image below by typing the corresponding digit in the answer box.\n",
    "\n",
    "<p align=\"center\">\n",
    "<img src=\"zero.png\" alt=\"\" width=\"150\"/>\n",
    "</p>\n",
    "\"\"\"\n",
    "\n",
    "feedback = \"\"\"\n",
    "Yes, that's right!\n",
    "We humans generally do a good job classifying digits.\n",
    "Our brains have seen many similar (hand-written) $0$'s before, stored in long term memory.\n",
    "We compare the current $0$ to $0$'s seen earlier and classify it as similar.\n",
    "Our final computer-based KNN-algorithm will do something similar.\n",
    "\"\"\"\n",
    "\n",
    "e1 = Exercise(e)\n",
    "e1.add_answer(0, True, feedback)\n",
    "e1.add_default_feedback(\"Hmm, that's not right. Both humans and computers make mistakes from time to time. Give it another try!\")\n",
    "e1.write(\"classify_0\")"
   ]
  },
  {
   "cell_type": "code",
   "execution_count": 74,
   "id": "quantitative-profile",
   "metadata": {},
   "outputs": [],
   "source": [
    "e = \"\"\"\n",
    "Classify the image below by typing the corresponding digit in the answer box.\n",
    "\n",
    "<p align=\"center\">\n",
    "<img src=\"eight.png\" alt=\"\" width=\"150\"/>\n",
    "</p>\n",
    "\"\"\"\n",
    "\n",
    "e2 = Exercise(MarkdownBlock(e))\n",
    "e2.add_answer(8, True, \"Yes, that's right! Again you did an excellent job. Next we will learn how this can be automated!\")\n",
    "e2.add_default_feedback(\"Hmm, that's not right. Both humans and computers make mistakes from time to time. Give it another try!\")\n",
    "e2.write(\"classify_8\")"
   ]
  },
  {
   "cell_type": "code",
   "execution_count": 75,
   "id": "published-sarah",
   "metadata": {},
   "outputs": [],
   "source": [
    "p.append((MarkdownBlock(t1), [e1, e2]))"
   ]
  },
  {
   "cell_type": "code",
   "execution_count": 105,
   "id": "satisfactory-annual",
   "metadata": {},
   "outputs": [],
   "source": [
    "md_2 = r\"\"\"\n",
    "### Matrix\n",
    "In mathematics we can represent a digit image in a data structure called a matrix.\n",
    "You can think of a matrix as a grid with rows and columns forming cells, like in Excel or Google Sheets.\n",
    "In our image, each cell is a pixel, and a pixel is either 0 (white) or 1 (black).\n",
    "\n",
    "The digit\n",
    "\n",
    "<p align=\"center\">\n",
    "    <img src=\"zero_with_lables.png\" alt=\"\" width=\"180\"/>\n",
    "</p>\n",
    "\n",
    "corresponds to the matrix\n",
    "\n",
    "<p align=\"center\">\n",
    "    $M = @m$\n",
    "</p>\n",
    "\n",
    "We humans likely find the image easier to recognize,\n",
    "while computers prefer the concrete values in the matrix over analog colours shown on your display.\n",
    "\n",
    "In mathematics, a matrix is referred to by a capital letter, like as $M$.\n",
    "The values in the cells can be referenced by subscripting the corresponding non-capital letter $m$\n",
    "with the row- and column index, $i$ and $j$ respectively, separated by a comma, like so: $m_{i, j}$.\n",
    "For example, in the matrix $M$ above, $m_{2, 3} = 1$ and $m_{3, 2} = 0$.\n",
    "\"\"\"\n",
    "\n",
    "params = {}\n",
    "params[\"m\"] = sp.Matrix(to_binary(nums[7]))\n",
    "m = MarkdownBlock(md_2, params)\n",
    "m.write(\"matrix\")"
   ]
  },
  {
   "cell_type": "code",
   "execution_count": 77,
   "id": "lasting-rates",
   "metadata": {},
   "outputs": [],
   "source": [
    "e = \"\"\"\n",
    "Consider the matrix $A$ below, what is the value at $a_{3, 5}$?\n",
    "<p align=\"center\">\n",
    "$A = @a$\n",
    "</p>\n",
    "\"\"\"\n",
    "\n",
    "params = {}\n",
    "arr = np.arange(25).reshape((5,5))\n",
    "params[\"a\"] = sp.Matrix(arr)\n",
    "\n",
    "e3 = Exercise(MarkdownBlock(e, params))\n",
    "e3.add_answer(sp.simplify(arr[2,4]), True, \"Correct!\")\n",
    "e3.add_answer(sp.simplify(arr[4,2]), False, \"🤔 You seem to have swapped the row and column index.\")\n",
    "e3.write(\"matrix\")"
   ]
  },
  {
   "cell_type": "code",
   "execution_count": 78,
   "id": "sapphire-editing",
   "metadata": {},
   "outputs": [],
   "source": [
    "p.append((m, [e3]))"
   ]
  },
  {
   "cell_type": "code",
   "execution_count": 79,
   "id": "historic-ticket",
   "metadata": {},
   "outputs": [],
   "source": [
    "md_3 = \"\"\"\n",
    "### Difference Matrix \n",
    "Given two matrices, how can we determine their similarity?\n",
    "For this, we use the notion of distance.\n",
    "A simple distance measure is to count the number of overlapping places, \"the pixels on which they agree\".\n",
    "Given two matrices $A$ and $B$, their similarity can be represented by the distance matrix $S$:\n",
    "\n",
    "$s_{i,j} = \\\\begin{cases}\n",
    "    0 &\\\\text{if } a_{i,j} = b_{i,j} \\\\text{ \"the pixels agree\"} \\\\\\\\\n",
    "    1 &\\\\text{if } a_{i,j} \\\\neq b_{i,j} \\\\text{ \"the pixels disagree\"}\n",
    "    \\\\end{cases}$\n",
    "    \n",
    "Example:\n",
    "\n",
    "In maths:\n",
    "\n",
    "<p align=\"center\">\n",
    "    $A = @a$, $B = @b$, $S = @s$\n",
    "</p>\n",
    "\n",
    "\n",
    "and corresponding visuals:\n",
    "\n",
    "<p align=\"center\">\n",
    "    <img src=\"similarity_single.png\" alt=\"\" width=\"400\"/>\n",
    "</p>\n",
    "\"\"\"\n",
    "\n",
    "i0 = np.array([1,0,1,\n",
    "               1,0,1,\n",
    "               1,1,1]).reshape((3,3))\n",
    "i1 = np.array([0,0,0,\n",
    "               1,0,1,\n",
    "               1,1,1]).reshape((3,3))\n",
    "\n",
    "params_text = {}\n",
    "params_text[\"a\"] = sp.Matrix(i0)\n",
    "params_text[\"b\"] = sp.Matrix(i1)\n",
    "params_text[\"s\"] = sp.Matrix(np.abs(i0 - i1))\n",
    "m = MarkdownBlock(md_3, params_text)\n",
    "m.write(\"difference matrix\")"
   ]
  },
  {
   "cell_type": "code",
   "execution_count": 80,
   "id": "static-therapy",
   "metadata": {},
   "outputs": [],
   "source": [
    "e_4 = \"\"\"\n",
    "Compute the similarity matrix between $A$ and $B$, given the similarity metric defined above.\n",
    "\n",
    "$A = @a, B = @b$\n",
    "\"\"\"\n",
    "\n",
    "params = {}\n",
    "\n",
    "a = np.array([1,0,1,1])\n",
    "b = np.array([0,1,1,0])\n",
    "\n",
    "params[\"a\"] = sp.Matrix(2, 2, a)\n",
    "params[\"b\"] = sp.Matrix(2, 2, b)\n",
    "\n",
    "e4 = Exercise(MarkdownBlock(e_4, params))\n",
    "e4.add_answer(sp.Matrix(2,2, np.abs(a - b)), True, \"Yes!\")\n",
    "e4.write(\"difference_matrix\")"
   ]
  },
  {
   "cell_type": "code",
   "execution_count": 81,
   "id": "informational-spectrum",
   "metadata": {},
   "outputs": [],
   "source": [
    "p.append((m, [e4]))"
   ]
  },
  {
   "cell_type": "code",
   "execution_count": 82,
   "id": "adjusted-contest",
   "metadata": {},
   "outputs": [],
   "source": [
    "md4 = \"\"\"\n",
    "### Distance Score\n",
    "We can reducre the distance matrix $S$ to a distance score by taking it's sum, that is: add together all values.\n",
    "\n",
    "The maximum distance score is 64, since there are 64 pixels in each image.\n",
    "The lower the distance score, the more similar two images are.\n",
    "We can see that a $0$ is more similar to another $0$ than to a $9$, because the distance score is lower.\n",
    "\n",
    "<p align=\"center\">\n",
    "    <img src=\"similarity.png\" alt=\"\" width=\"300\"/>\n",
    "</p>\n",
    "\"\"\"\n",
    "\n",
    "md4 = MarkdownBlock(md4)\n",
    "md4.write(\"Distance Score\")"
   ]
  },
  {
   "cell_type": "code",
   "execution_count": 83,
   "id": "celtic-daniel",
   "metadata": {},
   "outputs": [],
   "source": [
    "e5 = \"\"\"\n",
    "Given distance matrix $S$, what is the distance score corresponding to $S$?\n",
    "\n",
    "$S = @s$\n",
    "\"\"\"\n",
    "\n",
    "params = {}\n",
    "data = [np.random.randint(0,2) for _ in range(9)]\n",
    "s = sp.Matrix(3, 3, data)\n",
    "params[\"s\"] = s\n",
    "\n",
    "e5 = Exercise(MarkdownBlock(e5, params))\n",
    "e5.add_answer(sp.simplify(np.array(data).sum()), True, MarkdownBlock(\"Correct!\"))\n",
    "e5.write(\"distance_score\")"
   ]
  },
  {
   "cell_type": "code",
   "execution_count": 84,
   "id": "important-finnish",
   "metadata": {},
   "outputs": [],
   "source": [
    "e6 = \"\"\"\n",
    "Given matrices $A = @a$ and $B = @b$, what is their distance score?\n",
    "\"\"\"\n",
    "\n",
    "a = [np.random.randint(0,2) for _ in range(9)]\n",
    "b = [np.random.randint(0,2) for _ in range(9)]\n",
    "\n",
    "params = {}\n",
    "params[\"a\"] = sp.Matrix(3,3, a)\n",
    "params[\"b\"] = sp.Matrix(3,3, b)\n",
    "\n",
    "e6 = Exercise(MarkdownBlock(e6, params))\n",
    "ans = np.abs(np.array(a) - np.array(b)).sum()\n",
    "e6.add_answer(sp.simplify(ans), True, \"Yes!\")\n",
    "e6.write(\"distance_score_from_scratch\")"
   ]
  },
  {
   "cell_type": "code",
   "execution_count": 85,
   "id": "sufficient-niger",
   "metadata": {},
   "outputs": [],
   "source": [
    "p.append((md4, [e5, e6]))"
   ]
  },
  {
   "cell_type": "code",
   "execution_count": 104,
   "id": "higher-dynamics",
   "metadata": {},
   "outputs": [],
   "source": [
    "md5 = \"\"\"\n",
    "### From distance score to 'neighbour'\n",
    "The distance score can be used do define the notion of neighbour proximity.\n",
    "The lower the distance score, the closer the neighbour.\n",
    "\n",
    "In the image below, the digit on the left is an unseen digit, we want to determine whether it is a $0$ or a $9$.\n",
    "We compute the distance score between this unknown digit and a dataset with the same amount of $0$'s and $9$'s for which we know the digit number.\n",
    "\n",
    "<p align=\"center\">\n",
    "    <img src=\"neighbours_text.png\" alt=\"\" width=\"800\"/>\n",
    "</p>\n",
    "\n",
    "We sort the computed distance scores and only consider the $K$ lowest distances.\n",
    "The majority of the known digit numbers belonging to those distances determines whether we classify this unseen digit as a $0$ or a $9$.\n",
    "In the image above, if we take $K=5$, the digits are $0,0,0,9,0$, of which the majority is $0$, so we classify this digit as a $0$.\n",
    "\n",
    "In the image below, one can see that the differences between digits of the same class are generally smaller than differences between classes.\n",
    "In other words, an arbitrary four is likely more similar to another four then to another digit ($K=1$).\n",
    "With a higher value for $K$, accuracy is expected to go up.\n",
    "What the ideal value is for $K$ and how to determine this is yet to be seen.\n",
    "\n",
    "<p align=\"center\">\n",
    "    <img src=\"cross.png\" alt=\"\" width=\"800\"/>\n",
    "</p>\n",
    "\"\"\"\n",
    "md5 = MarkdownBlock(md5)\n",
    "md5.write(\"knn\")"
   ]
  },
  {
   "cell_type": "code",
   "execution_count": 87,
   "id": "composed-count",
   "metadata": {},
   "outputs": [],
   "source": [
    "e = \"\"\"\n",
    "Consider the dataset below:\n",
    "\n",
    "<p align=\"center\">\n",
    "    <img src=\"neighbours_exercise.png\" alt=\"\" width=\"800\"/>\n",
    "</p>\n",
    "\n",
    "How is the digit on the left classified when $K=3$?\n",
    "\"\"\"\n",
    "\n",
    "e = Exercise(e)\n",
    "e.add_answer(sp.simplify(0), True, \"Indeed! The labels are: $0,0,9$, therefore the majority vote is $0$!\")\n",
    "e.write(\"knn_1\")"
   ]
  },
  {
   "cell_type": "code",
   "execution_count": 88,
   "id": "regulation-prospect",
   "metadata": {},
   "outputs": [],
   "source": [
    "e2 = \"\"\"\n",
    "Consider the dataset below again:\n",
    "\n",
    "<p align=\"center\">\n",
    "    <img src=\"neighbours_exercise.png\" alt=\"\" width=\"800\"/>\n",
    "</p>\n",
    "\n",
    "How is the digit on the left classified when $K=4$?\n",
    "\"\"\"\n",
    "\n",
    "fb = \"It could be either a $0$ or a $9$, we didn't specify the rules for a tie in similarity-scores, nor for a tie between classes\"\n",
    "e2 = Exercise(e2)\n",
    "e2.add_answer(sp.simplify(0), True, fb)\n",
    "e2.add_answer(sp.simplify(9), True, fb)\n",
    "e2.write(\"knn_2\")"
   ]
  },
  {
   "cell_type": "code",
   "execution_count": 89,
   "id": "abstract-research",
   "metadata": {},
   "outputs": [],
   "source": [
    "p.append((md5, [e, e2]))"
   ]
  },
  {
   "cell_type": "code",
   "execution_count": 60,
   "id": "architectural-report",
   "metadata": {},
   "outputs": [],
   "source": [
    "md = \"\"\"\n",
    "### To be continued...\n",
    "\n",
    "- performance evaluation: confusion matrix for simplest complex case -> binary case (0 or 9)\n",
    "- extending to multi-class classification\n",
    "- extending to non-binary images\n",
    "- higher resolution images (i.e. more dimensions)\n",
    "- other distance functions\n",
    "- preprocessing the data (e.g. first derivative)\n",
    "- other classifyers (gradient boosting, decision trees, neural networks, PCA etc.) should be good to demonstrate, understand and execute by hand on the MNIST problem\n",
    "- extending to EMNIST dataset\n",
    "\n",
    "<img src=\"six_new.png\" alt=\"\" width=\"400\"/>\n",
    "\"\"\"\n",
    "md = MarkdownBlock(md)\n",
    "md.write(\"tbc\")"
   ]
  },
  {
   "cell_type": "code",
   "execution_count": 91,
   "id": "missing-sierra",
   "metadata": {},
   "outputs": [
    {
     "name": "stdout",
     "output_type": "stream",
     "text": [
      "Data written succesfully.\n"
     ]
    }
   ],
   "source": [
    "p.append((md, []))\n",
    "p.write()"
   ]
  },
  {
   "cell_type": "code",
   "execution_count": 45,
   "id": "mobile-flexibility",
   "metadata": {},
   "outputs": [
    {
     "data": {
      "image/png": "[encoded data removed]",
      "text/plain": [
       "<Figure size 720x720 with 1 Axes>"
      ]
     },
     "metadata": {
      "needs_background": "light"
     },
     "output_type": "display_data"
    }
   ],
   "source": [
    "fig, axes = plt.subplots(nrows=1, ncols=1, figsize=(10, 10))\n",
    "axes.axis(\"off\")\n",
    "axes.matshow(nums[1103], cmap=\"Greys\")\n",
    "\n",
    "# plt.savefig(\"six_new.png\", dpi=500, bbox_inches='tight')\n",
    "\n",
    "import matplotlib.patheffects as pe\n",
    "for (i, j), z in np.ndenumerate(nums[1103]):\n",
    "    axes.text(j, i, '{}'.format(int(z)), ha='center', va='center', path_effects=[pe.withStroke(linewidth=4, foreground=\"white\")])\n",
    "\n",
    "plt.savefig(\"six_new.png\", dpi=500, bbox_inches='tight')\n",
    "    \n",
    "plt.show()\n",
    "\n"
   ]
  },
  {
   "cell_type": "code",
   "execution_count": 93,
   "id": "compatible-asthma",
   "metadata": {},
   "outputs": [
    {
     "ename": "AttributeError",
     "evalue": "'tuple' object has no attribute 'append'",
     "output_type": "error",
     "traceback": [
      "\u001b[0;31m---------------------------------------------------------------------------\u001b[0m",
      "\u001b[0;31mAttributeError\u001b[0m                            Traceback (most recent call last)",
      "\u001b[0;32m<ipython-input-93-ba45cd5b33c2>\u001b[0m in \u001b[0;36m<module>\u001b[0;34m\u001b[0m\n\u001b[1;32m     11\u001b[0m \u001b[0me\u001b[0m\u001b[0;34m.\u001b[0m\u001b[0mwrite\u001b[0m\u001b[0;34m(\u001b[0m\u001b[0;34m)\u001b[0m\u001b[0;34m\u001b[0m\u001b[0;34m\u001b[0m\u001b[0m\n\u001b[1;32m     12\u001b[0m \u001b[0;34m\u001b[0m\u001b[0m\n\u001b[0;32m---> 13\u001b[0;31m \u001b[0mt\u001b[0m\u001b[0;34m.\u001b[0m\u001b[0mappend\u001b[0m\u001b[0;34m(\u001b[0m\u001b[0;34m(\u001b[0m\u001b[0mMarkdownBlock\u001b[0m\u001b[0;34m(\u001b[0m\u001b[0;34m\"\"\u001b[0m\u001b[0;34m)\u001b[0m\u001b[0;34m,\u001b[0m \u001b[0;34m[\u001b[0m\u001b[0me\u001b[0m\u001b[0;34m]\u001b[0m\u001b[0;34m)\u001b[0m\u001b[0;34m)\u001b[0m\u001b[0;34m\u001b[0m\u001b[0;34m\u001b[0m\u001b[0m\n\u001b[0m\u001b[1;32m     14\u001b[0m \u001b[0mt\u001b[0m\u001b[0;34m.\u001b[0m\u001b[0mwrite\u001b[0m\u001b[0;34m(\u001b[0m\u001b[0;34m)\u001b[0m\u001b[0;34m\u001b[0m\u001b[0;34m\u001b[0m\u001b[0m\n",
      "\u001b[0;31mAttributeError\u001b[0m: 'tuple' object has no attribute 'append'"
     ]
    }
   ],
   "source": [
    "e = \"\"\"\n",
    "$@m$\n",
    "\"\"\"\n",
    "\n",
    "params = {}\n",
    "ans = sp.Matrix([1,2,3,4])\n",
    "params[\"m\"] = ans\n",
    "\n",
    "e = Exercise(MarkdownBlock(e, params))\n",
    "e.add_answer(ans, True, MarkdownBlock(\"YESS!!\"))\n",
    "e.write()\n",
    "\n",
    "t.append((MarkdownBlock(\"\"), [e]))\n",
    "t.write()"
   ]
  },
  {
   "cell_type": "code",
   "execution_count": 94,
   "id": "governing-monroe",
   "metadata": {},
   "outputs": [
    {
     "name": "stdout",
     "output_type": "stream",
     "text": [
      "[<AxesSubplot:> <AxesSubplot:> <AxesSubplot:>]\n"
     ]
    },
    {
     "data": {
      "image/png": "[encoded data removed]",
      "text/plain": [
       "<Figure size 648x216 with 3 Axes>"
      ]
     },
     "metadata": {
      "needs_background": "light"
     },
     "output_type": "display_data"
    }
   ],
   "source": [
    "def show_grid(ax):\n",
    "    ax.set_xticklabels([])\n",
    "    ax.set_yticklabels([])\n",
    "    ax.tick_params(axis=u'both', which=u'both',length=0)\n",
    "    ax.set_xticks(np.arange(-.5, 10, 1), minor=True)\n",
    "    ax.set_yticks(np.arange(-.5, 10, 1), minor=True)\n",
    "    ax.grid(which='minor', color='black', linestyle='-', linewidth=1)\n",
    "\n",
    "fig, axes = plt.subplots(nrows=1, ncols=3, figsize=(9, 3))\n",
    "print(axes)\n",
    "axes[0].set_title(\"A\")\n",
    "axes[1].set_title(\"B\")\n",
    "axes[2].set_title(\"S\")\n",
    "\n",
    "i0 = np.array([1,0,1,\n",
    "               1,0,1,\n",
    "               1,1,1]).reshape((3,3))\n",
    "i1 = np.array([0,0,0,\n",
    "               1,0,1,\n",
    "               1,1,1]).reshape((3,3))\n",
    "\n",
    "show_grid(axes[0])\n",
    "axes[0].matshow(i0, cmap=\"gray_r\")\n",
    "\n",
    "show_grid(axes[1])\n",
    "axes[1].matshow(i1, cmap=\"gray_r\")\n",
    "\n",
    "show_grid(axes[2])\n",
    "similarity_matrix = sp.Matrix((i0 - i1)**2)\n",
    "numpy_sim_matrix = np.array(similarity_matrix).astype(np.int32)\n",
    "axes[2].matshow(numpy_sim_matrix, cmap=\"gray_r\", vmin=0, vmax=1)\n",
    "\n",
    "plt.savefig(\"similarity_single.png\", dpi=500, bbox_inches='tight')"
   ]
  },
  {
   "cell_type": "code",
   "execution_count": 95,
   "id": "minimal-bhutan",
   "metadata": {},
   "outputs": [
    {
     "ename": "NameError",
     "evalue": "name 'draw_numberline' is not defined",
     "output_type": "error",
     "traceback": [
      "\u001b[0;31m---------------------------------------------------------------------------\u001b[0m",
      "\u001b[0;31mNameError\u001b[0m                                 Traceback (most recent call last)",
      "\u001b[0;32m<ipython-input-95-3ff97511bb05>\u001b[0m in \u001b[0;36m<module>\u001b[0;34m\u001b[0m\n\u001b[1;32m     33\u001b[0m     \u001b[0maxes\u001b[0m\u001b[0;34m[\u001b[0m\u001b[0mi\u001b[0m\u001b[0;34m]\u001b[0m\u001b[0;34m[\u001b[0m\u001b[0;36m2\u001b[0m\u001b[0;34m]\u001b[0m\u001b[0;34m.\u001b[0m\u001b[0mmatshow\u001b[0m\u001b[0;34m(\u001b[0m\u001b[0mnumpy_sim_matrix\u001b[0m\u001b[0;34m,\u001b[0m \u001b[0mcmap\u001b[0m\u001b[0;34m=\u001b[0m\u001b[0;34m\"gray_r\"\u001b[0m\u001b[0;34m,\u001b[0m \u001b[0mvmin\u001b[0m\u001b[0;34m=\u001b[0m\u001b[0;36m0\u001b[0m\u001b[0;34m,\u001b[0m \u001b[0mvmax\u001b[0m\u001b[0;34m=\u001b[0m\u001b[0;36m1\u001b[0m\u001b[0;34m)\u001b[0m\u001b[0;34m\u001b[0m\u001b[0;34m\u001b[0m\u001b[0m\n\u001b[1;32m     34\u001b[0m \u001b[0;34m\u001b[0m\u001b[0m\n\u001b[0;32m---> 35\u001b[0;31m     \u001b[0mdraw_numberline\u001b[0m\u001b[0;34m(\u001b[0m\u001b[0mnumpy_sim_matrix\u001b[0m\u001b[0;34m.\u001b[0m\u001b[0msum\u001b[0m\u001b[0;34m(\u001b[0m\u001b[0;34m)\u001b[0m\u001b[0;34m,\u001b[0m \u001b[0maxes\u001b[0m\u001b[0;34m[\u001b[0m\u001b[0mi\u001b[0m\u001b[0;34m]\u001b[0m\u001b[0;34m[\u001b[0m\u001b[0;36m3\u001b[0m\u001b[0;34m]\u001b[0m\u001b[0;34m)\u001b[0m\u001b[0;34m\u001b[0m\u001b[0;34m\u001b[0m\u001b[0m\n\u001b[0m\u001b[1;32m     36\u001b[0m \u001b[0;34m\u001b[0m\u001b[0m\n\u001b[1;32m     37\u001b[0m \u001b[0mplt\u001b[0m\u001b[0;34m.\u001b[0m\u001b[0msavefig\u001b[0m\u001b[0;34m(\u001b[0m\u001b[0;34m\"similarity.png\"\u001b[0m\u001b[0;34m,\u001b[0m \u001b[0mdpi\u001b[0m\u001b[0;34m=\u001b[0m\u001b[0;36m500\u001b[0m\u001b[0;34m,\u001b[0m \u001b[0mbbox_inches\u001b[0m\u001b[0;34m=\u001b[0m\u001b[0;34m'tight'\u001b[0m\u001b[0;34m)\u001b[0m\u001b[0;34m\u001b[0m\u001b[0;34m\u001b[0m\u001b[0m\n",
      "\u001b[0;31mNameError\u001b[0m: name 'draw_numberline' is not defined"
     ]
    },
    {
     "data": {
      "image/png": "[encoded data removed]",
      "text/plain": [
       "<Figure size 864x576 with 12 Axes>"
      ]
     },
     "metadata": {
      "needs_background": "light"
     },
     "output_type": "display_data"
    }
   ],
   "source": [
    "tuples = [(nums[7], nums[7]),\n",
    "          (nums[7], nums[1]),\n",
    "          (nums[7], nums[1700])]\n",
    "\n",
    "fig, axes = plt.subplots(nrows=len(tuples), ncols=4, figsize=(12, 8))\n",
    "\n",
    "def show_grid(ax):\n",
    "    ax.set_xticklabels([])\n",
    "    ax.set_yticklabels([])\n",
    "    ax.tick_params(axis=u'both', which=u'both',length=0)\n",
    "    ax.set_xticks(np.arange(-.5, 10, 1), minor=True)\n",
    "    ax.set_yticks(np.arange(-.5, 10, 1), minor=True)\n",
    "    ax.grid(which='minor', color='black', linestyle='-', linewidth=1)\n",
    "\n",
    "axes[0][0].set_title(\"A\")\n",
    "axes[0][1].set_title(\"B\")\n",
    "axes[0][2].set_title(\"S\")\n",
    "axes[0][3].set_title(\"Distance Score\")\n",
    "\n",
    "for i, t in enumerate(tuples):\n",
    "    i0 = to_binary(t[0])\n",
    "    i1 = to_binary(t[1])\n",
    "    \n",
    "    show_grid(axes[i][0])\n",
    "    axes[i][0].matshow(i0, cmap=\"gray_r\")\n",
    "\n",
    "    show_grid(axes[i][1])\n",
    "    axes[i][1].matshow(i1, cmap=\"gray_r\")\n",
    "\n",
    "    show_grid(axes[i][2])\n",
    "    similarity_matrix = sp.Matrix((i0 - i1)**2)\n",
    "    numpy_sim_matrix = np.array(similarity_matrix).astype(np.int32)\n",
    "    axes[i][2].matshow(numpy_sim_matrix, cmap=\"gray_r\", vmin=0, vmax=1)\n",
    "\n",
    "    draw_numberline(numpy_sim_matrix.sum(), axes[i][3])\n",
    "\n",
    "plt.savefig(\"similarity.png\", dpi=500, bbox_inches='tight')"
   ]
  },
  {
   "cell_type": "code",
   "execution_count": 100,
   "id": "coral-bernard",
   "metadata": {},
   "outputs": [
    {
     "data": {
      "image/png": "[encoded data removed]",
      "text/plain": [
       "<Figure size 1440x360 with 27 Axes>"
      ]
     },
     "metadata": {
      "needs_background": "light"
     },
     "output_type": "display_data"
    }
   ],
   "source": [
    "data = [nums[7], nums[9], nums[10], nums[11],\n",
    "        nums[1700], nums[1701], nums[1702], nums[1703]]\n",
    "\n",
    "data_exercise = [nums[12], nums[21], nums[22],\n",
    "        nums[1702], nums[1718], nums[1720]]\n",
    "\n",
    "fix, axes = plt.subplots(nrows=3, ncols=len(data)+1, figsize=(20,5))\n",
    "\n",
    "axes[0][0].axis(\"off\")\n",
    "\n",
    "for i in range(1, len(data)+1):\n",
    "    axes[0][i].axis(\"off\")\n",
    "    axes[0][i].matshow(to_binary(data[i-1]), cmap=\"gray_r\", vmin=0, vmax=1)\n",
    "    \n",
    "# for j in range(1, len(data)+1):\n",
    "#     axes[j][0].axis(\"off\")\n",
    "#     axes[j][0].matshow(to_binary(data[j-1]), cmap=\"gray_r\", vmin=0, vmax=1)\n",
    "\n",
    "axes[1][0].axis(\"off\")\n",
    "axes[1][0].matshow(to_binary(nums[5]), cmap=\"gray_r\", vmin=0, vmax=1)\n",
    "\n",
    "axes[2][0].axis(\"off\")\n",
    "\n",
    "for i in range(1, 2):\n",
    "    for j in range(1, len(data)+1):\n",
    "#         print(\"{},{}\".format(i, j))\n",
    "        i0 = to_binary(nums[5])\n",
    "        i1 = to_binary(data[j-1])\n",
    "        similarity_matrix = sp.Matrix(np.abs(i0 - i1))\n",
    "        numpy_sim_matrix = np.array(similarity_matrix).astype(np.int32)\n",
    "#         axes[i][j].axis('off')\n",
    "        show_grid(axes[i][j])\n",
    "        axes[i][j].matshow(numpy_sim_matrix, cmap=\"gray_r\", vmin=0, vmax=1)\n",
    "        draw_numberline(numpy_sim_matrix.sum(), axes[i+1][j])\n",
    "        \n",
    "plt.savefig(\"neighbours_text.png\", dpi=500, bbox_inches='tight')"
   ]
  },
  {
   "cell_type": "code",
   "execution_count": 98,
   "id": "atomic-leisure",
   "metadata": {},
   "outputs": [
    {
     "data": {
      "image/png": "[encoded data removed]",
      "text/plain": [
       "<Figure size 864x864 with 169 Axes>"
      ]
     },
     "metadata": {
      "needs_background": "light"
     },
     "output_type": "display_data"
    }
   ],
   "source": [
    "data = [nums[7], nums[9], nums[10], nums[11],\n",
    "        nums[807], nums[802], nums[803], nums[840],\n",
    "        nums[1700], nums[1701], nums[1702], nums[1703]]\n",
    "\n",
    "fix, axes = plt.subplots(nrows=len(data)+1, ncols=len(data)+1, figsize=(12,12))\n",
    "\n",
    "axes[0][0].axis(\"off\")\n",
    "\n",
    "for i in range(1, len(data)+1):\n",
    "    axes[0][i].axis(\"off\")\n",
    "    axes[0][i].matshow(to_binary(data[i-1]), cmap=\"gray_r\", vmin=0, vmax=1)\n",
    "    \n",
    "for j in range(1, len(data)+1):\n",
    "    axes[j][0].axis(\"off\")\n",
    "    axes[j][0].matshow(to_binary(data[j-1]), cmap=\"gray_r\", vmin=0, vmax=1)\n",
    "\n",
    "\n",
    "for i in range(1, len(data)+1):\n",
    "    for j in range(1, len(data)+1):\n",
    "#         print(\"{},{}\".format(i, j))\n",
    "        i0 = to_binary(data[i-1])\n",
    "        i1 = to_binary(data[j-1])\n",
    "        similarity_matrix = sp.Matrix(np.abs(i0 - i1))\n",
    "        numpy_sim_matrix = np.array(similarity_matrix).astype(np.int32)\n",
    "        axes[i][j].axis('off')\n",
    "        axes[i][j].matshow(numpy_sim_matrix, cmap=\"gray_r\", vmin=0, vmax=1)\n",
    "        \n",
    "plt.savefig(\"cross.png\", dpi=500, bbox_inches='tight')"
   ]
  },
  {
   "cell_type": "code",
   "execution_count": null,
   "id": "injured-conversation",
   "metadata": {},
   "outputs": [],
   "source": []
  },
  {
   "cell_type": "code",
   "execution_count": 96,
   "id": "industrial-fault",
   "metadata": {},
   "outputs": [],
   "source": [
    "def draw_numberline(score, axis):\n",
    "    axis.set_xlim(0,10)\n",
    "    axis.set_ylim(0,10)\n",
    "\n",
    "    # draw lines\n",
    "    xmin = 0\n",
    "    xmax = 10\n",
    "    y = 5\n",
    "    height = 1\n",
    "\n",
    "    axis.axis(\"off\")\n",
    "    axis.hlines(y, xmin, xmax)\n",
    "    axis.vlines(xmin, y - height / 2., y + height / 2.)\n",
    "    axis.vlines(xmax, y - height / 2., y + height / 2.)\n",
    "    \n",
    "    adjusted_score = (score/64)*10\n",
    "\n",
    "    # draw a point on the line\n",
    "    axis.plot(adjusted_score, y, '|', ms = 15, mfc = 'r', label=\"2\")\n",
    "\n",
    "    axis.text(xmin, y + 0.8, '0', horizontalalignment='center')\n",
    "    axis.text(adjusted_score, y - 4, str(score), horizontalalignment='center')\n",
    "    axis.text(xmax, y + 0.8, '64', horizontalalignment='center')"
   ]
  },
  {
   "cell_type": "code",
   "execution_count": 97,
   "id": "informed-cotton",
   "metadata": {},
   "outputs": [],
   "source": [
    "md_4 = \"\"\"\n",
    "### The KNN algorithm \n",
    "How can we exploit this similarity metric to predict the digit value a new image $N$?\n",
    "We can compute the similarity score between $N$ and all other images for which we know the digit number (label).\n",
    "We then only consider the K images with the highest similarity score and take the majority vote of the labels for these images.\n",
    "\"\"\""
   ]
  },
  {
   "cell_type": "code",
   "execution_count": null,
   "id": "robust-oracle",
   "metadata": {},
   "outputs": [],
   "source": [
    "similarity_matrix = np.empty((len(nums), len(nums)))\n",
    "for i in tqdm.tqdm(range(len(nums))):\n",
    "    for j in range(len(nums)):\n",
    "        similarity_matrix[i][j] =  np.linalg.norm(((to_binary(nums[i]) - to_binary(nums[j]))**2))\n",
    "plt.matshow(similarity_matrix)"
   ]
  },
  {
   "cell_type": "code",
   "execution_count": null,
   "id": "friendly-charge",
   "metadata": {},
   "outputs": [],
   "source": [
    "sns.heatmap(similarity_matrix, annot = False)"
   ]
  },
  {
   "cell_type": "code",
   "execution_count": 60,
   "id": "prostate-traffic",
   "metadata": {},
   "outputs": [
    {
     "name": "stdout",
     "output_type": "stream",
     "text": [
      "data\n",
      "target\n",
      "frame\n",
      "feature_names\n",
      "target_names\n",
      "images\n",
      "DESCR\n"
     ]
    }
   ],
   "source": [
    "for key in digits:\n",
    "    print(key)"
   ]
  },
  {
   "cell_type": "code",
   "execution_count": 61,
   "id": "civil-denial",
   "metadata": {
    "scrolled": true,
    "tags": []
   },
   "outputs": [
    {
     "name": "stderr",
     "output_type": "stream",
     "text": [
      "100%|██████████| 899/899 [00:11<00:00, 77.51it/s]"
     ]
    },
    {
     "name": "stdout",
     "output_type": "stream",
     "text": [
      "70\n"
     ]
    },
    {
     "name": "stderr",
     "output_type": "stream",
     "text": [
      "\n"
     ]
    }
   ],
   "source": [
    "from sklearn.model_selection import train_test_split\n",
    "\n",
    "X_train, X_test, y_train, y_test = train_test_split(\n",
    "    digits.data, digits.target, test_size=0.5, shuffle=True)\n",
    "\n",
    "# sorted_indices = np.argsort(y_train)\n",
    "# X_train = X_train[sorted_indices]\n",
    "# similarity_matrix = np.empty((len(X_train), len(X_train)))\n",
    "# for i in tqdm.tqdm(range(len(X_train))):\n",
    "#     for j in range(len(X_train)):\n",
    "#         similarity_matrix[i][j] = np.sum(np.abs(to_binary(X_train[i]) - to_binary(X_train[j])))\n",
    "# h = sns.heatmap(similarity_matrix, annot = False)\n",
    "# plt.tight_layout()\n",
    "# h.get_figure().suptitle(\"Similarity scores in training data (ordered by digit)\")\n",
    "# h.get_figure().savefig(\"similarity_scores_matrix\", dpi=300)\n",
    "\n",
    "\n",
    "\n",
    "predicted = []\n",
    "scores = []\n",
    "\n",
    "for d in tqdm.tqdm(X_test):\n",
    "    scores = []\n",
    "    for x in X_train:\n",
    "        scores.append(np.sum(np.abs(to_binary(d) - to_binary(x))))\n",
    "    indices = np.argsort(np.array(scores))\n",
    "    neighbours = y_train[indices]\n",
    "    knn = neighbours[:20]\n",
    "#     print(knn)\n",
    "    prediction = np.argmax(np.bincount(knn))\n",
    "#     print(prediction)\n",
    "    predicted.append(prediction)\n",
    "\n",
    "print(np.count_nonzero(np.array(predicted)-y_test))\n"
   ]
  },
  {
   "cell_type": "code",
   "execution_count": 62,
   "id": "damaged-bidder",
   "metadata": {
    "tags": []
   },
   "outputs": [
    {
     "name": "stdout",
     "output_type": "stream",
     "text": [
      "[4, 9, 1, 1, 3, 4, 3, 3, 1, 5]\n",
      "[4 9 1 1 3 4 3 3 1 5]\n"
     ]
    },
    {
     "data": {
      "image/png": "[encoded data removed]",
      "text/plain": [
       "<Figure size 432x288 with 2 Axes>"
      ]
     },
     "metadata": {
      "needs_background": "light"
     },
     "output_type": "display_data"
    }
   ],
   "source": [
    "print(predicted[:10])\n",
    "print(y_test[:10])\n",
    "\n",
    "from sklearn.metrics import confusion_matrix\n",
    "cm = confusion_matrix(y_test, np.array(predicted), labels=[i for i in range(10)])\n",
    "g = sns.heatmap(cm, annot=True, xticklabels=True, yticklabels=True, cmap=\"Blues\")\n",
    "g.set_yticklabels(g.get_yticklabels(), rotation = 0)\n",
    "g.set_xlabel(\"predicted\")\n",
    "g.set_ylabel(\"actual\")\n",
    "g.get_figure().savefig(\"confusion_matrix\", dpi=300)"
   ]
  },
  {
   "cell_type": "code",
   "execution_count": 63,
   "id": "naughty-assembly",
   "metadata": {},
   "outputs": [
    {
     "data": {
      "text/html": [
       "<p>$0 + 4$</p>"
      ],
      "text/plain": [
       "<IPython.core.display.HTML object>"
      ]
     },
     "metadata": {},
     "output_type": "display_data"
    },
    {
     "ename": "AttributeError",
     "evalue": "'Exercise' object has no attribute 'markdown'",
     "output_type": "error",
     "traceback": [
      "\u001b[0;31m---------------------------------------------------------------------------\u001b[0m",
      "\u001b[0;31mAttributeError\u001b[0m                            Traceback (most recent call last)",
      "\u001b[0;32m<ipython-input-63-1570b01f023d>\u001b[0m in \u001b[0;36m<module>\u001b[0;34m\u001b[0m\n\u001b[1;32m     16\u001b[0m \u001b[0me\u001b[0m\u001b[0;34m.\u001b[0m\u001b[0madd_answer\u001b[0m\u001b[0;34m(\u001b[0m\u001b[0msp\u001b[0m\u001b[0;34m.\u001b[0m\u001b[0msimplify\u001b[0m\u001b[0;34m(\u001b[0m\u001b[0mans\u001b[0m\u001b[0;34m)\u001b[0m\u001b[0;34m,\u001b[0m \u001b[0;32mTrue\u001b[0m\u001b[0;34m,\u001b[0m \u001b[0mMarkdownBlock\u001b[0m\u001b[0;34m(\u001b[0m\u001b[0;34m\"Good job!\"\u001b[0m\u001b[0;34m)\u001b[0m\u001b[0;34m)\u001b[0m\u001b[0;34m\u001b[0m\u001b[0;34m\u001b[0m\u001b[0m\n\u001b[1;32m     17\u001b[0m \u001b[0me\u001b[0m\u001b[0;34m.\u001b[0m\u001b[0mdisplay\u001b[0m\u001b[0;34m(\u001b[0m\u001b[0;34m)\u001b[0m\u001b[0;34m\u001b[0m\u001b[0;34m\u001b[0m\u001b[0m\n\u001b[0;32m---> 18\u001b[0;31m \u001b[0mprint\u001b[0m\u001b[0;34m(\u001b[0m\u001b[0me\u001b[0m\u001b[0;34m.\u001b[0m\u001b[0mmarkdown\u001b[0m\u001b[0;34m.\u001b[0m\u001b[0mhtml\u001b[0m\u001b[0;34m)\u001b[0m\u001b[0;34m\u001b[0m\u001b[0;34m\u001b[0m\u001b[0m\n\u001b[0m\u001b[1;32m     19\u001b[0m \u001b[0me\u001b[0m\u001b[0;34m.\u001b[0m\u001b[0mwrite\u001b[0m\u001b[0;34m(\u001b[0m\u001b[0;34m)\u001b[0m\u001b[0;34m\u001b[0m\u001b[0;34m\u001b[0m\u001b[0m\n\u001b[1;32m     20\u001b[0m \u001b[0me\u001b[0m\u001b[0;34m.\u001b[0m\u001b[0mpublish\u001b[0m\u001b[0;34m(\u001b[0m\u001b[0;34m)\u001b[0m\u001b[0;34m\u001b[0m\u001b[0;34m\u001b[0m\u001b[0m\n",
      "\u001b[0;31mAttributeError\u001b[0m: 'Exercise' object has no attribute 'markdown'"
     ]
    }
   ],
   "source": [
    "## Exercises should at least contain 1 correct answer!! (check before write, otherwise throw error)\n",
    "\n",
    "e = \"\"\"\n",
    "$@a + @b$\n",
    "\"\"\"\n",
    "a = np.random.randint(0, 10)\n",
    "b = np.random.randint(0, 10)\n",
    "\n",
    "ans = a + b\n",
    "\n",
    "params = {}\n",
    "params[\"a\"] = sp.simplify(a)\n",
    "params[\"b\"] = sp.simplify(b)\n",
    "\n",
    "e = Exercise(MarkdownBlock(e, params))\n",
    "e.add_answer(sp.simplify(ans), True, MarkdownBlock(\"Good job!\"))\n",
    "e.display()\n",
    "print(e.markdown.html)\n",
    "e.write()\n",
    "e.publish()"
   ]
  },
  {
   "cell_type": "code",
   "execution_count": 64,
   "id": "adapted-relative",
   "metadata": {},
   "outputs": [
    {
     "ename": "NameError",
     "evalue": "name 'latex' is not defined",
     "output_type": "error",
     "traceback": [
      "\u001b[0;31m---------------------------------------------------------------------------\u001b[0m",
      "\u001b[0;31mNameError\u001b[0m                                 Traceback (most recent call last)",
      "\u001b[0;32m<ipython-input-64-b657bf9672d9>\u001b[0m in \u001b[0;36m<module>\u001b[0;34m\u001b[0m\n\u001b[0;32m----> 1\u001b[0;31m \u001b[0mprint\u001b[0m\u001b[0;34m(\u001b[0m\u001b[0mrepr\u001b[0m\u001b[0;34m(\u001b[0m\u001b[0mlatex\u001b[0m\u001b[0;34m(\u001b[0m\u001b[0msp\u001b[0m\u001b[0;34m.\u001b[0m\u001b[0mMatrix\u001b[0m\u001b[0;34m(\u001b[0m\u001b[0;36m2\u001b[0m\u001b[0;34m,\u001b[0m\u001b[0;36m2\u001b[0m\u001b[0;34m,\u001b[0m\u001b[0;34m[\u001b[0m\u001b[0;36m1\u001b[0m\u001b[0;34m,\u001b[0m\u001b[0;36m1\u001b[0m\u001b[0;34m,\u001b[0m\u001b[0;36m1\u001b[0m\u001b[0;34m,\u001b[0m\u001b[0;36m1\u001b[0m\u001b[0;34m]\u001b[0m\u001b[0;34m)\u001b[0m\u001b[0;34m)\u001b[0m\u001b[0;34m)\u001b[0m\u001b[0;34m)\u001b[0m\u001b[0;34m\u001b[0m\u001b[0;34m\u001b[0m\u001b[0m\n\u001b[0m",
      "\u001b[0;31mNameError\u001b[0m: name 'latex' is not defined"
     ]
    }
   ],
   "source": [
    "print(repr(latex(sp.Matrix(2,2,[1,1,1,1]))))"
   ]
  },
  {
   "cell_type": "code",
   "execution_count": 65,
   "id": "eight-vertical",
   "metadata": {},
   "outputs": [
    {
     "ename": "NameError",
     "evalue": "name 'symbols' is not defined",
     "output_type": "error",
     "traceback": [
      "\u001b[0;31m---------------------------------------------------------------------------\u001b[0m",
      "\u001b[0;31mNameError\u001b[0m                                 Traceback (most recent call last)",
      "\u001b[0;32m<ipython-input-65-89a7a00051a6>\u001b[0m in \u001b[0;36m<module>\u001b[0;34m\u001b[0m\n\u001b[1;32m      7\u001b[0m \u001b[0;34m\u001b[0m\u001b[0m\n\u001b[1;32m      8\u001b[0m \u001b[0mm\u001b[0m \u001b[0;34m=\u001b[0m \u001b[0msp\u001b[0m\u001b[0;34m.\u001b[0m\u001b[0mMatrix\u001b[0m\u001b[0;34m(\u001b[0m\u001b[0mdata\u001b[0m\u001b[0;34m)\u001b[0m\u001b[0;34m\u001b[0m\u001b[0;34m\u001b[0m\u001b[0m\n\u001b[0;32m----> 9\u001b[0;31m \u001b[0ma\u001b[0m \u001b[0;34m=\u001b[0m \u001b[0msp\u001b[0m\u001b[0;34m.\u001b[0m\u001b[0mMatrix\u001b[0m\u001b[0;34m(\u001b[0m\u001b[0;36m2\u001b[0m\u001b[0;34m,\u001b[0m \u001b[0;36m2\u001b[0m\u001b[0;34m,\u001b[0m \u001b[0;34m[\u001b[0m\u001b[0msymbols\u001b[0m\u001b[0;34m(\u001b[0m\u001b[0;34m\"m_{1,1}\"\u001b[0m\u001b[0;34m)\u001b[0m\u001b[0;34m,\u001b[0m \u001b[0msymbols\u001b[0m\u001b[0;34m(\u001b[0m\u001b[0;34m\"m_{1,3}\"\u001b[0m\u001b[0;34m)\u001b[0m\u001b[0;34m,\u001b[0m \u001b[0msymbols\u001b[0m\u001b[0;34m(\u001b[0m\u001b[0;34m\"m_{3,1}\"\u001b[0m\u001b[0;34m)\u001b[0m\u001b[0;34m,\u001b[0m \u001b[0msymbols\u001b[0m\u001b[0;34m(\u001b[0m\u001b[0;34m\"m_{3,3}\"\u001b[0m\u001b[0;34m)\u001b[0m\u001b[0;34m]\u001b[0m\u001b[0;34m)\u001b[0m\u001b[0;34m\u001b[0m\u001b[0;34m\u001b[0m\u001b[0m\n\u001b[0m\u001b[1;32m     10\u001b[0m \u001b[0mprint\u001b[0m\u001b[0;34m(\u001b[0m\u001b[0ma\u001b[0m\u001b[0;34m)\u001b[0m\u001b[0;34m\u001b[0m\u001b[0;34m\u001b[0m\u001b[0m\n\u001b[1;32m     11\u001b[0m \u001b[0;34m\u001b[0m\u001b[0m\n",
      "\u001b[0;31mNameError\u001b[0m: name 'symbols' is not defined"
     ]
    }
   ],
   "source": [
    "e = \"\"\"\n",
    "Given matrix $M = @m$, provide the matrix:\n",
    "\n",
    "$A = @a$\n",
    "\"\"\"\n",
    "data = np.random.randint(0,10,(3,3))\n",
    "\n",
    "m = sp.Matrix(data)\n",
    "a = sp.Matrix(2, 2, [symbols(\"m_{1,1}\"), symbols(\"m_{1,3}\"), symbols(\"m_{3,1}\"), symbols(\"m_{3,3}\")])\n",
    "print(a)\n",
    "\n",
    "params = {}\n",
    "params[\"m\"] = sp.simplify(m)\n",
    "params[\"a\"] = sp.simplify(a)\n",
    "\n",
    "ans = sp.Matrix([[m[0,0], m[0,2]], [m[2,0], m[2,2]]])\n",
    "print(ans)\n",
    "\n",
    "## TODO: retry with different values?\n",
    "## Show answer button?\n",
    "## Clear input button?\n",
    "\n",
    "e = Exercise(MarkdownBlock(e, params))\n",
    "e.add_answer(sp.simplify(ans), True, MarkdownBlock(\"Good job!\"))\n",
    "e.display()\n",
    "e.write()\n",
    "e.publish()"
   ]
  },
  {
   "cell_type": "code",
   "execution_count": 66,
   "id": "cubic-highland",
   "metadata": {},
   "outputs": [
    {
     "data": {
      "text/plain": [
       "'\\n\\x08egin{align}\\n\\\\dot{x} & = \\\\sigma(y-x) \\\\\\n\\\\dot{y} & = \\rho x - y - xz \\\\\\n\\\\dot{z} & = -\\x08eta z + xy\\n\\\\end{align}\\n'"
      ]
     },
     "metadata": {},
     "output_type": "display_data"
    },
    {
     "ename": "NameError",
     "evalue": "name 'HTMLMath' is not defined",
     "output_type": "error",
     "traceback": [
      "\u001b[0;31m---------------------------------------------------------------------------\u001b[0m",
      "\u001b[0;31mNameError\u001b[0m                                 Traceback (most recent call last)",
      "\u001b[0;32m<ipython-input-66-28cebeb617a6>\u001b[0m in \u001b[0;36m<module>\u001b[0;34m\u001b[0m\n\u001b[1;32m      8\u001b[0m \u001b[0;32mimport\u001b[0m \u001b[0mre\u001b[0m\u001b[0;34m\u001b[0m\u001b[0;34m\u001b[0m\u001b[0m\n\u001b[1;32m      9\u001b[0m \u001b[0mdisplay\u001b[0m\u001b[0;34m(\u001b[0m\u001b[0mmath\u001b[0m\u001b[0;34m)\u001b[0m\u001b[0;34m\u001b[0m\u001b[0;34m\u001b[0m\u001b[0m\n\u001b[0;32m---> 10\u001b[0;31m \u001b[0mdisplay\u001b[0m\u001b[0;34m(\u001b[0m\u001b[0mHTMLMath\u001b[0m\u001b[0;34m(\u001b[0m\u001b[0mmath\u001b[0m\u001b[0;34m)\u001b[0m\u001b[0;34m)\u001b[0m\u001b[0;34m\u001b[0m\u001b[0;34m\u001b[0m\u001b[0m\n\u001b[0m\u001b[1;32m     11\u001b[0m \u001b[0mdisplay\u001b[0m\u001b[0;34m(\u001b[0m\u001b[0mMath\u001b[0m\u001b[0;34m(\u001b[0m\u001b[0;34mr\"{}\"\u001b[0m\u001b[0;34m.\u001b[0m\u001b[0mformat\u001b[0m\u001b[0;34m(\u001b[0m\u001b[0mmath\u001b[0m\u001b[0;34m)\u001b[0m\u001b[0;34m)\u001b[0m\u001b[0;34m)\u001b[0m\u001b[0;34m\u001b[0m\u001b[0;34m\u001b[0m\u001b[0m\n",
      "\u001b[0;31mNameError\u001b[0m: name 'HTMLMath' is not defined"
     ]
    }
   ],
   "source": [
    "math = \"\"\"\n",
    "\\begin{align}\n",
    "\\dot{x} & = \\sigma(y-x) \\\\\n",
    "\\dot{y} & = \\rho x - y - xz \\\\\n",
    "\\dot{z} & = -\\beta z + xy\n",
    "\\end{align}\n",
    "\"\"\"\n",
    "import re\n",
    "display(math)\n",
    "display(HTMLMath(math))\n",
    "display(Math(r\"{}\".format(math)))"
   ]
  },
  {
   "cell_type": "markdown",
   "id": "seven-textbook",
   "metadata": {},
   "source": [
    "$$(a+b)^{2} = a^{2}+2ab+b^{2}$$"
   ]
  },
  {
   "cell_type": "code",
   "execution_count": null,
   "id": "loose-corpus",
   "metadata": {},
   "outputs": [],
   "source": []
  }
 ],
 "metadata": {
  "kernelspec": {
   "display_name": "exercise",
   "language": "python",
   "name": "exercise"
  },
  "language_info": {
   "codemirror_mode": {
    "name": "ipython",
    "version": 3
   },
   "file_extension": ".py",
   "mimetype": "text/x-python",
   "name": "python",
   "nbconvert_exporter": "python",
   "pygments_lexer": "ipython3",
   "version": "3.9.5"
  }
 },
 "nbformat": 4,
 "nbformat_minor": 5
}
