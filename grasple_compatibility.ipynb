{
 "cells": [
  {
   "cell_type": "code",
   "execution_count": 8,
   "id": "corrected-ranking",
   "metadata": {},
   "outputs": [],
   "source": [
    "from Exercise import Exercise, MarkdownBlock\n",
    "from config import URL, TOKEN\n",
    "import json\n",
    "\n",
    "import numpy as np\n",
    "import sympy as sp\n",
    "\n",
    "Exercise.URL = URL\n",
    "Exercise.TOKEN = TOKEN\n",
    "\n",
    "MarkdownBlock.TEX_INLINE_WRAP_LEFT = \"\\(\"\n",
    "MarkdownBlock.TEX_INLINE_WRAP_RIGHT = \"\\)\""
   ]
  },
  {
   "cell_type": "code",
   "execution_count": 9,
   "id": "amazing-scanning",
   "metadata": {},
   "outputs": [],
   "source": [
    "from sympy import Rational, Symbol, latex, UnevaluatedExpr\n",
    "\n",
    "u = lambda x : UnevaluatedExpr(x)\n",
    "\n",
    "# Helper functions\n",
    "def explain_add(a, b):\n",
    "    assert(np.shape(a) == np.shape(b))\n",
    "    rows, columns = np.shape(a)\n",
    "    return sp.Matrix([[Symbol(f\"({latex(u(a[i,j]))} + {latex(u(b[i,j]))})\") for j in range(columns)] for i in range(rows)])\n",
    "\n",
    "def symbolic_matrix(character, rows, columns):\n",
    "    return sp.Matrix([[Symbol(f\"{{{character}}}_{{{i+1}, {j+1}}}\") for j in range(columns)] for i in range(rows)])"
   ]
  },
  {
   "cell_type": "code",
   "execution_count": 10,
   "id": "eastern-flight",
   "metadata": {},
   "outputs": [],
   "source": [
    "a = np.arange(4)\n",
    "b = -1 * np.arange(1, 5)\n",
    "a = sp.Matrix(a)\n",
    "b = sp.Matrix(b)\n",
    "\n",
    "s = \"What is $@a + @b?$\"\n",
    "\n",
    "params = {}\n",
    "params[\"a\"] = a\n",
    "params[\"b\"] = b\n",
    "e = Exercise(MarkdownBlock(s, params))\n",
    "\n",
    "s1 = \"Yes, $@a + @b = @c = @d$!\"\n",
    "params[\"c\"] = explain_add(a,b)\n",
    "params[\"d\"] = a + b\n",
    "e.add_answer(a + b, True, MarkdownBlock(s1, params))\n",
    "\n",
    "params_1 = {}\n",
    "params_1[\"x\"] = symbolic_matrix(\"a\", 4,1)\n",
    "params_1[\"y\"] = symbolic_matrix(\"b\", 4,1)\n",
    "params_1[\"z\"] = explain_add(params_1[\"x\"], params_1[\"y\"])\n",
    "default_feedback = \"Remember the definition of matrix addition: $@x + @y = @z$\"\n",
    "e.add_default_feedback(MarkdownBlock(default_feedback, params_1))\n",
    "\n",
    "e.write()"
   ]
  },
  {
   "cell_type": "code",
   "execution_count": null,
   "id": "secret-proof",
   "metadata": {},
   "outputs": [],
   "source": []
  }
 ],
 "metadata": {
  "kernelspec": {
   "display_name": "exercise",
   "language": "python",
   "name": "exercise"
  },
  "language_info": {
   "codemirror_mode": {
    "name": "ipython",
    "version": 3
   },
   "file_extension": ".py",
   "mimetype": "text/x-python",
   "name": "python",
   "nbconvert_exporter": "python",
   "pygments_lexer": "ipython3",
   "version": "3.9.2"
  }
 },
 "nbformat": 4,
 "nbformat_minor": 5
}
