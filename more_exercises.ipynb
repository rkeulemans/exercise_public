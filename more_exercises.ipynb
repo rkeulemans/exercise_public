{
 "cells": [
  {
   "cell_type": "code",
   "execution_count": 93,
   "id": "mexican-taste",
   "metadata": {},
   "outputs": [],
   "source": [
    "from sympy.matrices import Matrix \n",
    "import sympy as sp\n",
    "import numpy as np\n",
    "from Exercise import Exercise, MarkdownBlock\n",
    "\n",
    "from helpers import *\n",
    "\n",
    "import math\n",
    "import matplotlib.pyplot as plt\n",
    "import matplotlib as mpl\n",
    "plt.rcParams.update({'font.size': 20})\n",
    "\n",
    "from process_latex import process_sympy \n",
    "\n",
    "try:\n",
    "    from config import URL, TOKEN\n",
    "except:\n",
    "    None\n",
    "\n",
    "# TODO: replace with supplied strings\n",
    "Exercise.URL = URL\n",
    "Exercise.TOKEN = TOKEN"
   ]
  },
  {
   "cell_type": "code",
   "execution_count": 3,
   "id": "auburn-premiere",
   "metadata": {},
   "outputs": [
    {
     "data": {
      "text/html": [
       "<p>What is $\\left[\\begin{matrix}0\\\\1\\\\2\\\\3\\end{matrix}\\right] + \\left[\\begin{matrix}3\\\\2\\\\1\\\\0\\end{matrix}\\right]$?</p>"
      ],
      "text/plain": [
       "<IPython.core.display.HTML object>"
      ]
     },
     "metadata": {},
     "output_type": "display_data"
    },
    {
     "data": {
      "text/html": [
       "\n",
       "        <iframe\n",
       "            width=\"500\"\n",
       "            height=\"350\"\n",
       "            src=\"https://www.mscthesis.nl/preview?id=2236f84a-0ae5-4d6f-a1e5-fc1300f47e90\"\n",
       "            frameborder=\"0\"\n",
       "            allowfullscreen\n",
       "        ></iframe>\n",
       "        "
      ],
      "text/plain": [
       "<IPython.lib.display.IFrame at 0x115139550>"
      ]
     },
     "metadata": {},
     "output_type": "display_data"
    },
    {
     "name": "stdout",
     "output_type": "stream",
     "text": [
      "Published succesfully, preview at: https://www.mscthesis.nl/preview?id=2236f84a-0ae5-4d6f-a1e5-fc1300f47e90\n"
     ]
    }
   ],
   "source": [
    "m = r\"What is $@a + @b$?\"\n",
    "\n",
    "params = {}\n",
    "params[\"a\"] = sp.Matrix(np.arange(4))\n",
    "params[\"b\"] = sp.Matrix(np.flip(np.arange(4)))\n",
    "\n",
    "e = Exercise(MarkdownBlock(m, params))\n",
    "e.add_answer(params[\"a\"] + params[\"b\"], True, \"Correct!\")\n",
    "e.display()\n",
    "\n",
    "e.write(\"vector_addition\")\n",
    "e.play()"
   ]
  },
  {
   "cell_type": "code",
   "execution_count": null,
   "id": "gorgeous-jimmy",
   "metadata": {},
   "outputs": [],
   "source": [
    "m = r\"What is $@trace$?\"\n",
    "\n",
    "params = {}\n",
    "params[\"trace\"] = sp.Trace(sp.Matrix(np.arange(16).reshape((4,4))))\n",
    "\n",
    "e = Exercise(MarkdownBlock(m, params))\n",
    "\n",
    "ans = params[\"trace\"].doit()\n",
    "\n",
    "e.add_answer(ans, True, MarkdownBlock(\"Correct! $@trace$\", params))\n",
    "e.display()\n",
    "\n",
    "e.write(\"trace\")\n",
    "e.play()"
   ]
  },
  {
   "cell_type": "code",
   "execution_count": null,
   "id": "caroline-vehicle",
   "metadata": {},
   "outputs": [],
   "source": [
    "m = r\"What is $@inverse$?\"\n",
    "\n",
    "params = {}\n",
    "params[\"inverse\"] = sp.Inverse(sp.Matrix([[-1, 3/2], [1, -1]]))\n",
    "\n",
    "e = Exercise(MarkdownBlock(m, params))\n",
    "\n",
    "ans = params[\"inverse\"].doit()\n",
    "params[\"ans\"] = ans\n",
    "\n",
    "e.add_answer(ans, True, MarkdownBlock(\"Correct! $@inverse = @ans$\", params))\n",
    "e.add_default_feedback(MarkdownBlock(\"Correct! $@inverse = @ans$\", params))\n",
    "e.display()\n",
    "\n",
    "e.write(\"inverse\")\n",
    "e.play()"
   ]
  },
  {
   "cell_type": "code",
   "execution_count": 4,
   "id": "coordinate-september",
   "metadata": {},
   "outputs": [
    {
     "data": {
      "text/html": [
       "\n",
       "        <iframe\n",
       "            width=\"500\"\n",
       "            height=\"350\"\n",
       "            src=\"https://www.mscthesis.nl/preview?id=int_param\"\n",
       "            frameborder=\"0\"\n",
       "            allowfullscreen\n",
       "        ></iframe>\n",
       "        "
      ],
      "text/plain": [
       "<IPython.lib.display.IFrame at 0x115c49f40>"
      ]
     },
     "metadata": {},
     "output_type": "display_data"
    }
   ],
   "source": [
    "def generator():\n",
    "    m = r\"What is $@a + @b$?\"\n",
    "    \n",
    "    params = {}\n",
    "    params[\"a\"] = np.random.randint(0, 10)\n",
    "    params[\"b\"] = np.random.randint(10, 20)\n",
    "    params[\"ans\"] = params[\"a\"] + params[\"b\"]\n",
    "\n",
    "    e = Exercise(MarkdownBlock(m, params))\n",
    "    e.add_answer(params[\"ans\"], True, MarkdownBlock(\"Yes!\", params))\n",
    "    e.add_default_feedback(MarkdownBlock(\"No!\", params))\n",
    "    \n",
    "    return e\n",
    "\n",
    "Exercise.write_multiple(generator=generator, instances_count=100, id=\"int_param\")"
   ]
  },
  {
   "cell_type": "code",
   "execution_count": 46,
   "id": "harmful-tiffany",
   "metadata": {},
   "outputs": [],
   "source": [
    "from sklearn.datasets import load_digits\n",
    "digits = load_digits()\n",
    "\n",
    "sorted_indices = np.argsort(digits.target)\n",
    "nums = digits.images[sorted_indices]"
   ]
  },
  {
   "cell_type": "code",
   "execution_count": 98,
   "id": "inappropriate-prescription",
   "metadata": {},
   "outputs": [],
   "source": [
    "def to_binary(array):\n",
    "    return np.where(array > 7, 1, 0)\n",
    "\n",
    "def show(array, filename, binary = True):\n",
    "    data = to_binary(array) if binary else array \n",
    "    fig = plt.figure()\n",
    "    plt.matshow(data, cmap='gray_r')\n",
    "    plt.axis('off')\n",
    "    plt.savefig(\"{}.png\".format(filename), dpi=200, bbox_inches='tight')\n",
    "    plt.close(fig)\n",
    "\n",
    "# f, axarr = plt.subplots(1,10)\n",
    "# unit = math.floor(len(nums)/10)\n",
    "# start_offset = math.floor((1/2)*unit)\n",
    "# for i in range(0, 10):\n",
    "#     axarr[i].axis('off')\n",
    "#     axarr[i].matshow(np.where(nums[start_offset + i*unit + 1] > 7, 1, 0), cmap=\"gray_r\")\n",
    "\n",
    "# plt.savefig(\"all_digits.png\", dpi=500, bbox_inches='tight') \n",
    "# show(nums[7], \"zero\")\n",
    "# show(nums[1500], \"eight\")\n",
    "\n",
    "def matrix_to_image(matrix, filename, grid=True, values_in_cells=False, axis_indices=True, axis_titles=False):\n",
    "    fig, ax = plt.subplots()\n",
    "    \n",
    "    if grid:\n",
    "        # Minor ticks\n",
    "        ax.set_xticks(np.arange(-.5, 10, 1), minor=True)\n",
    "        ax.set_yticks(np.arange(-.5, 10, 1), minor=True)\n",
    "        ax.grid(which='minor', color='black', linestyle='-', linewidth=2)\n",
    "    else:\n",
    "        plt.asix('off')\n",
    "    \n",
    "    if values_in_cells:\n",
    "        import matplotlib.patheffects as pe\n",
    "        for (i, j), z in np.ndenumerate(matrix):\n",
    "            value = \"\"\n",
    "            try:\n",
    "                value = int(z)\n",
    "            except:\n",
    "                value = \"\"\n",
    "            ax.text(j, i, '{}'.format(value), ha='center', va='center', path_effects=[pe.withStroke(linewidth=4, foreground=\"white\")]) \n",
    "        \n",
    "    if axis_indices: \n",
    "        ax.set_xticklabels([i for i in range(0, 9)])\n",
    "        ax.set_yticklabels([i for i in range(0, 9)])\n",
    "        \n",
    "    if axis_titles:\n",
    "        ax.set_xlabel(\"column index\")\n",
    "        ax.xaxis.set_label_position('top')\n",
    "\n",
    "        ax.set_ylabel(\"row index\")\n",
    "        ax.yaxis.set_label_position('left') \n",
    "\n",
    "    current_cmap = mpl.cm.get_cmap()\n",
    "    current_cmap.set_bad(color='red')\n",
    "    # was .matshow\n",
    "    ax.matshow(matrix, cmap='gray_r')\n",
    "    \n",
    "    plt.savefig(\"{}.png\".format(filename), dpi=200, bbox_inches='tight')\n",
    "    plt.close(fig)"
   ]
  },
  {
   "cell_type": "code",
   "execution_count": 101,
   "id": "domestic-fraction",
   "metadata": {},
   "outputs": [
    {
     "name": "stderr",
     "output_type": "stream",
     "text": [
      "<ipython-input-100-e4d1973caad0>:40: UserWarning: FixedFormatter should only be used together with FixedLocator\n",
      "  ax.set_xticklabels([i for i in range(0, 9)])\n",
      "<ipython-input-100-e4d1973caad0>:41: UserWarning: FixedFormatter should only be used together with FixedLocator\n",
      "  ax.set_yticklabels([i for i in range(0, 9)])\n"
     ]
    }
   ],
   "source": [
    "m = \"\"\"\n",
    "Given the matrices\n",
    "\n",
    "<div class=\"d-flex flex-1 flex-items-center\">\n",
    "$A = $ <img src=\"a.png\" height=\"150\">, $B = $ <img src=\"b.png\" height=\"150\">\n",
    "</div>\n",
    "\n",
    "#### Task\n",
    "Frist, determine $D = |A - B|$, then compute $\\sum_{i=1}^{} \\sum_{j=1}{} d_{i,j}$\n",
    "\"\"\"\n",
    "\n",
    "f1 = \"\"\"\n",
    "Correct!\n",
    "\n",
    "$D = $ <img src=\"d.png\" height=\"150\"> \n",
    "\n",
    "$\\sum D = @sum$\n",
    "\"\"\" \n",
    "\n",
    "f2 = \"\"\"\n",
    "<div class=\"d-flex flex-1 flex-items-center\">\n",
    "Hint: $D = $ <img src=\"d.png\" height=\"150\"> \n",
    "</div>\n",
    "\"\"\" \n",
    "def generator():\n",
    "    # to vector: .reshape(-1, 1)\n",
    "    a = to_binary(nums[np.random.randint(1700)])\n",
    "    b = to_binary(nums[np.random.randint(1700)])\n",
    "    d = np.abs(a-b)\n",
    "    matrix_to_image(a, \"a\", grid=True, values_in_cells=True, axis_indices=True)\n",
    "    matrix_to_image(b, \"b\", grid=True, values_in_cells=True, axis_indices=True)\n",
    "    matrix_to_image(d, \"d\", grid=True, values_in_cells=True, axis_indices=True)\n",
    "    \n",
    "    e = Exercise(m)\n",
    "    \n",
    "    ans = int(np.sum(d))\n",
    "    e.add_answer(expression=ans, correct=True, feedback=MarkdownBlock(md=f1, params=dict(sum=ans)))\n",
    "    e.add_answer(expression=ans-1, correct=False, feedback=\"You are close, please check your answer\")\n",
    "    e.add_answer(expression=ans+1, correct=False, feedback=\"You are close, please check your answer\")\n",
    "    e.add_default_feedback(feedback=f2)\n",
    "    return e\n",
    "\n",
    "Exercise.write_multiple(generator, 10, \"digit_vectors\")"
   ]
  },
  {
   "cell_type": "code",
   "execution_count": 95,
   "id": "representative-better",
   "metadata": {},
   "outputs": [
    {
     "name": "stderr",
     "output_type": "stream",
     "text": [
      "<ipython-input-92-8f890e6fafea>:42: UserWarning: FixedFormatter should only be used together with FixedLocator\n",
      "  ax.set_xticklabels([i for i in range(0, 9)])\n",
      "<ipython-input-92-8f890e6fafea>:43: UserWarning: FixedFormatter should only be used together with FixedLocator\n",
      "  ax.set_yticklabels([i for i in range(0, 9)])\n"
     ]
    }
   ],
   "source": [
    "m = \"\"\"\n",
    "Given the matrices\n",
    "\n",
    "<div class=\"d-flex flex-1 flex-items-center\">\n",
    "$A = $ <img src=\"a.png\" height=\"200\">, $B = $ <img src=\"b.png\" height=\"200\">\n",
    "</div>\n",
    "\n",
    "#### Task\n",
    "Frist, determine $D = |A - B|$, compute $\\sum_{j=1}{} d_{1,j}$\n",
    "\"\"\"\n",
    "\n",
    "f1 = \"\"\"\n",
    "Correct!\n",
    "\n",
    "$D = $ <img src=\"d.png\" height=\"200\"> \n",
    "\n",
    "$\\sum D = @sum$\n",
    "\"\"\" \n",
    "\n",
    "f2 = \"\"\"\n",
    "<div class=\"d-flex flex-1 flex-items-center\">\n",
    "Hint: $D = $ <img src=\"d.png\" height=\"200\"> \n",
    "</div>\n",
    "\"\"\" \n",
    "def generator():\n",
    "    # to vector: .reshape(-1, 1)\n",
    "    a = nums[np.random.randint(1700)]\n",
    "    b = nums[np.random.randint(1700)]\n",
    "    d = np.abs(a-b)\n",
    "    matrix_to_image(a, \"a\", grid=True, values_in_cells=True, axis_indices=True)\n",
    "    matrix_to_image(b, \"b\", grid=True, values_in_cells=True, axis_indices=True)\n",
    "    matrix_to_image(d, \"d\", grid=True, values_in_cells=True, axis_indices=True)\n",
    "    \n",
    "    e = Exercise(m)\n",
    "    \n",
    "    ans = np.sum(d[0,:])\n",
    "    e.add_answer(expression=ans, correct=True, feedback=MarkdownBlock(md=f1, params=dict(sum=ans)))\n",
    "    e.add_default_feedback(feedback=f2)\n",
    "    return e\n",
    "\n",
    "Exercise.write_multiple(generator, 5, \"digit_vectors_grayscale\")"
   ]
  },
  {
   "cell_type": "code",
   "execution_count": null,
   "id": "standing-wilderness",
   "metadata": {},
   "outputs": [],
   "source": [
    "import matplotlib.patheffects as pe\n",
    "def values_in_matrix(ax, array):\n",
    "    for (i, j), z in np.ndenumerate(array):\n",
    "        ax.text(j, i, '{}'.format(int(z)), ha='center', va='center', path_effects=[pe.withStroke(linewidth=4, foreground=\"white\")])\n",
    "\n",
    "from scipy import ndimage, misc\n",
    "import matplotlib.pyplot as plt\n",
    "fig = plt.figure(figsize=(10, 10))\n",
    "# plt.gray()  # show the filtered result in grayscale\n",
    "ax1 = fig.add_subplot(121)  # left side\n",
    "ax2 = fig.add_subplot(122)  # right side\n",
    "ascent = to_binary(nums[516])\n",
    "result = ndimage.sobel(ascent, mode=\"constant\", cval=0.5)\n",
    "values_in_matrix(ax1, ascent)\n",
    "values_in_matrix(ax2, result)\n",
    "print(type(result))\n",
    "ax1.imshow(ascent)\n",
    "ax2.imshow(result)\n",
    "\n",
    "plt.show()"
   ]
  },
  {
   "cell_type": "code",
   "execution_count": 58,
   "id": "furnished-destiny",
   "metadata": {},
   "outputs": [
    {
     "data": {
      "text/html": [
       "\n",
       "        <iframe\n",
       "            width=\"500\"\n",
       "            height=\"350\"\n",
       "            src=\"https://www.mscthesis.nl/preview?id=954a2a9d-d6c3-4412-b511-89bb47daae41\"\n",
       "            frameborder=\"0\"\n",
       "            allowfullscreen\n",
       "        ></iframe>\n",
       "        "
      ],
      "text/plain": [
       "<IPython.lib.display.IFrame at 0x12749fee0>"
      ]
     },
     "metadata": {},
     "output_type": "display_data"
    },
    {
     "name": "stdout",
     "output_type": "stream",
     "text": [
      "Published succesfully, preview at: https://www.mscthesis.nl/preview?id=954a2a9d-d6c3-4412-b511-89bb47daae41\n"
     ]
    }
   ],
   "source": [
    "Exercise(r\"What is $\\begin{bmatrix} 1 \\\\ 2 \\end{bmatrix} + \\begin{bmatrix} 3 \\\\ 4 \\end{bmatrix}$\").play()"
   ]
  },
  {
   "cell_type": "code",
   "execution_count": 23,
   "id": "olympic-madison",
   "metadata": {},
   "outputs": [
    {
     "data": {
      "text/plain": [
       "'Hello Matrix([[2], [5], [8], [3]])'"
      ]
     },
     "execution_count": 23,
     "metadata": {},
     "output_type": "execute_result"
    }
   ],
   "source": [
    "v1 = sp.randMatrix(r=4, c=1, min=0, max=10)\n",
    "sp.latex(v1)\n",
    "f\"Hello {v1}\""
   ]
  },
  {
   "cell_type": "code",
   "execution_count": 79,
   "id": "fatal-guide",
   "metadata": {},
   "outputs": [
    {
     "name": "stdout",
     "output_type": "stream",
     "text": [
      "[[0]\n",
      " [0]\n",
      " [0]\n",
      " [0]]\n",
      "Matrix([[7], [9], [9], [10]])\n",
      "[[0]\n",
      " [0]\n",
      " [0]\n",
      " [0]]\n",
      "Matrix([[4], [12], [8], [0]])\n",
      "[[0]\n",
      " [0]\n",
      " [0]\n",
      " [0]]\n",
      "Matrix([[10], [17], [8], [17]])\n",
      "[[0]\n",
      " [0]\n",
      " [0]\n",
      " [0]]\n",
      "Matrix([[7], [2], [2], [14]])\n",
      "[[0]\n",
      " [0]\n",
      " [0]\n",
      " [0]]\n",
      "Matrix([[13], [14], [16], [4]])\n",
      "[[0]\n",
      " [0]\n",
      " [0]\n",
      " [0]]\n",
      "Matrix([[2], [3], [18], [4]])\n",
      "[[0]\n",
      " [0]\n",
      " [0]\n",
      " [0]]\n",
      "Matrix([[5], [7], [5], [14]])\n",
      "[[0]\n",
      " [0]\n",
      " [0]\n",
      " [0]]\n",
      "Matrix([[2], [5], [12], [5]])\n",
      "[[0]\n",
      " [0]\n",
      " [0]\n",
      " [0]]\n",
      "Matrix([[1], [15], [4], [14]])\n",
      "[[0]\n",
      " [0]\n",
      " [0]\n",
      " [0]]\n",
      "Matrix([[16], [2], [19], [13]])\n"
     ]
    }
   ],
   "source": [
    "m = \"\"\"\n",
    "Place the following values at the right positions in a vector: $a_{@i2} = @v2, a_{@i3} = @v3, a_{@i4} = @v4, a_{@i1} = @v1$\n",
    "\"\"\"\n",
    "def generator():\n",
    "    params = {}\n",
    "    ans = np.zeros((4, 1), dtype=int)\n",
    "    print(ans)\n",
    "    for i in range(1, 5):\n",
    "        params[f\"i{str(i)}\"] = i\n",
    "        value = np.random.randint(0, 20)\n",
    "        params[f\"v{str(i)}\"] = value\n",
    "        ans[i-1,0] = value\n",
    "\n",
    "    e = Exercise(MarkdownBlock(m, params))\n",
    "    ans = sp.Matrix(np.array(ans).reshape(-1, 1))\n",
    "    print(ans)\n",
    "    e.add_answer(ans, True, \"Indeed\")\n",
    "    return e\n",
    "\n",
    "Exercise.write_multiple(generator, 10, \"values_in_vector\")\n",
    "\n"
   ]
  },
  {
   "cell_type": "code",
   "execution_count": null,
   "id": "nutritional-rocket",
   "metadata": {},
   "outputs": [],
   "source": [
    "# How many rows, how many columns (dimensions), how many total entries,\n",
    "# selecting a column (vector) or row, from a matrix\n",
    "# Apply this function to each of the elements\n",
    "# Value of single entry, constructing a matrix from other matrices, sum of multiple entries, square matrix, identity matrix, trace? "
   ]
  },
  {
   "cell_type": "code",
   "execution_count": 118,
   "id": "distinct-christmas",
   "metadata": {},
   "outputs": [],
   "source": [
    "m = \"\"\"\n",
    "Consider the matrix $A$, what is the value at $a_{@i, @j}$?\n",
    "<p align=\"center\">\n",
    "$A = @a$\n",
    "</p>\n",
    "\"\"\"\n",
    "\n",
    "def generator():\n",
    "    params = {}\n",
    "    rows = np.random.randint(2, 10)\n",
    "    columns = np.random.randint(2, 10)\n",
    "    matrix = sp.randMatrix(rows, columns)\n",
    "    params[\"a\"] = matrix \n",
    "    i = np.random.randint(0, rows)\n",
    "    j = np.random.randint(0, columns)\n",
    "    params[\"i\"] = i + 1\n",
    "    params[\"j\"] = j + 1\n",
    "\n",
    "    e = Exercise(MarkdownBlock(m, params))\n",
    "    e.add_answer(sp.simplify(matrix[i,j]), True, \"Correct!\")\n",
    "    if i < columns and j < rows:\n",
    "        e.add_answer(sp.simplify(matrix[j,i]), False, \"🤔 You seem to have swapped the row and column index.\")\n",
    "    return e\n",
    "    \n",
    "Exercise.write_multiple(generator, 100, \"matrix_indexing\")"
   ]
  },
  {
   "cell_type": "code",
   "execution_count": 130,
   "id": "featured-performer",
   "metadata": {},
   "outputs": [],
   "source": [
    "m = \"\"\"\n",
    "Consider the matrix $A$, how many rows does $A$ have?\n",
    "<p align=\"center\">\n",
    "$A = @a$\n",
    "</p>\n",
    "\"\"\"\n",
    "\n",
    "def generator():\n",
    "    params = {}\n",
    "    rows = np.random.randint(2, 10)\n",
    "    columns = np.random.randint(2, 10)\n",
    "    matrix = sp.randMatrix(rows, columns)\n",
    "    params[\"a\"] = matrix \n",
    "\n",
    "    e = Exercise(MarkdownBlock(m, params))\n",
    "    e.add_answer(sp.simplify(rows), True, \"Correct!\")\n",
    "    if columns >= rows:\n",
    "        e.add_answer(sp.simplify(columns), False, \"🤔 Nope, that's the amount of columns.\")\n",
    "    return e\n",
    "    \n",
    "Exercise.write_multiple(generator, 100, \"matrix_rows\")"
   ]
  },
  {
   "cell_type": "code",
   "execution_count": 138,
   "id": "aging-gibraltar",
   "metadata": {},
   "outputs": [],
   "source": [
    "m = \"\"\"\n",
    "Consider the matrix $A$, how many values does $A$ contain?\n",
    "<p align=\"center\">\n",
    "$A = @a$\n",
    "</p>\n",
    "\"\"\"\n",
    "\n",
    "def generator():\n",
    "    params = {}\n",
    "    rows = np.random.randint(1, 10)\n",
    "    columns = np.random.randint(1, 10)\n",
    "    matrix = sp.randMatrix(rows, columns)\n",
    "    params[\"a\"] = matrix \n",
    "    ans = rows * columns\n",
    "    params[\"ans\"] = ans\n",
    "    params[\"i\"] = rows\n",
    "    params[\"j\"] = columns\n",
    "\n",
    "    e = Exercise(MarkdownBlock(m, params))\n",
    "    e.add_answer(sp.simplify(rows*columns), True, MarkdownBlock(\"Correct! The matrix has $@i$ rows and $@j$ columns, $@i \\cdot @j = @ans$ values\", params))\n",
    "    e.add_default_feedback(MarkdownBlock(\"Hint: The matrix has $@i$ rows and $@j$ columns.\", params))\n",
    "    return e\n",
    "    \n",
    "Exercise.write_multiple(generator, 100, \"matrix_entries\")"
   ]
  },
  {
   "cell_type": "code",
   "execution_count": 232,
   "id": "documented-rebecca",
   "metadata": {},
   "outputs": [],
   "source": [
    "from helpers import *\n",
    "import random\n",
    "\n",
    "m = \"\"\"\n",
    "Place the following values at the right positions in a matrix:\n",
    "\n",
    "<p align=\"center\">\n",
    "    ${values}$\n",
    "</p>\n",
    "\"\"\"\n",
    "def generator():\n",
    "    params = {}\n",
    "    character = \"a\"\n",
    "    rows = np.random.randint(2,4)\n",
    "    columns = np.random.randint(1,3)\n",
    "    araw = [[[Symbol(f\"{{{character}}}_{{{i+1}, {j+1}}}\"), np.random.randint(0, 100)] for j in range(columns)] for i in range(rows)]\n",
    "    for r in araw:\n",
    "        random.shuffle(r)\n",
    "    random.shuffle(araw)\n",
    "    a = sp.Matrix(araw)\n",
    "    \n",
    "    v = \"\"\n",
    "    ans = np.empty((rows, columns), dtype=int)\n",
    "    for i, row in enumerate(araw):\n",
    "        for j, col in enumerate(row):\n",
    "            v = v + f\"{latex(col[0])} = {col[1]}, \" \n",
    "            ans[i][j] = col[1]\n",
    "    \n",
    "    # remove trailing space (latex wrapping should be tight e.g. $a,$ instead of $a, $) and comma ($a$ instead of $a,$)\n",
    "    v = v[:-2]\n",
    "    e = Exercise(MarkdownBlock(m.format(values=v), params))\n",
    "    e.add_answer(sp.Matrix(ans), True, \"Indeed\")\n",
    "    return e\n",
    "\n",
    "Exercise.write_multiple(generator, 100, \"values_in_matrix\")"
   ]
  },
  {
   "cell_type": "code",
   "execution_count": 5,
   "id": "outdoor-triangle",
   "metadata": {},
   "outputs": [],
   "source": [
    "m = r\"\"\"\n",
    "The trace of an $n \\times n$ square matrix $A$ is defined as:\n",
    "\n",
    "$$tr(A) = \\sum_{i=1}^{n} a_{i,i} = a_{1,1} + a_{2, 2} + \\cdots + a_{n,n}$$\n",
    "\n",
    "Informally: \"the sum of the diagonal elements of A\"\n",
    "\n",
    "$$\n",
    "A = \\begin{bmatrix} \n",
    "    \\bold{a_{1,1}} &  & & \\\\\n",
    "     & \\bold{a_{2,2}} & & \\\\\n",
    "     &  & \\ddots & \\\\\n",
    "     &        & & \\bold{a_{n,n}}\n",
    "    \\end{bmatrix}\n",
    "$$\n",
    "\n",
    "Compute $tr(A)$ for $A$\n",
    "\n",
    "$$A = @a$$\n",
    "\"\"\"\n",
    "def generator():\n",
    "    params = {}\n",
    "    \n",
    "    dim = np.random.randint(1, 5)\n",
    "    a = sp.randMatrix(dim, min=0, max=20)\n",
    "    params[\"a\"] = a\n",
    "    \n",
    "    e = Exercise(MarkdownBlock(m, params))\n",
    "    diagonal = np.array(a.diagonal().tolist()).flatten()\n",
    "    v = \" \"\n",
    "    for value in diagonal:\n",
    "        v = v + str(value) + \" + \"\n",
    "    v = v[:-2]\n",
    "    params[\"ans\"] = a.trace().doit()\n",
    "    params[\"d\"] = v\n",
    "    e.add_answer(params[\"ans\"], True, MarkdownBlock(\"Indeed $tr(A) = {d} = @ans$\".format(d=v), params))\n",
    "    return e\n",
    "\n",
    "Exercise.write_multiple(generator, 10, \"trace\")"
   ]
  },
  {
   "cell_type": "code",
   "execution_count": null,
   "id": "metric-bridges",
   "metadata": {},
   "outputs": [],
   "source": []
  },
  {
   "cell_type": "code",
   "execution_count": 18,
   "id": "weighted-radio",
   "metadata": {},
   "outputs": [],
   "source": [
    "m = r\"\"\"\n",
    "The dot product of two vectors $a = \\begin{bmatrix} a_{1} & a_{2} & \\cdots & a_{n} \\end{bmatrix}$ and $b = \\begin{bmatrix} b_{1} & b_{2} & \\cdots & b_{n} \\end{bmatrix}$ is defined as:\n",
    "\n",
    "$$a \\cdot b = \\sum_{i=1}^{n} a_{i}b_{i} = a_{1}b_{1} + a_{2}b_{2} + \\cdots + a_{n}b_{n}$$\n",
    "\n",
    "Compute $a \\cdot b$ for $a = @a1$ and $b = @b1$.\n",
    "\"\"\"\n",
    "def generator():\n",
    "    params = {}\n",
    "    params[\"a1\"] = sp.randMatrix(1, 4, min=0, max=10)\n",
    "    params[\"b1\"] = sp.randMatrix(1, 4, min=0, max=10)\n",
    "    \n",
    "    e = Exercise(MarkdownBlock(m, params))\n",
    "    e.add_answer(0, True, \"Yes\")\n",
    "    return e\n",
    "\n",
    "Exercise.write_multiple(generator, 100, \"dot_product\")"
   ]
  },
  {
   "cell_type": "code",
   "execution_count": 42,
   "id": "unable-speaker",
   "metadata": {},
   "outputs": [],
   "source": [
    "m = r\"\"\"\n",
    "The cosine similarity between two vectors $a = \\begin{bmatrix} a_{1} & a_{2} & \\cdots & a_{n} \\end{bmatrix}$ and $b = \\begin{bmatrix} b_{1} & b_{2} & \\cdots & b_{n} \\end{bmatrix}$ is defined as:\n",
    "\n",
    "$$\\text{similarity} = cos(\\theta) = \\frac{A \\cdot B}{\\|A\\| \\|B\\|} = \\frac{\\sum\\limits_{i=1}^{n} A_{i}B_{i}}{\\sqrt{\\sum\\limits_{i=1}^{n} A_{i}^{2}} \\sqrt{\\sum\\limits_{i=1}^{n} B_{i}^{2}}}$$\n",
    "\n",
    "Compute the cosine similarity between $a = @a1$ and $b = @b1$.\n",
    "\"\"\"\n",
    "def generator():\n",
    "    params = {}\n",
    "    length = np.random.randint(1,4)\n",
    "    a = sp.randMatrix(1, length, min=0, max=10)\n",
    "    b = sp.randMatrix(1, length, min=0, max=10) \n",
    "    params[\"a1\"] = a \n",
    "    params[\"b1\"] = b \n",
    "    params[\"ans\"] = np.dot(a, b.transpose())/(np.linalg.norm(np.array(a, dtype=float))*np.linalg.norm(np.array(b, dtype=float)))\n",
    "#     cos_sim = dot(a, b)/(norm(a)*norm(b))\n",
    "    \n",
    "    e = Exercise(MarkdownBlock(m, params))\n",
    "    e.add_answer(params[\"ans\"], True, \"Yes\")\n",
    "    e.add_default_feedback(MarkdownBlock(\"Answer = @ans\", params))\n",
    "    return e\n",
    "\n",
    "Exercise.write_multiple(generator, 100, \"cosine_similarity\")"
   ]
  },
  {
   "cell_type": "code",
   "execution_count": 99,
   "id": "technical-manhattan",
   "metadata": {},
   "outputs": [
    {
     "name": "stderr",
     "output_type": "stream",
     "text": [
      "<ipython-input-98-0ce4ea47fa12>:45: UserWarning: FixedFormatter should only be used together with FixedLocator\n",
      "  ax.set_xticklabels([i for i in range(0, 9)])\n",
      "<ipython-input-98-0ce4ea47fa12>:46: UserWarning: FixedFormatter should only be used together with FixedLocator\n",
      "  ax.set_yticklabels([i for i in range(0, 9)])\n",
      "<ipython-input-98-0ce4ea47fa12>:56: MatplotlibDeprecationWarning: You are modifying the state of a globally registered colormap. In future versions, you will not be able to modify a registered colormap in-place. To remove this warning, you can make a copy of the colormap first. cmap = copy.copy(mpl.cm.get_cmap(\"viridis\"))\n",
      "  current_cmap.set_bad(color='red')\n"
     ]
    }
   ],
   "source": [
    "m = r\"\"\"\n",
    "Below is a partial application of the kernel $K$ to the image $A$, compute \n",
    "<div class=\"d-flex flex-1 flex-items-center\">\n",
    "$A = $ <img src=\"a.png\" height=\"200\">, $B = $ <img src=\"c.png\" height=\"200\">\n",
    "</div>\n",
    "$@c$\n",
    "\"\"\"\n",
    "def generator():\n",
    "    a = to_binary(nums[np.random.randint(1700)])\n",
    "    \n",
    "    from scipy.ndimage import convolve\n",
    "    c = convolve(a, [\n",
    "        [0, -1, 0],\n",
    "        [-1, 4, -1],\n",
    "        [0, -1, 0]])\n",
    "    c = np.array(c, dtype=float)\n",
    "    c[5,5] = np.nan \n",
    "    \n",
    "    matrix_to_image(a, \"a\", grid=True, values_in_cells=True, axis_indices=True)\n",
    "    matrix_to_image(c, \"c\", grid=True, values_in_cells=True, axis_indices=True)\n",
    "    \n",
    "    params = {}\n",
    "    c = np.array(c, dtype=object)\n",
    "    c[5,5] = sp.Symbol('x')\n",
    "    params[\"c\"] = sp.Matrix(c)\n",
    "    \n",
    "    e = Exercise(MarkdownBlock(m, params))\n",
    "    return e\n",
    "    \n",
    "Exercise.write_multiple(generator, 10, \"convolution\")"
   ]
  },
  {
   "cell_type": "code",
   "execution_count": 70,
   "id": "popular-delay",
   "metadata": {},
   "outputs": [
    {
     "name": "stderr",
     "output_type": "stream",
     "text": [
      "Downloading emnist.zip: 536MB [00:52, 10.7MB/s] \n"
     ]
    }
   ],
   "source": [
    "from emnist import extract_training_samples \n",
    "images, labels = extract_training_samples('letters')"
   ]
  },
  {
   "cell_type": "code",
   "execution_count": 86,
   "id": "nearby-services",
   "metadata": {},
   "outputs": [
    {
     "data": {
      "image/png": "[encoded data removed]",
      "text/plain": [
       "<Figure size 432x288 with 1 Axes>"
      ]
     },
     "metadata": {
      "needs_background": "light"
     },
     "output_type": "display_data"
    },
    {
     "data": {
      "image/png": "[encoded data removed]",
      "text/plain": [
       "<Figure size 432x288 with 1 Axes>"
      ]
     },
     "metadata": {
      "needs_background": "light"
     },
     "output_type": "display_data"
    },
    {
     "data": {
      "image/png": "[encoded data removed]",
      "text/plain": [
       "<Figure size 432x288 with 1 Axes>"
      ]
     },
     "metadata": {
      "needs_background": "light"
     },
     "output_type": "display_data"
    },
    {
     "data": {
      "image/png": "[encoded data removed]",
      "text/plain": [
       "<Figure size 432x288 with 1 Axes>"
      ]
     },
     "metadata": {
      "needs_background": "light"
     },
     "output_type": "display_data"
    },
    {
     "data": {
      "image/png": "[encoded data removed]",
      "text/plain": [
       "<Figure size 432x288 with 1 Axes>"
      ]
     },
     "metadata": {
      "needs_background": "light"
     },
     "output_type": "display_data"
    },
    {
     "data": {
      "image/png": "[encoded data removed]",
      "text/plain": [
       "<Figure size 432x288 with 1 Axes>"
      ]
     },
     "metadata": {
      "needs_background": "light"
     },
     "output_type": "display_data"
    },
    {
     "data": {
      "image/png": "[encoded data removed]",
      "text/plain": [
       "<Figure size 432x288 with 1 Axes>"
      ]
     },
     "metadata": {
      "needs_background": "light"
     },
     "output_type": "display_data"
    },
    {
     "data": {
      "image/png": "[encoded data removed]",
      "text/plain": [
       "<Figure size 432x288 with 1 Axes>"
      ]
     },
     "metadata": {
      "needs_background": "light"
     },
     "output_type": "display_data"
    },
    {
     "data": {
      "image/png": "[encoded data removed]",
      "text/plain": [
       "<Figure size 432x288 with 1 Axes>"
      ]
     },
     "metadata": {
      "needs_background": "light"
     },
     "output_type": "display_data"
    },
    {
     "data": {
      "image/png": "[encoded data removed]",
      "text/plain": [
       "<Figure size 432x288 with 1 Axes>"
      ]
     },
     "metadata": {
      "needs_background": "light"
     },
     "output_type": "display_data"
    }
   ],
   "source": [
    "for i in range(10):\n",
    "    plt.imshow(images[i])\n",
    "    plt.show()"
   ]
  },
  {
   "cell_type": "code",
   "execution_count": 44,
   "id": "casual-fight",
   "metadata": {},
   "outputs": [
    {
     "name": "stdout",
     "output_type": "stream",
     "text": [
      "[[0 0 4 2]\n",
      " [4 2 2 4]\n",
      " [0 0 6 6]]\n",
      "X = (0, 4, 0)\n",
      "Y = (0, 2, 0)\n",
      "U = (4, 2, 6)\n",
      "V = (2, 4, 6)\n"
     ]
    },
    {
     "data": {
      "image/png": "[encoded data removed]",
      "text/plain": [
       "<Figure size 432x288 with 1 Axes>"
      ]
     },
     "metadata": {
      "needs_background": "light"
     },
     "output_type": "display_data"
    }
   ],
   "source": [
    "def draw(x, y): \n",
    "    xPlusy = (abs(x[0]+y[0]),abs(x[1]+y[1]))\n",
    "    array = np.array([[0, 0, x[0], x[1]], \n",
    "                      [x[0], x[1], y[0], y[1]], \n",
    "                      [0, 0, xPlusy[0], xPlusy[1]]])\n",
    "    print(array)\n",
    "    X, Y, U, V = zip(*array)\n",
    "    print(\"X =\",X)\n",
    "    print(\"Y =\",Y)\n",
    "    print(\"U =\",U)\n",
    "    print(\"V =\",V)\n",
    "    plt.figure()\n",
    "    plt.ylabel('Y-axis')\n",
    "    plt.xlabel('X-axis')\n",
    "    ax = plt.gca()\n",
    "    ax.quiver(X, Y, U, V, angles='xy', scale_units='xy',color=['r','b','g'],scale=1)\n",
    "    ax.set_xlim([0, 10])\n",
    "    ax.set_ylim([0, 10])\n",
    "    plt.draw()\n",
    "    plt.show()\n",
    "draw([4,2],[2,4])"
   ]
  },
  {
   "cell_type": "code",
   "execution_count": null,
   "id": "iraqi-resident",
   "metadata": {},
   "outputs": [],
   "source": []
  }
 ],
 "metadata": {
  "kernelspec": {
   "display_name": "exercise",
   "language": "python",
   "name": "exercise"
  },
  "language_info": {
   "codemirror_mode": {
    "name": "ipython",
    "version": 3
   },
   "file_extension": ".py",
   "mimetype": "text/x-python",
   "name": "python",
   "nbconvert_exporter": "python",
   "pygments_lexer": "ipython3",
   "version": "3.9.4"
  }
 },
 "nbformat": 4,
 "nbformat_minor": 5
}
