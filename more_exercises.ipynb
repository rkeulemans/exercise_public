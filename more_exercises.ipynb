{
 "cells": [
  {
   "cell_type": "code",
   "execution_count": 2,
   "id": "complimentary-transcript",
   "metadata": {},
   "outputs": [],
   "source": [
    "from sympy.matrices import Matrix \n",
    "import sympy as sp\n",
    "import numpy as np\n",
    "from Exercise import Exercise, MarkdownBlock\n",
    "\n",
    "from process_latex import process_sympy \n",
    "\n",
    "try:\n",
    "    from config import URL, TOKEN\n",
    "except:\n",
    "    None\n",
    "\n",
    "# TODO: replace with supplied strings\n",
    "Exercise.URL = URL\n",
    "Exercise.TOKEN = TOKEN"
   ]
  },
  {
   "cell_type": "code",
   "execution_count": 2,
   "id": "elder-fighter",
   "metadata": {},
   "outputs": [
    {
     "data": {
      "text/html": [
       "<p>What is $\\left[\\begin{matrix}0\\\\1\\\\2\\\\3\\end{matrix}\\right] + \\left[\\begin{matrix}3\\\\2\\\\1\\\\0\\end{matrix}\\right]$?</p>"
      ],
      "text/plain": [
       "<IPython.core.display.HTML object>"
      ]
     },
     "metadata": {},
     "output_type": "display_data"
    }
   ],
   "source": [
    "m = r\"What is $@a + @b$?\"\n",
    "\n",
    "params = {}\n",
    "params[\"a\"] = sp.Matrix(np.arange(4))\n",
    "params[\"b\"] = sp.Matrix(np.flip(np.arange(4)))\n",
    "\n",
    "e = Exercise(MarkdownBlock(m, params))\n",
    "e.add_answer(params[\"a\"] + params[\"b\"], True, \"Correct!\")\n",
    "e.display()\n",
    "\n",
    "e.write(\"vector_addition\")\n",
    "# e.play()"
   ]
  },
  {
   "cell_type": "code",
   "execution_count": 3,
   "id": "chief-enemy",
   "metadata": {},
   "outputs": [
    {
     "data": {
      "text/html": [
       "<p>What is $\\operatorname{tr}\\left(\\left[\\begin{matrix}0 &amp; 1 &amp; 2 &amp; 3\\\\4 &amp; 5 &amp; 6 &amp; 7\\\\8 &amp; 9 &amp; 10 &amp; 11\\\\12 &amp; 13 &amp; 14 &amp; 15\\end{matrix}\\right] \\right)$?</p>"
      ],
      "text/plain": [
       "<IPython.core.display.HTML object>"
      ]
     },
     "metadata": {},
     "output_type": "display_data"
    },
    {
     "data": {
      "text/html": [
       "\n",
       "        <iframe\n",
       "            width=\"500\"\n",
       "            height=\"350\"\n",
       "            src=\"https://www.mscthesis.nl/preview?id=40f2c601-37f3-4c55-a3be-58aaeb71211c\"\n",
       "            frameborder=\"0\"\n",
       "            allowfullscreen\n",
       "        ></iframe>\n",
       "        "
      ],
      "text/plain": [
       "<IPython.lib.display.IFrame at 0x11204f820>"
      ]
     },
     "metadata": {},
     "output_type": "display_data"
    },
    {
     "name": "stdout",
     "output_type": "stream",
     "text": [
      "Published succesfully, preview at: https://www.mscthesis.nl/preview?id=40f2c601-37f3-4c55-a3be-58aaeb71211c\n"
     ]
    }
   ],
   "source": [
    "m = r\"What is $@trace$?\"\n",
    "\n",
    "params = {}\n",
    "params[\"trace\"] = sp.Trace(sp.Matrix(np.arange(16).reshape((4,4))))\n",
    "\n",
    "e = Exercise(MarkdownBlock(m, params))\n",
    "\n",
    "ans = params[\"trace\"].doit()\n",
    "\n",
    "e.add_answer(ans, True, MarkdownBlock(\"Correct! $@trace$\", params))\n",
    "e.display()\n",
    "\n",
    "e.write(\"trace\")\n",
    "e.play()"
   ]
  },
  {
   "cell_type": "code",
   "execution_count": 31,
   "id": "included-custody",
   "metadata": {},
   "outputs": [
    {
     "data": {
      "text/html": [
       "<p>What is $\\left(\\left[\\begin{matrix}-1 &amp; 1.5\\\\1 &amp; -1\\end{matrix}\\right]\\right)^{-1}$?</p>"
      ],
      "text/plain": [
       "<IPython.core.display.HTML object>"
      ]
     },
     "metadata": {},
     "output_type": "display_data"
    },
    {
     "data": {
      "text/html": [
       "\n",
       "        <iframe\n",
       "            width=\"500\"\n",
       "            height=\"350\"\n",
       "            src=\"https://www.mscthesis.nl/preview?id=8a20c96d-042e-46ed-8db6-eca05654145e\"\n",
       "            frameborder=\"0\"\n",
       "            allowfullscreen\n",
       "        ></iframe>\n",
       "        "
      ],
      "text/plain": [
       "<IPython.lib.display.IFrame at 0x105486df0>"
      ]
     },
     "metadata": {},
     "output_type": "display_data"
    },
    {
     "name": "stdout",
     "output_type": "stream",
     "text": [
      "Published succesfully, preview at: https://www.mscthesis.nl/preview?id=8a20c96d-042e-46ed-8db6-eca05654145e\n"
     ]
    }
   ],
   "source": [
    "m = r\"What is $@inverse$?\"\n",
    "\n",
    "params = {}\n",
    "params[\"inverse\"] = sp.Inverse(sp.Matrix([[-1, 3/2], [1, -1]]))\n",
    "\n",
    "e = Exercise(MarkdownBlock(m, params))\n",
    "\n",
    "ans = params[\"inverse\"].doit()\n",
    "params[\"ans\"] = ans\n",
    "\n",
    "e.add_answer(ans, True, MarkdownBlock(\"Correct! $@inverse = @ans$\", params))\n",
    "e.add_default_feedback(MarkdownBlock(\"Correct! $@inverse = @ans$\", params))\n",
    "e.display()\n",
    "\n",
    "e.write(\"inverse\")\n",
    "e.play()"
   ]
  },
  {
   "cell_type": "code",
   "execution_count": 6,
   "id": "blank-asian",
   "metadata": {},
   "outputs": [],
   "source": [
    "def generator():\n",
    "    m = r\"What is $@a + @b$?\"\n",
    "    \n",
    "    params = {}\n",
    "    params[\"a\"] = np.random.randint(0, 10)\n",
    "    params[\"b\"] = np.random.randint(10, 20)\n",
    "    params[\"ans\"] = params[\"a\"] + params[\"b\"]\n",
    "\n",
    "    e = Exercise(MarkdownBlock(m, params))\n",
    "    e.add_answer(params[\"ans\"], True, MarkdownBlock(\"Yes!\", params))\n",
    "    e.add_default_feedback(MarkdownBlock(\"No!\", params))\n",
    "    \n",
    "    return e\n",
    "\n",
    "Exercise.write_multiple(generator, 100, \"int_param\")"
   ]
  },
  {
   "cell_type": "code",
   "execution_count": null,
   "id": "laughing-bishop",
   "metadata": {},
   "outputs": [],
   "source": []
  }
 ],
 "metadata": {
  "kernelspec": {
   "display_name": "exercise",
   "language": "python",
   "name": "exercise"
  },
  "language_info": {
   "codemirror_mode": {
    "name": "ipython",
    "version": 3
   },
   "file_extension": ".py",
   "mimetype": "text/x-python",
   "name": "python",
   "nbconvert_exporter": "python",
   "pygments_lexer": "ipython3",
   "version": "3.9.4"
  }
 },
 "nbformat": 4,
 "nbformat_minor": 5
}
