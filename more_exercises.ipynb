{
 "cells": [
  {
   "cell_type": "code",
   "execution_count": 25,
   "id": "communist-squad",
   "metadata": {},
   "outputs": [],
   "source": [
    "from sympy.matrices import Matrix \n",
    "import sympy as sp\n",
    "import numpy as np\n",
    "from Exercise import Exercise, MarkdownBlock\n",
    "\n",
    "import math\n",
    "import matplotlib.pyplot as plt\n",
    "plt.rcParams.update({'font.size': 20})\n",
    "\n",
    "from process_latex import process_sympy \n",
    "\n",
    "try:\n",
    "    from config import URL, TOKEN\n",
    "except:\n",
    "    None\n",
    "\n",
    "# TODO: replace with supplied strings\n",
    "Exercise.URL = URL\n",
    "Exercise.TOKEN = TOKEN"
   ]
  },
  {
   "cell_type": "code",
   "execution_count": null,
   "id": "appropriate-quick",
   "metadata": {},
   "outputs": [],
   "source": [
    "m = r\"What is $@a + @b$?\"\n",
    "\n",
    "params = {}\n",
    "params[\"a\"] = sp.Matrix(np.arange(4))\n",
    "params[\"b\"] = sp.Matrix(np.flip(np.arange(4)))\n",
    "\n",
    "e = Exercise(MarkdownBlock(m, params))\n",
    "e.add_answer(params[\"a\"] + params[\"b\"], True, \"Correct!\")\n",
    "e.display()\n",
    "\n",
    "e.write(\"vector_addition\")\n",
    "e.play()"
   ]
  },
  {
   "cell_type": "code",
   "execution_count": null,
   "id": "olympic-insider",
   "metadata": {},
   "outputs": [],
   "source": [
    "m = r\"What is $@trace$?\"\n",
    "\n",
    "params = {}\n",
    "params[\"trace\"] = sp.Trace(sp.Matrix(np.arange(16).reshape((4,4))))\n",
    "\n",
    "e = Exercise(MarkdownBlock(m, params))\n",
    "\n",
    "ans = params[\"trace\"].doit()\n",
    "\n",
    "e.add_answer(ans, True, MarkdownBlock(\"Correct! $@trace$\", params))\n",
    "e.display()\n",
    "\n",
    "e.write(\"trace\")\n",
    "e.play()"
   ]
  },
  {
   "cell_type": "code",
   "execution_count": null,
   "id": "clinical-wedding",
   "metadata": {},
   "outputs": [],
   "source": [
    "m = r\"What is $@inverse$?\"\n",
    "\n",
    "params = {}\n",
    "params[\"inverse\"] = sp.Inverse(sp.Matrix([[-1, 3/2], [1, -1]]))\n",
    "\n",
    "e = Exercise(MarkdownBlock(m, params))\n",
    "\n",
    "ans = params[\"inverse\"].doit()\n",
    "params[\"ans\"] = ans\n",
    "\n",
    "e.add_answer(ans, True, MarkdownBlock(\"Correct! $@inverse = @ans$\", params))\n",
    "e.add_default_feedback(MarkdownBlock(\"Correct! $@inverse = @ans$\", params))\n",
    "e.display()\n",
    "\n",
    "e.write(\"inverse\")\n",
    "e.play()"
   ]
  },
  {
   "cell_type": "code",
   "execution_count": null,
   "id": "virtual-garbage",
   "metadata": {},
   "outputs": [],
   "source": [
    "def generator():\n",
    "    m = r\"What is $@a + @b$?\"\n",
    "    \n",
    "    params = {}\n",
    "    params[\"a\"] = np.random.randint(0, 10)\n",
    "    params[\"b\"] = np.random.randint(10, 20)\n",
    "    params[\"ans\"] = params[\"a\"] + params[\"b\"]\n",
    "\n",
    "    e = Exercise(MarkdownBlock(m, params))\n",
    "    e.add_answer(params[\"ans\"], True, MarkdownBlock(\"Yes!\", params))\n",
    "    e.add_default_feedback(MarkdownBlock(\"No!\", params))\n",
    "    \n",
    "    return e\n",
    "\n",
    "Exercise.write_multiple(generator, 100, \"int_param\")"
   ]
  },
  {
   "cell_type": "code",
   "execution_count": 27,
   "id": "marked-bobby",
   "metadata": {},
   "outputs": [],
   "source": [
    "from sklearn.datasets import load_digits\n",
    "digits = load_digits()\n",
    "\n",
    "sorted_indices = np.argsort(digits.target)\n",
    "nums = digits.images[sorted_indices]"
   ]
  },
  {
   "cell_type": "code",
   "execution_count": 49,
   "id": "consecutive-thousand",
   "metadata": {},
   "outputs": [],
   "source": [
    "def to_binary(array):\n",
    "    return np.where(array > 7, 1, 0)\n",
    "\n",
    "def show(array, filename, binary = True):\n",
    "    data = to_binary(array) if binary else array \n",
    "    fig = plt.figure()\n",
    "    plt.matshow(data, cmap='gray_r')\n",
    "    plt.axis('off')\n",
    "    plt.savefig(\"{}.png\".format(filename), dpi=200, bbox_inches='tight')\n",
    "    plt.close(fig)\n",
    "\n",
    "# f, axarr = plt.subplots(1,10)\n",
    "# unit = math.floor(len(nums)/10)\n",
    "# start_offset = math.floor((1/2)*unit)\n",
    "# for i in range(0, 10):\n",
    "#     axarr[i].axis('off')\n",
    "#     axarr[i].matshow(np.where(nums[start_offset + i*unit + 1] > 7, 1, 0), cmap=\"gray_r\")\n",
    "\n",
    "# plt.savefig(\"all_digits.png\", dpi=500, bbox_inches='tight') \n",
    "# show(nums[7], \"zero\")\n",
    "# show(nums[1500], \"eight\")\n",
    "\n",
    "def matrix_to_image(matrix, filename, binary=True, grid=True, values_in_cells=False, axis_indices=True, axis_titles=False):\n",
    "    fig, ax = plt.subplots()\n",
    "    data = to_binary(matrix) if binary else data\n",
    "    \n",
    "    if grid:\n",
    "        # Minor ticks\n",
    "        ax.set_xticks(np.arange(-.5, 10, 1), minor=True)\n",
    "        ax.set_yticks(np.arange(-.5, 10, 1), minor=True)\n",
    "        ax.grid(which='minor', color='black', linestyle='-', linewidth=2)\n",
    "    else:\n",
    "        plt.asix('off')\n",
    "    \n",
    "    if values_in_cells:\n",
    "        import matplotlib.patheffects as pe\n",
    "        for (i, j), z in np.ndenumerate(data):\n",
    "            ax.text(j, i, '{}'.format(int(z)), ha='center', va='center', path_effects=[pe.withStroke(linewidth=4, foreground=\"white\")]) \n",
    "        \n",
    "    if axis_indices: \n",
    "        ax.set_xticklabels([i for i in range(0, 9)])\n",
    "        ax.set_yticklabels([i for i in range(0, 9)])\n",
    "        \n",
    "    if axis_titles:\n",
    "        ax.set_xlabel(\"column index\")\n",
    "        ax.xaxis.set_label_position('top')\n",
    "\n",
    "        ax.set_ylabel(\"row index\")\n",
    "        ax.yaxis.set_label_position('left') \n",
    "\n",
    "    ax.matshow(data, cmap='gray_r')\n",
    "    \n",
    "    plt.savefig(\"{}.png\".format(filename), dpi=200, bbox_inches='tight')\n",
    "    plt.close(fig)"
   ]
  },
  {
   "cell_type": "code",
   "execution_count": 54,
   "id": "demanding-grant",
   "metadata": {},
   "outputs": [
    {
     "name": "stderr",
     "output_type": "stream",
     "text": [
      "<ipython-input-49-62794dc102a0>:41: UserWarning: FixedFormatter should only be used together with FixedLocator\n",
      "  ax.set_xticklabels([i for i in range(0, 9)])\n",
      "<ipython-input-49-62794dc102a0>:42: UserWarning: FixedFormatter should only be used together with FixedLocator\n",
      "  ax.set_yticklabels([i for i in range(0, 9)])\n"
     ]
    }
   ],
   "source": [
    "m = \"\"\"\n",
    "Given the matrices\n",
    "\n",
    "<div class=\"d-flex flex-1 flex-items-center\">\n",
    "$A = $ <img src=\"a.png\" height=\"150\">, $B = $ <img src=\"b.png\" height=\"150\">\n",
    "</div>\n",
    "\n",
    "\n",
    "Frist, determine $D = |A - B|$, then compute $\\sum_{i=1}^{} \\sum_{j=1}{} d_{i,j}$\n",
    "\"\"\"\n",
    "\n",
    "f1 = \"\"\"\n",
    "Correct!\n",
    "\n",
    "$D = $ <img src=\"d.png\" height=\"150\"> \n",
    "\n",
    "$\\sum D = @sum$\n",
    "\"\"\" \n",
    "\n",
    "f2 = \"\"\"\n",
    "<div class=\"d-flex flex-1 flex-items-center\">\n",
    "Hint: $D = $ <img src=\"d.png\" height=\"150\"> \n",
    "</div>\n",
    "\"\"\" \n",
    "def generator():\n",
    "    e = Exercise(m)\n",
    "    # to vector: .reshape(-1, 1)\n",
    "    a = nums[np.random.randint(1700)]\n",
    "    b = nums[np.random.randint(1700)]\n",
    "    d = np.abs(a-b)\n",
    "    matrix_to_image(a, \"a\", binary=True, grid=True, values_in_cells=True, axis_indices=True)\n",
    "    matrix_to_image(b, \"b\", binary=True, grid=True, values_in_cells=True, axis_indices=True)\n",
    "    matrix_to_image(d, \"d\", binary=True, grid=True, values_in_cells=True, axis_indices=True)\n",
    "    \n",
    "    ans = np.sum(d)\n",
    "    e.add_answer(expression=ans, correct=True, feedback=MarkdownBlock(md=f1, params=dict(sum=ans)))\n",
    "    e.add_answer(expression=ans-1, correct=False, feedback=\"You are close, please check your answer\")\n",
    "    e.add_answer(expression=ans+1, correct=False, feedback=\"You are close, please check your answer\")\n",
    "    e.add_default_feedback(feedback=f2)\n",
    "    return e\n",
    "\n",
    "Exercise.write_multiple(generator, 2, \"digit_vectors\")"
   ]
  },
  {
   "cell_type": "code",
   "execution_count": null,
   "id": "arctic-clone",
   "metadata": {},
   "outputs": [],
   "source": [
    "import matplotlib.patheffects as pe\n",
    "def values_in_matrix(ax, array):\n",
    "    for (i, j), z in np.ndenumerate(array):\n",
    "        ax.text(j, i, '{}'.format(int(z)), ha='center', va='center', path_effects=[pe.withStroke(linewidth=4, foreground=\"white\")])\n",
    "\n",
    "from scipy import ndimage, misc\n",
    "import matplotlib.pyplot as plt\n",
    "fig = plt.figure(figsize=(10, 10))\n",
    "# plt.gray()  # show the filtered result in grayscale\n",
    "ax1 = fig.add_subplot(121)  # left side\n",
    "ax2 = fig.add_subplot(122)  # right side\n",
    "ascent = to_binary(nums[516])\n",
    "result = ndimage.sobel(ascent, mode=\"constant\", cval=0.5)\n",
    "values_in_matrix(ax1, ascent)\n",
    "values_in_matrix(ax2, result)\n",
    "print(type(result))\n",
    "ax1.imshow(ascent)\n",
    "ax2.imshow(result)\n",
    "\n",
    "plt.show()"
   ]
  },
  {
   "cell_type": "code",
   "execution_count": 5,
   "id": "developing-mills",
   "metadata": {},
   "outputs": [
    {
     "data": {
      "text/html": [
       "\n",
       "        <iframe\n",
       "            width=\"500\"\n",
       "            height=\"350\"\n",
       "            src=\"https://www.mscthesis.nl/preview?id=3df1ab86-aa3b-4112-ab4d-5b132f337494\"\n",
       "            frameborder=\"0\"\n",
       "            allowfullscreen\n",
       "        ></iframe>\n",
       "        "
      ],
      "text/plain": [
       "<IPython.lib.display.IFrame at 0x110daa6a0>"
      ]
     },
     "metadata": {},
     "output_type": "display_data"
    },
    {
     "name": "stdout",
     "output_type": "stream",
     "text": [
      "Published succesfully, preview at: https://www.mscthesis.nl/preview?id=3df1ab86-aa3b-4112-ab4d-5b132f337494\n"
     ]
    }
   ],
   "source": [
    "Exercise(r\"What is $\\begin{bmatrix} 1 \\\\ 2 \\end{bmatrix} + \\begin{bmatrix} 3 \\\\ 4 \\end{bmatrix}$\").play()"
   ]
  },
  {
   "cell_type": "code",
   "execution_count": 23,
   "id": "toxic-webster",
   "metadata": {},
   "outputs": [
    {
     "data": {
      "text/plain": [
       "'Hello Matrix([[2], [5], [8], [3]])'"
      ]
     },
     "execution_count": 23,
     "metadata": {},
     "output_type": "execute_result"
    }
   ],
   "source": [
    "v1 = sp.randMatrix(r=4, c=1, min=0, max=10)\n",
    "sp.latex(v1)\n",
    "f\"Hello {v1}\""
   ]
  },
  {
   "cell_type": "code",
   "execution_count": 18,
   "id": "compressed-encoding",
   "metadata": {},
   "outputs": [
    {
     "data": {
      "text/plain": [
       "\u001b[0;31mSignature:\u001b[0m\n",
       "\u001b[0msp\u001b[0m\u001b[0;34m.\u001b[0m\u001b[0mrandMatrix\u001b[0m\u001b[0;34m(\u001b[0m\u001b[0;34m\u001b[0m\n",
       "\u001b[0;34m\u001b[0m    \u001b[0mr\u001b[0m\u001b[0;34m,\u001b[0m\u001b[0;34m\u001b[0m\n",
       "\u001b[0;34m\u001b[0m    \u001b[0mc\u001b[0m\u001b[0;34m=\u001b[0m\u001b[0;32mNone\u001b[0m\u001b[0;34m,\u001b[0m\u001b[0;34m\u001b[0m\n",
       "\u001b[0;34m\u001b[0m    \u001b[0mmin\u001b[0m\u001b[0;34m=\u001b[0m\u001b[0;36m0\u001b[0m\u001b[0;34m,\u001b[0m\u001b[0;34m\u001b[0m\n",
       "\u001b[0;34m\u001b[0m    \u001b[0mmax\u001b[0m\u001b[0;34m=\u001b[0m\u001b[0;36m99\u001b[0m\u001b[0;34m,\u001b[0m\u001b[0;34m\u001b[0m\n",
       "\u001b[0;34m\u001b[0m    \u001b[0mseed\u001b[0m\u001b[0;34m=\u001b[0m\u001b[0;32mNone\u001b[0m\u001b[0;34m,\u001b[0m\u001b[0;34m\u001b[0m\n",
       "\u001b[0;34m\u001b[0m    \u001b[0msymmetric\u001b[0m\u001b[0;34m=\u001b[0m\u001b[0;32mFalse\u001b[0m\u001b[0;34m,\u001b[0m\u001b[0;34m\u001b[0m\n",
       "\u001b[0;34m\u001b[0m    \u001b[0mpercent\u001b[0m\u001b[0;34m=\u001b[0m\u001b[0;36m100\u001b[0m\u001b[0;34m,\u001b[0m\u001b[0;34m\u001b[0m\n",
       "\u001b[0;34m\u001b[0m    \u001b[0mprng\u001b[0m\u001b[0;34m=\u001b[0m\u001b[0;32mNone\u001b[0m\u001b[0;34m,\u001b[0m\u001b[0;34m\u001b[0m\n",
       "\u001b[0;34m\u001b[0m\u001b[0;34m)\u001b[0m\u001b[0;34m\u001b[0m\u001b[0;34m\u001b[0m\u001b[0m\n",
       "\u001b[0;31mDocstring:\u001b[0m\n",
       "Create random matrix with dimensions ``r`` x ``c``. If ``c`` is omitted\n",
       "the matrix will be square. If ``symmetric`` is True the matrix must be\n",
       "square. If ``percent`` is less than 100 then only approximately the given\n",
       "percentage of elements will be non-zero.\n",
       "\n",
       "The pseudo-random number generator used to generate matrix is chosen in the\n",
       "following way.\n",
       "\n",
       "* If ``prng`` is supplied, it will be used as random number generator.\n",
       "  It should be an instance of ``random.Random``, or at least have\n",
       "  ``randint`` and ``shuffle`` methods with same signatures.\n",
       "* if ``prng`` is not supplied but ``seed`` is supplied, then new\n",
       "  ``random.Random`` with given ``seed`` will be created;\n",
       "* otherwise, a new ``random.Random`` with default seed will be used.\n",
       "\n",
       "Examples\n",
       "========\n",
       "\n",
       ">>> from sympy.matrices import randMatrix\n",
       ">>> randMatrix(3) # doctest:+SKIP\n",
       "[25, 45, 27]\n",
       "[44, 54,  9]\n",
       "[23, 96, 46]\n",
       ">>> randMatrix(3, 2) # doctest:+SKIP\n",
       "[87, 29]\n",
       "[23, 37]\n",
       "[90, 26]\n",
       ">>> randMatrix(3, 3, 0, 2) # doctest:+SKIP\n",
       "[0, 2, 0]\n",
       "[2, 0, 1]\n",
       "[0, 0, 1]\n",
       ">>> randMatrix(3, symmetric=True) # doctest:+SKIP\n",
       "[85, 26, 29]\n",
       "[26, 71, 43]\n",
       "[29, 43, 57]\n",
       ">>> A = randMatrix(3, seed=1)\n",
       ">>> B = randMatrix(3, seed=2)\n",
       ">>> A == B\n",
       "False\n",
       ">>> A == randMatrix(3, seed=1)\n",
       "True\n",
       ">>> randMatrix(3, symmetric=True, percent=50) # doctest:+SKIP\n",
       "[77, 70,  0],\n",
       "[70,  0,  0],\n",
       "[ 0,  0, 88]\n",
       "\u001b[0;31mFile:\u001b[0m      ~/Projects/exercise_public/exercise/lib/python3.9/site-packages/sympy/matrices/dense.py\n",
       "\u001b[0;31mType:\u001b[0m      function\n"
      ]
     },
     "metadata": {},
     "output_type": "display_data"
    }
   ],
   "source": [
    "sp.randMatrix?"
   ]
  },
  {
   "cell_type": "code",
   "execution_count": null,
   "id": "collective-configuration",
   "metadata": {},
   "outputs": [],
   "source": [
    "m = sp.randMatrix"
   ]
  },
  {
   "cell_type": "code",
   "execution_count": null,
   "id": "thick-mission",
   "metadata": {},
   "outputs": [],
   "source": [
    "m = sp.randMatrix(random.Random"
   ]
  },
  {
   "cell_type": "code",
   "execution_count": null,
   "id": "twenty-bristol",
   "metadata": {},
   "outputs": [],
   "source": [
    "m = sp.randMatrix"
   ]
  },
  {
   "cell_type": "code",
   "execution_count": null,
   "id": "fatty-breast",
   "metadata": {},
   "outputs": [],
   "source": []
  }
 ],
 "metadata": {
  "kernelspec": {
   "display_name": "exercise",
   "language": "python",
   "name": "exercise"
  },
  "language_info": {
   "codemirror_mode": {
    "name": "ipython",
    "version": 3
   },
   "file_extension": ".py",
   "mimetype": "text/x-python",
   "name": "python",
   "nbconvert_exporter": "python",
   "pygments_lexer": "ipython3",
   "version": "3.9.4"
  }
 },
 "nbformat": 4,
 "nbformat_minor": 5
}
